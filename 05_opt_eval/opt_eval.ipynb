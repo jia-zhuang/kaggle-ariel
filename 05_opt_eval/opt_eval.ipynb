{
 "cells": [
  {
   "cell_type": "code",
   "execution_count": 8,
   "id": "8a0388de-ff30-4b04-9ffc-4d9d4ead270c",
   "metadata": {},
   "outputs": [],
   "source": [
    "import os\n",
    "import json\n",
    "\n",
    "from functools import partial\n",
    "\n",
    "from pathlib import Path\n",
    "import pandas as pd\n",
    "import numpy as np\n",
    "import polars as pl\n",
    "import matplotlib.pyplot as plt\n",
    "%matplotlib inline\n",
    "import seaborn as sns\n",
    "\n",
    "from astropy.stats import sigma_clip\n",
    "\n",
    "from scipy.signal import savgol_filter\n",
    "from scipy.optimize import minimize\n",
    "\n",
    "from tqdm.auto import tqdm\n",
    "\n",
    "import scipy\n",
    "\n",
    "from sklearn.linear_model import Ridge, LinearRegression\n",
    "\n",
    "from sklearn.model_selection import cross_val_predict\n",
    "from sklearn.metrics import mean_squared_error, r2_score\n",
    "\n",
    "from xgboost import XGBRegressor\n",
    "\n",
    "from concurrent.futures import ProcessPoolExecutor"
   ]
  },
  {
   "cell_type": "markdown",
   "id": "7ae1dba6-1360-4d4f-92e0-9563cde6b308",
   "metadata": {},
   "source": [
    "## Load Data"
   ]
  },
  {
   "cell_type": "code",
   "execution_count": 2,
   "id": "76af1f00-cf7a-403a-8f4b-77a3e9217d63",
   "metadata": {},
   "outputs": [],
   "source": [
    "nums_parallel = 48\n",
    "DATA_ROOT = '../input/'\n",
    "cut_inf, cut_sup = 39, 321"
   ]
  },
  {
   "cell_type": "code",
   "execution_count": 4,
   "id": "1a24560b-fb87-485e-827a-481af9553e14",
   "metadata": {},
   "outputs": [
    {
     "data": {
      "text/plain": [
       "((673, 67500), (673, 5625, 282), (673, 5625))"
      ]
     },
     "execution_count": 4,
     "metadata": {},
     "output_type": "execute_result"
    }
   ],
   "source": [
    "train_processed = np.load('trim_train_processed.npz')\n",
    "trim_f_raw_train, trim_a_raw_train = train_processed['f_raw_train'], train_processed['a_raw_train']\n",
    "\n",
    "trim_a_raw_train = trim_a_raw_train[:, :, cut_inf:cut_sup]\n",
    "trim_a_raw_train_mean = trim_a_raw_train.mean(axis=-1)\n",
    "\n",
    "trim_f_raw_train.shape, trim_a_raw_train.shape, trim_a_raw_train_mean.shape"
   ]
  },
  {
   "cell_type": "code",
   "execution_count": 6,
   "id": "092d26fb-0380-4bfc-a077-8cfbc2db3673",
   "metadata": {},
   "outputs": [],
   "source": [
    "train_label_df = pd.read_csv(f'{DATA_ROOT}/train_labels.csv', index_col='planet_id')\n",
    "wavelengths = pd.read_csv(f'{DATA_ROOT}/wavelengths.csv')\n",
    "axis_info = pd.read_parquet(f'{DATA_ROOT}/axis_info.parquet')"
   ]
  },
  {
   "cell_type": "code",
   "execution_count": 5,
   "id": "2120d7f0-d3d8-4dfd-807b-2450466ab1da",
   "metadata": {},
   "outputs": [],
   "source": [
    "train_adc_df = pd.read_pickle('train_adc_info_with_transit_zone2.pkl')"
   ]
  },
  {
   "cell_type": "code",
   "execution_count": 7,
   "id": "a5708d4b-87ba-4c46-94fb-71c1d49fbd41",
   "metadata": {
    "scrolled": true
   },
   "outputs": [
    {
     "data": {
      "text/html": [
       "<div>\n",
       "<style scoped>\n",
       "    .dataframe tbody tr th:only-of-type {\n",
       "        vertical-align: middle;\n",
       "    }\n",
       "\n",
       "    .dataframe tbody tr th {\n",
       "        vertical-align: top;\n",
       "    }\n",
       "\n",
       "    .dataframe thead th {\n",
       "        text-align: right;\n",
       "    }\n",
       "</style>\n",
       "<table border=\"1\" class=\"dataframe\">\n",
       "  <thead>\n",
       "    <tr style=\"text-align: right;\">\n",
       "      <th></th>\n",
       "      <th>FGS1_adc_offset</th>\n",
       "      <th>FGS1_adc_gain</th>\n",
       "      <th>AIRS-CH0_adc_offset</th>\n",
       "      <th>AIRS-CH0_adc_gain</th>\n",
       "      <th>star</th>\n",
       "      <th>breakpoints</th>\n",
       "      <th>r0</th>\n",
       "      <th>r1</th>\n",
       "      <th>f_depth</th>\n",
       "      <th>a_depth</th>\n",
       "      <th>all_depth</th>\n",
       "      <th>f_depth2</th>\n",
       "      <th>a_wv_depth</th>\n",
       "      <th>trim_f_depth</th>\n",
       "      <th>trim_a_depth</th>\n",
       "      <th>trim_a_wv_depth</th>\n",
       "      <th>a_label_mean</th>\n",
       "      <th>ariel_only_a_depth</th>\n",
       "      <th>ariel_only_update_a_depth</th>\n",
       "      <th>ariel_only_update_a_depth2</th>\n",
       "    </tr>\n",
       "    <tr>\n",
       "      <th>planet_id</th>\n",
       "      <th></th>\n",
       "      <th></th>\n",
       "      <th></th>\n",
       "      <th></th>\n",
       "      <th></th>\n",
       "      <th></th>\n",
       "      <th></th>\n",
       "      <th></th>\n",
       "      <th></th>\n",
       "      <th></th>\n",
       "      <th></th>\n",
       "      <th></th>\n",
       "      <th></th>\n",
       "      <th></th>\n",
       "      <th></th>\n",
       "      <th></th>\n",
       "      <th></th>\n",
       "      <th></th>\n",
       "      <th></th>\n",
       "      <th></th>\n",
       "    </tr>\n",
       "  </thead>\n",
       "  <tbody>\n",
       "    <tr>\n",
       "      <th>785834</th>\n",
       "      <td>-343.335938</td>\n",
       "      <td>0.837244</td>\n",
       "      <td>-778.916533</td>\n",
       "      <td>0.924746</td>\n",
       "      <td>1</td>\n",
       "      <td>{'AIRS-CH0': [1779, 3845], 'FGS1': [21374, 461...</td>\n",
       "      <td>12.014615</td>\n",
       "      <td>11.996359</td>\n",
       "      <td>0.00105</td>\n",
       "      <td>0.001300</td>\n",
       "      <td>(0.001400000000000001, 0.0012625000000000006)</td>\n",
       "      <td>0.00105</td>\n",
       "      <td>[0.001, 0.001, 0.00015, 0.00105, 0.0002, 0.001...</td>\n",
       "      <td>0.00140</td>\n",
       "      <td>0.001263</td>\n",
       "      <td>[0.001, 0.00105, 0.0002, 0.0002, 0.000125, 0.0...</td>\n",
       "      <td>0.001130</td>\n",
       "      <td>0.000975</td>\n",
       "      <td>0.001335</td>\n",
       "      <td>0.001335</td>\n",
       "    </tr>\n",
       "    <tr>\n",
       "      <th>14485303</th>\n",
       "      <td>-366.381992</td>\n",
       "      <td>0.842983</td>\n",
       "      <td>-740.323212</td>\n",
       "      <td>0.931727</td>\n",
       "      <td>1</td>\n",
       "      <td>{'AIRS-CH0': [1786, 3838], 'FGS1': [22167, 453...</td>\n",
       "      <td>12.411534</td>\n",
       "      <td>11.811621</td>\n",
       "      <td>0.00205</td>\n",
       "      <td>0.001900</td>\n",
       "      <td>(0.0019500000000000032, 0.0018875000000000029)</td>\n",
       "      <td>0.00205</td>\n",
       "      <td>[0.001, 0.001, 0.00105, 0.001, 0.001, 0.001, 0...</td>\n",
       "      <td>0.00195</td>\n",
       "      <td>0.001888</td>\n",
       "      <td>[0.001, 0.001, 0.0002, 0.00105, 0.001, 0.001, ...</td>\n",
       "      <td>0.001902</td>\n",
       "      <td>0.002050</td>\n",
       "      <td>0.001875</td>\n",
       "      <td>0.001875</td>\n",
       "    </tr>\n",
       "    <tr>\n",
       "      <th>17002355</th>\n",
       "      <td>-386.107037</td>\n",
       "      <td>1.041701</td>\n",
       "      <td>-808.690659</td>\n",
       "      <td>1.513541</td>\n",
       "      <td>0</td>\n",
       "      <td>{'AIRS-CH0': [1807, 3817], 'FGS1': [21432, 460...</td>\n",
       "      <td>11.860542</td>\n",
       "      <td>12.069164</td>\n",
       "      <td>0.00285</td>\n",
       "      <td>0.002725</td>\n",
       "      <td>(0.0031000000000000077, 0.002750000000000006)</td>\n",
       "      <td>0.00285</td>\n",
       "      <td>[0.001, 0.001, 0.001, 0.001, 0.001, 0.001, 0.0...</td>\n",
       "      <td>0.00310</td>\n",
       "      <td>0.002750</td>\n",
       "      <td>[0.0002, 0.001, 0.00105, 0.001, 0.00205, 0.002...</td>\n",
       "      <td>0.002801</td>\n",
       "      <td>0.002600</td>\n",
       "      <td>0.002755</td>\n",
       "      <td>0.002755</td>\n",
       "    </tr>\n",
       "    <tr>\n",
       "      <th>24135240</th>\n",
       "      <td>-339.737490</td>\n",
       "      <td>0.840239</td>\n",
       "      <td>-776.124167</td>\n",
       "      <td>0.931277</td>\n",
       "      <td>1</td>\n",
       "      <td>{'AIRS-CH0': [1810, 3814], 'FGS1': [22486, 450...</td>\n",
       "      <td>12.423204</td>\n",
       "      <td>11.802307</td>\n",
       "      <td>0.00105</td>\n",
       "      <td>0.001450</td>\n",
       "      <td>(0.0011500000000000004, 0.0014500000000000014)</td>\n",
       "      <td>0.00105</td>\n",
       "      <td>[0.001, 0.00105, 0.00105, 0.001, 0.001, 0.0002...</td>\n",
       "      <td>0.00115</td>\n",
       "      <td>0.001450</td>\n",
       "      <td>[0.001, 0.001, 0.00105, 0.0002, 0.0002, 0.0010...</td>\n",
       "      <td>0.001445</td>\n",
       "      <td>0.001425</td>\n",
       "      <td>0.001435</td>\n",
       "      <td>0.001435</td>\n",
       "    </tr>\n",
       "    <tr>\n",
       "      <th>25070640</th>\n",
       "      <td>-355.660433</td>\n",
       "      <td>1.041280</td>\n",
       "      <td>-848.371494</td>\n",
       "      <td>1.503923</td>\n",
       "      <td>0</td>\n",
       "      <td>{'AIRS-CH0': [1964, 3660], 'FGS1': [23835, 436...</td>\n",
       "      <td>12.135947</td>\n",
       "      <td>11.930328</td>\n",
       "      <td>0.00180</td>\n",
       "      <td>0.001950</td>\n",
       "      <td>(0.0017500000000000024, 0.0020250000000000034)</td>\n",
       "      <td>0.00180</td>\n",
       "      <td>[0.00105, 0.001, 0.001, 0.001, 0.001, 0.001, 0...</td>\n",
       "      <td>0.00175</td>\n",
       "      <td>0.002025</td>\n",
       "      <td>[0.001, 0.001, 0.001, 0.001, 0.0002, 0.00105, ...</td>\n",
       "      <td>0.001998</td>\n",
       "      <td>0.001750</td>\n",
       "      <td>0.002005</td>\n",
       "      <td>0.002005</td>\n",
       "    </tr>\n",
       "  </tbody>\n",
       "</table>\n",
       "</div>"
      ],
      "text/plain": [
       "           FGS1_adc_offset  FGS1_adc_gain  AIRS-CH0_adc_offset  \\\n",
       "planet_id                                                        \n",
       "785834         -343.335938       0.837244          -778.916533   \n",
       "14485303       -366.381992       0.842983          -740.323212   \n",
       "17002355       -386.107037       1.041701          -808.690659   \n",
       "24135240       -339.737490       0.840239          -776.124167   \n",
       "25070640       -355.660433       1.041280          -848.371494   \n",
       "\n",
       "           AIRS-CH0_adc_gain  star  \\\n",
       "planet_id                            \n",
       "785834              0.924746     1   \n",
       "14485303            0.931727     1   \n",
       "17002355            1.513541     0   \n",
       "24135240            0.931277     1   \n",
       "25070640            1.503923     0   \n",
       "\n",
       "                                                 breakpoints         r0  \\\n",
       "planet_id                                                                 \n",
       "785834     {'AIRS-CH0': [1779, 3845], 'FGS1': [21374, 461...  12.014615   \n",
       "14485303   {'AIRS-CH0': [1786, 3838], 'FGS1': [22167, 453...  12.411534   \n",
       "17002355   {'AIRS-CH0': [1807, 3817], 'FGS1': [21432, 460...  11.860542   \n",
       "24135240   {'AIRS-CH0': [1810, 3814], 'FGS1': [22486, 450...  12.423204   \n",
       "25070640   {'AIRS-CH0': [1964, 3660], 'FGS1': [23835, 436...  12.135947   \n",
       "\n",
       "                  r1  f_depth   a_depth  \\\n",
       "planet_id                                 \n",
       "785834     11.996359  0.00105  0.001300   \n",
       "14485303   11.811621  0.00205  0.001900   \n",
       "17002355   12.069164  0.00285  0.002725   \n",
       "24135240   11.802307  0.00105  0.001450   \n",
       "25070640   11.930328  0.00180  0.001950   \n",
       "\n",
       "                                                all_depth  f_depth2  \\\n",
       "planet_id                                                             \n",
       "785834      (0.001400000000000001, 0.0012625000000000006)   0.00105   \n",
       "14485303   (0.0019500000000000032, 0.0018875000000000029)   0.00205   \n",
       "17002355    (0.0031000000000000077, 0.002750000000000006)   0.00285   \n",
       "24135240   (0.0011500000000000004, 0.0014500000000000014)   0.00105   \n",
       "25070640   (0.0017500000000000024, 0.0020250000000000034)   0.00180   \n",
       "\n",
       "                                                  a_wv_depth  trim_f_depth  \\\n",
       "planet_id                                                                    \n",
       "785834     [0.001, 0.001, 0.00015, 0.00105, 0.0002, 0.001...       0.00140   \n",
       "14485303   [0.001, 0.001, 0.00105, 0.001, 0.001, 0.001, 0...       0.00195   \n",
       "17002355   [0.001, 0.001, 0.001, 0.001, 0.001, 0.001, 0.0...       0.00310   \n",
       "24135240   [0.001, 0.00105, 0.00105, 0.001, 0.001, 0.0002...       0.00115   \n",
       "25070640   [0.00105, 0.001, 0.001, 0.001, 0.001, 0.001, 0...       0.00175   \n",
       "\n",
       "           trim_a_depth                                    trim_a_wv_depth  \\\n",
       "planet_id                                                                    \n",
       "785834         0.001263  [0.001, 0.00105, 0.0002, 0.0002, 0.000125, 0.0...   \n",
       "14485303       0.001888  [0.001, 0.001, 0.0002, 0.00105, 0.001, 0.001, ...   \n",
       "17002355       0.002750  [0.0002, 0.001, 0.00105, 0.001, 0.00205, 0.002...   \n",
       "24135240       0.001450  [0.001, 0.001, 0.00105, 0.0002, 0.0002, 0.0010...   \n",
       "25070640       0.002025  [0.001, 0.001, 0.001, 0.001, 0.0002, 0.00105, ...   \n",
       "\n",
       "           a_label_mean  ariel_only_a_depth  ariel_only_update_a_depth  \\\n",
       "planet_id                                                                \n",
       "785834         0.001130            0.000975                   0.001335   \n",
       "14485303       0.001902            0.002050                   0.001875   \n",
       "17002355       0.002801            0.002600                   0.002755   \n",
       "24135240       0.001445            0.001425                   0.001435   \n",
       "25070640       0.001998            0.001750                   0.002005   \n",
       "\n",
       "           ariel_only_update_a_depth2  \n",
       "planet_id                              \n",
       "785834                       0.001335  \n",
       "14485303                     0.001875  \n",
       "17002355                     0.002755  \n",
       "24135240                     0.001435  \n",
       "25070640                     0.002005  "
      ]
     },
     "execution_count": 7,
     "metadata": {},
     "output_type": "execute_result"
    }
   ],
   "source": [
    "train_adc_df.head()"
   ]
  },
  {
   "cell_type": "markdown",
   "id": "6503ce1a-662c-47ff-8d59-adfc7e35bac4",
   "metadata": {
    "jp-MarkdownHeadingCollapsed": true
   },
   "source": [
    "## Metric"
   ]
  },
  {
   "cell_type": "code",
   "execution_count": 9,
   "id": "8c9a5ffd-5c39-45f2-a66e-a32cb8bf4eee",
   "metadata": {},
   "outputs": [],
   "source": [
    "def get_cv_score(pred_array, sigma_pred):\n",
    "    sub_df = create_submission(pred_array, train_label_df.index, sigma_pred)\n",
    "    score = competition_score(\n",
    "        solution=train_label_df,\n",
    "        submission=sub_df,\n",
    "        naive_mean=train_label_df.values.mean(),\n",
    "        naive_sigma=train_label_df.values.std(),\n",
    "        sigma_true=10e-6,  # 10ppm\n",
    "    )\n",
    "    return score\n",
    "\n",
    "def create_submission(pred_array, index, sigma_pred):\n",
    "    \"\"\"Create a submission dataframe from its components\n",
    "    \n",
    "    Parameters:\n",
    "    pred_array: ndarray of shape (n_samples, 283)\n",
    "    index: pandas.Index of length n_samples with name 'planet_id'\n",
    "    sigma_pred: float\n",
    "    \n",
    "    Return value:\n",
    "    df: DataFrame of shape (n_samples, 566) with planet_id as index\n",
    "    \"\"\"\n",
    "    return pd.concat([pd.DataFrame(pred_array.clip(0, None), index=index, columns=wavelengths.columns),\n",
    "                      pd.DataFrame(sigma_pred, index=index, columns=[f\"sigma_{i}\" for i in range(1, 284)])],\n",
    "                     axis=1)\n",
    "\n",
    "# Adapted from https://www.kaggle.com/code/metric/ariel-gaussian-log-likelihood\n",
    "class ParticipantVisibleError(Exception):\n",
    "    pass\n",
    "\n",
    "def competition_score(\n",
    "        solution: pd.DataFrame,\n",
    "        submission: pd.DataFrame,\n",
    "        naive_mean: float,\n",
    "        naive_sigma: float,\n",
    "        sigma_true: float,\n",
    "    ) -> float:\n",
    "    '''\n",
    "    This is a Gaussian Log Likelihood based metric. For a submission, which contains the predicted mean (x_hat) and variance (x_hat_std),\n",
    "    we calculate the Gaussian Log-likelihood (GLL) value to the provided ground truth (x). We treat each pair of x_hat,\n",
    "    x_hat_std as a 1D gaussian, meaning there will be 283 1D gaussian distributions, hence 283 values for each test spectrum,\n",
    "    the GLL value for one spectrum is the sum of all of them.\n",
    "\n",
    "    Inputs:\n",
    "        - solution: Ground Truth spectra (from test set)\n",
    "            - shape: (nsamples, n_wavelengths)\n",
    "        - submission: Predicted spectra and errors (from participants)\n",
    "            - shape: (nsamples, n_wavelengths*2)\n",
    "        naive_mean: (float) mean from the train set.\n",
    "        naive_sigma: (float) standard deviation from the train set.\n",
    "        sigma_true: (float) essentially sets the scale of the outputs.\n",
    "    '''\n",
    "\n",
    "    if submission.min().min() < 0:\n",
    "        raise ParticipantVisibleError('Negative values in the submission')\n",
    "    for col in submission.columns:\n",
    "        if not pd.api.types.is_numeric_dtype(submission[col]):\n",
    "            raise ParticipantVisibleError(f'Submission column {col} must be a number')\n",
    "\n",
    "    n_wavelengths = len(solution.columns)\n",
    "    if len(submission.columns) != n_wavelengths*2:\n",
    "        raise ParticipantVisibleError('Wrong number of columns in the submission')\n",
    "\n",
    "    y_pred = submission.iloc[:, :n_wavelengths].values\n",
    "    # Set a non-zero minimum sigma pred to prevent division by zero errors.\n",
    "    sigma_pred = np.clip(submission.iloc[:, n_wavelengths:].values, a_min=10**-15, a_max=None)\n",
    "    y_true = solution.values\n",
    "\n",
    "    GLL_pred = np.sum(scipy.stats.norm.logpdf(y_true, loc=y_pred, scale=sigma_pred))\n",
    "    GLL_true = np.sum(scipy.stats.norm.logpdf(y_true, loc=y_true, scale=sigma_true * np.ones_like(y_true)))\n",
    "    GLL_mean = np.sum(scipy.stats.norm.logpdf(y_true, loc=naive_mean * np.ones_like(y_true), scale=naive_sigma * np.ones_like(y_true)))\n",
    "\n",
    "    submit_score = (GLL_pred - GLL_mean)/(GLL_true - GLL_mean)\n",
    "    return float(np.clip(submit_score, 0.0, 1.0))"
   ]
  },
  {
   "cell_type": "markdown",
   "id": "7e09aff4-1b95-448f-9d9b-053dfc2fda7a",
   "metadata": {},
   "source": [
    "## FE"
   ]
  },
  {
   "cell_type": "code",
   "execution_count": 11,
   "id": "29a67a15-23a2-4f20-9785-a57d49477c62",
   "metadata": {},
   "outputs": [],
   "source": [
    "FGS1_BUFFER_SIZE = 1500\n",
    "AIRS_BUFFER_SIZE = 120"
   ]
  },
  {
   "cell_type": "code",
   "execution_count": 12,
   "id": "ae1bff33-1864-4fc6-b093-296dd08f94ad",
   "metadata": {},
   "outputs": [],
   "source": [
    "airs_global_breakpoints = [1708, 1958, 3666, 3916]\n",
    "fgs1_global_breakpoints = [20500, 23500, 44000, 47000]"
   ]
  },
  {
   "cell_type": "code",
   "execution_count": 13,
   "id": "cd049749-7f3b-464a-8a28-6b1ca3a9d9b2",
   "metadata": {},
   "outputs": [],
   "source": [
    "def get_transit_depth(signal, breakpoints, half=False, devide_in_transit=False, single_example=False):\n",
    "    '''  ----p1-p2--p3-p4----\n",
    "    signal: N x T\n",
    "    breakpoints: [p1, p2, p3, p4]\n",
    "    half: 半凌日\n",
    "    '''\n",
    "    if single_example:\n",
    "        signal = signal.reshape(1, -1)  # 1 x T\n",
    "    \n",
    "    p1, p2, p3, p4 = breakpoints\n",
    "    out_transit = np.column_stack([signal[:, :p1], signal[:, p4:]])\n",
    "\n",
    "    if half:\n",
    "        in_transit = np.column_stack([signal[:, p1:p2], signal[:, p3:p4]])\n",
    "    else:\n",
    "        in_transit = signal[:, p2:p3]\n",
    "\n",
    "    out_transit = out_transit.mean(axis=-1)\n",
    "    in_transit = in_transit.mean(axis=-1)\n",
    "\n",
    "    if devide_in_transit:\n",
    "        depth = (out_transit - in_transit) / in_transit\n",
    "    else:\n",
    "        depth = (out_transit - in_transit) / out_transit\n",
    "        \n",
    "    depth = depth.clip(0)  # (N,)\n",
    "\n",
    "    if single_example:\n",
    "        depth = depth.item()\n",
    "    \n",
    "    return depth"
   ]
  },
  {
   "cell_type": "code",
   "execution_count": 14,
   "id": "2cb11ef2-ab6d-4be2-ab24-bc182470bbe2",
   "metadata": {},
   "outputs": [],
   "source": [
    "def get_transit_depth_multi_wv(signal, breakpoints, half=False, devide_in_transit=False, single_example=False):\n",
    "    '''  ----p1-p2--p3-p4----\n",
    "    signal: N x T x 282\n",
    "    breakpoints: [p1, p2, p3, p4]\n",
    "    half: 半凌日\n",
    "    '''\n",
    "    if single_example:\n",
    "        signal = signal[np.newaxis]  # 1 x T x 282\n",
    "    \n",
    "    p1, p2, p3, p4 = breakpoints\n",
    "    out_transit = np.column_stack([signal[:, :p1], signal[:, p4:]])\n",
    "\n",
    "    if half:\n",
    "        in_transit = np.column_stack([signal[:, p1:p2], signal[:, p3:p4]])\n",
    "    else:\n",
    "        in_transit = signal[:, p2:p3]\n",
    "\n",
    "    out_transit = out_transit.mean(axis=1)  # over T axis -> N x 282\n",
    "    in_transit = in_transit.mean(axis=1)  # over T axis  -> N x 282\n",
    "\n",
    "    if devide_in_transit:\n",
    "        depth = (out_transit - in_transit) / in_transit\n",
    "    else:\n",
    "        depth = (out_transit - in_transit) / out_transit\n",
    "        \n",
    "    depth = depth.clip(0)  # (N, 282)\n",
    "\n",
    "    if single_example:\n",
    "        depth = depth.flatten()\n",
    "    \n",
    "    return depth"
   ]
  },
  {
   "cell_type": "code",
   "execution_count": 18,
   "id": "5f4dd86c-1100-47b0-8223-e60a50ae280d",
   "metadata": {},
   "outputs": [],
   "source": [
    "def fe_transit_depth_mean_wv(f_raw, a_raw, devide_in_transit=False, polyfit=False):\n",
    "    '''\n",
    "    desc:\n",
    "        1.凌日起止点用整个训练集公共的\n",
    "        2.airs 282个波段取平均\n",
    "    input:\n",
    "        f_raw: (N, 67500)\n",
    "        a_raw: (N, 5625)\n",
    "\n",
    "    return:\n",
    "        ndarray of shape (N, 2)\n",
    "    '''\n",
    "    if polyfit:  # 多项式拟合得到的凌日深度\n",
    "        return train_adc_df[['trim_f_depth', 'trim_a_depth']].values\n",
    "    \n",
    "    f_depth = get_transit_depth(f_raw, fgs1_global_breakpoints, devide_in_transit=devide_in_transit) # (N,)\n",
    "    a_depth = get_transit_depth(a_raw, airs_global_breakpoints, devide_in_transit=devide_in_transit) # (N,)\n",
    "\n",
    "    res = np.row_stack([f_depth, a_depth]).transpose()  # (N,2)\n",
    "    return res"
   ]
  },
  {
   "cell_type": "code",
   "execution_count": 16,
   "id": "4216c9d4-91b6-4ca4-85d9-d9fcd86a215f",
   "metadata": {},
   "outputs": [],
   "source": [
    "def fe_independent_transit_depth_mean_wv(f_raw, a_raw, airs_only=False, add_half=False):\n",
    "    '''\n",
    "    desc:\n",
    "        1.使用find_transit_zone算法精确定位的凌日起止点\n",
    "        2.airs 282个波段取平均\n",
    "    input:\n",
    "        airs_only: 由于airs信号更精准，可以考虑只使用airs探测到的凌日起止点，fgs1起止点可通过✖️12转换得到\n",
    "    return:\n",
    "        ndarray of shape (N, 2)\n",
    "    '''\n",
    "    res = []\n",
    "    \n",
    "    for f_signal, a_signal, breakpoints in tqdm(zip(f_raw, a_raw, train_adc_df.breakpoints)):\n",
    "        # AIRS\n",
    "        bp1, bp2 = breakpoints['AIRS-CH0']\n",
    "        bps = [bp1 - AIRS_BUFFER_SIZE, bp1 + AIRS_BUFFER_SIZE, bp2 - AIRS_BUFFER_SIZE, bp2 + AIRS_BUFFER_SIZE]\n",
    "        # print('AIRS:', bps)\n",
    "        a_depth = get_transit_depth(a_signal, bps, devide_in_transit=True, single_example=True)\n",
    "        a_half_depth = get_transit_depth(a_signal, bps, devide_in_transit=False, single_example=True, half=True)\n",
    "        # print('a_depth', a_depth)\n",
    "\n",
    "        # FGS1\n",
    "        if airs_only:\n",
    "            bps = [x * 12 for x in bps]\n",
    "            # print('FGS1:', bps)\n",
    "        else:\n",
    "            bp1, bp2 = breakpoints['FGS1']\n",
    "            bps = [bp1 - FGS1_BUFFER_SIZE, bp1 + FGS1_BUFFER_SIZE, bp2 - FGS1_BUFFER_SIZE, bp2 + FGS1_BUFFER_SIZE]\n",
    "            # print('FGS1:', bps)\n",
    "\n",
    "        f_depth = get_transit_depth(f_signal, bps, devide_in_transit=True, single_example=True)\n",
    "        f_half_depth = get_transit_depth(f_signal, bps, devide_in_transit=False, single_example=True, half=True)\n",
    "        # print('f_depth', f_depth)\n",
    "\n",
    "        if add_half:\n",
    "            res.append([f_depth, f_half_depth, a_depth, a_half_depth])\n",
    "        else:\n",
    "            res.append([f_depth, a_depth])\n",
    "\n",
    "    return np.array(res, dtype=np.float32)"
   ]
  },
  {
   "cell_type": "code",
   "execution_count": 17,
   "id": "b6df15f7-6096-4f6a-bae3-5412c6f299e4",
   "metadata": {},
   "outputs": [],
   "source": [
    "def fe_independent_transit_depth_multi_wv(f_raw, a_raw, airs_only=False, add_half=False):\n",
    "    '''\n",
    "    desc:\n",
    "        1.使用find_transit_zone算法精确定位的凌日起止点\n",
    "        2.airs 282个波段各自计算凌日深度\n",
    "    input:\n",
    "        f_raw: (N, T)\n",
    "        a_raw: (N, T, 282)\n",
    "        airs_only: 由于airs信号更精准，可以考虑只使用airs探测到的凌日起止点，fgs1起止点可通过✖️12转换得到\n",
    "    return:\n",
    "        ndarray of shape (N, 2)\n",
    "    '''\n",
    "    res = []\n",
    "    \n",
    "    for f_signal, a_signal, breakpoints in tqdm(zip(f_raw, a_raw, train_adc_df.breakpoints)):\n",
    "        # AIRS\n",
    "        bp1, bp2 = breakpoints['AIRS-CH0']\n",
    "        bps = [bp1 - AIRS_BUFFER_SIZE, bp1 + AIRS_BUFFER_SIZE, bp2 - AIRS_BUFFER_SIZE, bp2 + AIRS_BUFFER_SIZE]\n",
    "        # print('AIRS:', bps)\n",
    "        a_depth = get_transit_depth_multi_wv(a_signal, bps, devide_in_transit=True, single_example=True)  # (282,)\n",
    "        a_half_depth = get_transit_depth_multi_wv(a_signal, bps, devide_in_transit=True, single_example=True, half=True)  # (282,)\n",
    "        # print('a_depth', a_depth)\n",
    "\n",
    "        # FGS1\n",
    "        if airs_only:\n",
    "            bps = [x * 12 for x in bps]\n",
    "            # print('FGS1:', bps)\n",
    "        else:\n",
    "            bp1, bp2 = breakpoints['FGS1']\n",
    "            bps = [bp1 - FGS1_BUFFER_SIZE, bp1 + FGS1_BUFFER_SIZE, bp2 - FGS1_BUFFER_SIZE, bp2 + FGS1_BUFFER_SIZE]\n",
    "            # print('FGS1:', bps)\n",
    "\n",
    "        f_depth = get_transit_depth(f_signal, bps, devide_in_transit=True, single_example=True)  # (1,)\n",
    "        f_half_depth = get_transit_depth(f_signal, bps, devide_in_transit=True, single_example=True, half=True)  # (1,)\n",
    "        # print('f_depth', f_depth)\n",
    "\n",
    "        res.append(\n",
    "            np.concatenate([[f_depth], [f_half_depth], a_depth, a_half_depth])  # (566,)\n",
    "        )\n",
    "\n",
    "    return np.row_stack(res)  # N x 566"
   ]
  },
  {
   "cell_type": "code",
   "execution_count": 19,
   "id": "45f543d3-72ca-48bd-8347-3393c3624939",
   "metadata": {},
   "outputs": [
    {
     "data": {
      "text/plain": [
       "(673, 2)"
      ]
     },
     "execution_count": 19,
     "metadata": {},
     "output_type": "execute_result"
    }
   ],
   "source": [
    "# 凌日起止点用整个训练集公共的，airs 282个波段取平均\n",
    "feat1 = fe_transit_depth_mean_wv(trim_f_raw_train, trim_a_raw_train_mean)\n",
    "feat1.shape"
   ]
  },
  {
   "cell_type": "code",
   "execution_count": 20,
   "id": "ed6059f5-ee54-434d-ad0e-7bf7e738b6b7",
   "metadata": {},
   "outputs": [
    {
     "data": {
      "text/plain": [
       "(673, 2)"
      ]
     },
     "execution_count": 20,
     "metadata": {},
     "output_type": "execute_result"
    }
   ],
   "source": [
    "# 凌日起止点用整个训练集公共的，airs 282个波段取平均；计算凌日深度时，分母用in_transit\n",
    "feat2 = fe_transit_depth_mean_wv(trim_f_raw_train, trim_a_raw_train_mean, devide_in_transit=True)\n",
    "feat2.shape"
   ]
  },
  {
   "cell_type": "code",
   "execution_count": 23,
   "id": "fc655e4d-202b-476d-a156-292f02e9c71f",
   "metadata": {},
   "outputs": [
    {
     "data": {
      "application/vnd.jupyter.widget-view+json": {
       "model_id": "2b03d55713eb4b57b93964835f0b1a12",
       "version_major": 2,
       "version_minor": 0
      },
      "text/plain": [
       "0it [00:00, ?it/s]"
      ]
     },
     "metadata": {},
     "output_type": "display_data"
    },
    {
     "data": {
      "text/plain": [
       "(673, 4)"
      ]
     },
     "execution_count": 23,
     "metadata": {},
     "output_type": "execute_result"
    }
   ],
   "source": [
    "# 凌日起止点用各行星的准确起止点; airs 282个波段取平均; 计算凌日深度时，分母用in_transit\n",
    "feat3 = fe_independent_transit_depth_mean_wv(trim_f_raw_train, trim_a_raw_train_mean, airs_only=True, add_half=True)\n",
    "feat3.shape"
   ]
  },
  {
   "cell_type": "code",
   "execution_count": 26,
   "id": "4d482e0c-0f81-4501-b413-48f97e9003aa",
   "metadata": {},
   "outputs": [
    {
     "data": {
      "application/vnd.jupyter.widget-view+json": {
       "model_id": "e65e53b9ee41429c87496d6939df6ead",
       "version_major": 2,
       "version_minor": 0
      },
      "text/plain": [
       "0it [00:00, ?it/s]"
      ]
     },
     "metadata": {},
     "output_type": "display_data"
    },
    {
     "data": {
      "text/plain": [
       "(673, 566)"
      ]
     },
     "execution_count": 26,
     "metadata": {},
     "output_type": "execute_result"
    }
   ],
   "source": [
    "# - FE:\n",
    "#   - 凌日起止点用各行星的准确起止点(airs更准确，用airs探测起止点，折算成fgs1的起止点)\n",
    "#   - airs 282个波段各自计算凌日深度\n",
    "#   - 计算凌日深度时，分母用in_transit\n",
    "#   - 增加半凌日\n",
    "feat4 = fe_independent_transit_depth_multi_wv(trim_f_raw_train, trim_a_raw_train, airs_only=True, add_half=True)\n",
    "feat4.shape"
   ]
  },
  {
   "cell_type": "code",
   "execution_count": 27,
   "id": "27e97913-4039-4377-969e-321c7d1be28c",
   "metadata": {},
   "outputs": [
    {
     "data": {
      "text/plain": [
       "(673, 2)"
      ]
     },
     "execution_count": 27,
     "metadata": {},
     "output_type": "execute_result"
    }
   ],
   "source": [
    "# - FE:\n",
    "#   - 凌日起止点用各行星的准确起止点(airs更准确，用airs探测起止点，折算成fgs1的起止点)\n",
    "#   - 多项式拟合凌日深度\n",
    "feat5 = fe_transit_depth_mean_wv(trim_f_raw_train, trim_a_raw_train, polyfit=True)\n",
    "feat5.shape"
   ]
  },
  {
   "cell_type": "code",
   "execution_count": 28,
   "id": "28d26f3a-7327-4f9a-93aa-80de10194c5c",
   "metadata": {},
   "outputs": [
    {
     "data": {
      "text/plain": [
       "(673, 284)"
      ]
     },
     "execution_count": 28,
     "metadata": {},
     "output_type": "execute_result"
    }
   ],
   "source": [
    "# - FE:\n",
    "#   - 凌日起止点用各行星的准确起止点(airs更准确，用airs探测起止点，折算成fgs1的起止点)\n",
    "#   - 多项式拟合凌日深度\n",
    "#   - airs每个波段都独立计算凌日深度\n",
    "feat6 = np.column_stack([\n",
    "    train_adc_df[['trim_f_depth']].values,  # N x 1\n",
    "    train_adc_df[['trim_a_depth']].values,  # N x 1\n",
    "    np.row_stack(train_adc_df['trim_a_wv_depth'].tolist()),  # N x 282\n",
    "])\n",
    "feat6.shape"
   ]
  },
  {
   "cell_type": "code",
   "execution_count": 36,
   "id": "f9e24f77-adc4-4d54-9795-c8daa8eac6ac",
   "metadata": {},
   "outputs": [],
   "source": [
    "X_train = np.column_stack([\n",
    "    feat1,\n",
    "    feat2,\n",
    "    feat3,\n",
    "    feat4,\n",
    "    feat5,\n",
    "    feat6,\n",
    "])\n",
    "\n",
    "Y_train = train_label_df.values"
   ]
  },
  {
   "cell_type": "code",
   "execution_count": 37,
   "id": "8993cbc1-a30e-4f57-9b19-40b5b35214c5",
   "metadata": {},
   "outputs": [
    {
     "data": {
      "text/plain": [
       "((673, 860), (673, 283))"
      ]
     },
     "execution_count": 37,
     "metadata": {},
     "output_type": "execute_result"
    }
   ],
   "source": [
    "X_train.shape, Y_train.shape"
   ]
  },
  {
   "cell_type": "markdown",
   "id": "abe298f4-3af7-46db-9ac4-6b5a03b2125c",
   "metadata": {},
   "source": [
    "## Optuna调参"
   ]
  },
  {
   "cell_type": "code",
   "execution_count": 53,
   "id": "dd066712-8a50-4a0d-9093-e974334b6b2b",
   "metadata": {},
   "outputs": [],
   "source": [
    "import optuna"
   ]
  },
  {
   "cell_type": "markdown",
   "id": "dd46530b-1c6d-41c7-9b7f-53bc9fb3e743",
   "metadata": {},
   "source": [
    "### KNN"
   ]
  },
  {
   "cell_type": "code",
   "execution_count": 33,
   "id": "a7e34e82-5f8a-48d7-bd63-4e10e56878cf",
   "metadata": {},
   "outputs": [],
   "source": [
    "from sklearn.neighbors import KNeighborsRegressor"
   ]
  },
  {
   "cell_type": "code",
   "execution_count": 39,
   "id": "51053b56-9d55-404b-bfbc-e44e8f672742",
   "metadata": {},
   "outputs": [],
   "source": [
    "model = KNeighborsRegressor(n_neighbors=5)"
   ]
  },
  {
   "cell_type": "code",
   "execution_count": 45,
   "id": "bd13ce2e-db0f-4b68-90b7-afce4b4a0909",
   "metadata": {},
   "outputs": [],
   "source": [
    "oof_pred = cross_val_predict(model, X_train, Y_train, cv=3)"
   ]
  },
  {
   "cell_type": "code",
   "execution_count": 48,
   "id": "571d5fc5-5484-452e-bde9-e19865659fc6",
   "metadata": {},
   "outputs": [
    {
     "data": {
      "text/plain": [
       "0.000145160832740702"
      ]
     },
     "execution_count": 48,
     "metadata": {},
     "output_type": "execute_result"
    }
   ],
   "source": [
    "sigma_pred = mean_squared_error(Y_train, oof_pred, squared=False)\n",
    "sigma_pred"
   ]
  },
  {
   "cell_type": "code",
   "execution_count": 49,
   "id": "7a569ac6-dfca-41e9-bdc5-971510e2daa9",
   "metadata": {},
   "outputs": [
    {
     "data": {
      "text/plain": [
       "0.4369851729834575"
      ]
     },
     "execution_count": 49,
     "metadata": {},
     "output_type": "execute_result"
    }
   ],
   "source": [
    "get_cv_score(oof_pred, sigma_pred)"
   ]
  },
  {
   "cell_type": "code",
   "execution_count": 55,
   "id": "0801915c-d601-4dab-940c-9edce544fb88",
   "metadata": {},
   "outputs": [],
   "source": [
    "def objective(trial):\n",
    "    # 定义搜索空间\n",
    "    n_neighbors = trial.suggest_int('n_neighbors', 1, 50)\n",
    "    weights = trial.suggest_categorical('weights', ['uniform', 'distance'])\n",
    "    algorithm = trial.suggest_categorical('algorithm', ['auto', 'ball_tree', 'kd_tree', 'brute'])\n",
    "    p = trial.suggest_int('p', 1, 2)\n",
    "    \n",
    "    # 创建KNN模型\n",
    "    knn = KNeighborsRegressor(\n",
    "        n_neighbors=n_neighbors,\n",
    "        weights=weights,\n",
    "        algorithm=algorithm,\n",
    "        p=p\n",
    "    )\n",
    "    \n",
    "    # 使用交叉验证进行评估\n",
    "    oof_pred = cross_val_predict(knn, X_train, Y_train, cv=3)\n",
    "    sigma_pred = mean_squared_error(Y_train, oof_pred, squared=False)\n",
    "    score = get_cv_score(oof_pred, sigma_pred)\n",
    "\n",
    "    return score  # 越大越好"
   ]
  },
  {
   "cell_type": "code",
   "execution_count": 58,
   "id": "9cf22e1b-cb58-4616-bf2d-1be11c1d8d57",
   "metadata": {
    "collapsed": true,
    "jupyter": {
     "outputs_hidden": true
    },
    "scrolled": true
   },
   "outputs": [
    {
     "name": "stderr",
     "output_type": "stream",
     "text": [
      "[I 2024-10-07 17:43:29,399] A new study created in RDB with name: knn_hpo2\n",
      "[I 2024-10-07 17:43:29,627] Trial 0 finished with value: 0.4097372926913031 and parameters: {'n_neighbors': 25, 'weights': 'distance', 'algorithm': 'auto', 'p': 2}. Best is trial 0 with value: 0.4097372926913031.\n",
      "[I 2024-10-07 17:43:29,975] Trial 1 finished with value: 0.37154260594399535 and parameters: {'n_neighbors': 43, 'weights': 'uniform', 'algorithm': 'brute', 'p': 1}. Best is trial 0 with value: 0.4097372926913031.\n",
      "[I 2024-10-07 17:43:30,170] Trial 2 finished with value: 0.4038044710916296 and parameters: {'n_neighbors': 29, 'weights': 'distance', 'algorithm': 'brute', 'p': 2}. Best is trial 0 with value: 0.4097372926913031.\n",
      "[I 2024-10-07 17:43:30,317] Trial 3 finished with value: 0.4177396915035603 and parameters: {'n_neighbors': 18, 'weights': 'uniform', 'algorithm': 'auto', 'p': 2}. Best is trial 3 with value: 0.4177396915035603.\n",
      "[I 2024-10-07 17:43:30,818] Trial 4 finished with value: 0.44142929358093325 and parameters: {'n_neighbors': 3, 'weights': 'uniform', 'algorithm': 'kd_tree', 'p': 2}. Best is trial 4 with value: 0.44142929358093325.\n",
      "[I 2024-10-07 17:43:31,127] Trial 5 finished with value: 0.43679003220235535 and parameters: {'n_neighbors': 2, 'weights': 'uniform', 'algorithm': 'brute', 'p': 1}. Best is trial 4 with value: 0.44142929358093325.\n",
      "[I 2024-10-07 17:43:31,495] Trial 6 finished with value: 0.3925757495479837 and parameters: {'n_neighbors': 33, 'weights': 'distance', 'algorithm': 'auto', 'p': 1}. Best is trial 4 with value: 0.44142929358093325.\n",
      "[I 2024-10-07 17:43:31,691] Trial 7 finished with value: 0.40000681862577536 and parameters: {'n_neighbors': 32, 'weights': 'distance', 'algorithm': 'brute', 'p': 2}. Best is trial 4 with value: 0.44142929358093325.\n",
      "[I 2024-10-07 17:43:32,078] Trial 8 finished with value: 0.4306221488059242 and parameters: {'n_neighbors': 8, 'weights': 'uniform', 'algorithm': 'ball_tree', 'p': 1}. Best is trial 4 with value: 0.44142929358093325.\n",
      "[I 2024-10-07 17:43:32,495] Trial 9 finished with value: 0.3835746423036095 and parameters: {'n_neighbors': 35, 'weights': 'uniform', 'algorithm': 'ball_tree', 'p': 1}. Best is trial 4 with value: 0.44142929358093325.\n",
      "[I 2024-10-07 17:43:33,019] Trial 10 finished with value: 0.4302382881484516 and parameters: {'n_neighbors': 11, 'weights': 'uniform', 'algorithm': 'kd_tree', 'p': 2}. Best is trial 4 with value: 0.44142929358093325.\n",
      "[I 2024-10-07 17:43:33,520] Trial 11 finished with value: 0.4154345982485821 and parameters: {'n_neighbors': 1, 'weights': 'uniform', 'algorithm': 'kd_tree', 'p': 1}. Best is trial 4 with value: 0.44142929358093325.\n",
      "[I 2024-10-07 17:43:34,041] Trial 12 finished with value: 0.4021307129172565 and parameters: {'n_neighbors': 1, 'weights': 'uniform', 'algorithm': 'kd_tree', 'p': 2}. Best is trial 4 with value: 0.44142929358093325.\n",
      "[I 2024-10-07 17:43:34,556] Trial 13 finished with value: 0.42062109805144055 and parameters: {'n_neighbors': 12, 'weights': 'uniform', 'algorithm': 'kd_tree', 'p': 1}. Best is trial 4 with value: 0.44142929358093325.\n",
      "[I 2024-10-07 17:43:34,722] Trial 14 finished with value: 0.41501404776723394 and parameters: {'n_neighbors': 20, 'weights': 'uniform', 'algorithm': 'brute', 'p': 2}. Best is trial 4 with value: 0.44142929358093325.\n",
      "[I 2024-10-07 17:43:35,233] Trial 15 finished with value: 0.4333544114591924 and parameters: {'n_neighbors': 7, 'weights': 'uniform', 'algorithm': 'kd_tree', 'p': 1}. Best is trial 4 with value: 0.44142929358093325.\n",
      "[I 2024-10-07 17:43:35,559] Trial 16 finished with value: 0.4119220969361032 and parameters: {'n_neighbors': 17, 'weights': 'uniform', 'algorithm': 'brute', 'p': 1}. Best is trial 4 with value: 0.44142929358093325.\n",
      "[I 2024-10-07 17:43:36,028] Trial 17 finished with value: 0.3715213733060619 and parameters: {'n_neighbors': 48, 'weights': 'uniform', 'algorithm': 'ball_tree', 'p': 2}. Best is trial 4 with value: 0.44142929358093325.\n",
      "[I 2024-10-07 17:43:36,568] Trial 18 finished with value: 0.4383415183543293 and parameters: {'n_neighbors': 5, 'weights': 'distance', 'algorithm': 'kd_tree', 'p': 2}. Best is trial 4 with value: 0.44142929358093325.\n",
      "[I 2024-10-07 17:43:37,112] Trial 19 finished with value: 0.43896486439192084 and parameters: {'n_neighbors': 7, 'weights': 'distance', 'algorithm': 'kd_tree', 'p': 2}. Best is trial 4 with value: 0.44142929358093325.\n",
      "[I 2024-10-07 17:43:37,669] Trial 20 finished with value: 0.42580363479457367 and parameters: {'n_neighbors': 15, 'weights': 'distance', 'algorithm': 'kd_tree', 'p': 2}. Best is trial 4 with value: 0.44142929358093325.\n",
      "[I 2024-10-07 17:43:38,214] Trial 21 finished with value: 0.4389389357404466 and parameters: {'n_neighbors': 6, 'weights': 'distance', 'algorithm': 'kd_tree', 'p': 2}. Best is trial 4 with value: 0.44142929358093325.\n",
      "[I 2024-10-07 17:43:38,764] Trial 22 finished with value: 0.4341835899833573 and parameters: {'n_neighbors': 10, 'weights': 'distance', 'algorithm': 'kd_tree', 'p': 2}. Best is trial 4 with value: 0.44142929358093325.\n",
      "[I 2024-10-07 17:43:39,334] Trial 23 finished with value: 0.4148617640679946 and parameters: {'n_neighbors': 22, 'weights': 'distance', 'algorithm': 'kd_tree', 'p': 2}. Best is trial 4 with value: 0.44142929358093325.\n",
      "[I 2024-10-07 17:43:39,892] Trial 24 finished with value: 0.42804458917314225 and parameters: {'n_neighbors': 14, 'weights': 'distance', 'algorithm': 'kd_tree', 'p': 2}. Best is trial 4 with value: 0.44142929358093325.\n",
      "[I 2024-10-07 17:43:40,435] Trial 25 finished with value: 0.4383415183543293 and parameters: {'n_neighbors': 5, 'weights': 'distance', 'algorithm': 'kd_tree', 'p': 2}. Best is trial 4 with value: 0.44142929358093325.\n",
      "[I 2024-10-07 17:43:41,257] Trial 26 finished with value: 0.4383415183543293 and parameters: {'n_neighbors': 5, 'weights': 'distance', 'algorithm': 'kd_tree', 'p': 2}. Best is trial 4 with value: 0.44142929358093325.\n",
      "[I 2024-10-07 17:43:41,811] Trial 27 finished with value: 0.4346213326093803 and parameters: {'n_neighbors': 9, 'weights': 'distance', 'algorithm': 'kd_tree', 'p': 2}. Best is trial 4 with value: 0.44142929358093325.\n",
      "[I 2024-10-07 17:43:42,370] Trial 28 finished with value: 0.4294190277980224 and parameters: {'n_neighbors': 13, 'weights': 'distance', 'algorithm': 'kd_tree', 'p': 2}. Best is trial 4 with value: 0.44142929358093325.\n",
      "[I 2024-10-07 17:43:42,574] Trial 29 finished with value: 0.4097372926913031 and parameters: {'n_neighbors': 25, 'weights': 'distance', 'algorithm': 'auto', 'p': 2}. Best is trial 4 with value: 0.44142929358093325.\n",
      "[I 2024-10-07 17:43:43,003] Trial 30 finished with value: 0.4383415183543293 and parameters: {'n_neighbors': 5, 'weights': 'distance', 'algorithm': 'ball_tree', 'p': 2}. Best is trial 4 with value: 0.44142929358093325.\n",
      "[I 2024-10-07 17:43:43,545] Trial 31 finished with value: 0.44012610943844876 and parameters: {'n_neighbors': 4, 'weights': 'distance', 'algorithm': 'kd_tree', 'p': 2}. Best is trial 4 with value: 0.44142929358093325.\n",
      "[I 2024-10-07 17:43:44,085] Trial 32 finished with value: 0.4418395891122093 and parameters: {'n_neighbors': 3, 'weights': 'distance', 'algorithm': 'kd_tree', 'p': 2}. Best is trial 32 with value: 0.4418395891122093.\n",
      "[I 2024-10-07 17:43:44,623] Trial 33 finished with value: 0.4418395891122093 and parameters: {'n_neighbors': 3, 'weights': 'distance', 'algorithm': 'kd_tree', 'p': 2}. Best is trial 32 with value: 0.4418395891122093.\n",
      "[I 2024-10-07 17:43:44,803] Trial 34 finished with value: 0.4418395891122093 and parameters: {'n_neighbors': 3, 'weights': 'distance', 'algorithm': 'auto', 'p': 2}. Best is trial 32 with value: 0.4418395891122093.\n",
      "[I 2024-10-07 17:43:44,977] Trial 35 finished with value: 0.4021307129172565 and parameters: {'n_neighbors': 1, 'weights': 'distance', 'algorithm': 'auto', 'p': 2}. Best is trial 32 with value: 0.4418395891122093.\n",
      "[I 2024-10-07 17:43:45,198] Trial 36 finished with value: 0.38900918906655807 and parameters: {'n_neighbors': 41, 'weights': 'distance', 'algorithm': 'auto', 'p': 2}. Best is trial 32 with value: 0.4418395891122093.\n",
      "[I 2024-10-07 17:43:45,379] Trial 37 finished with value: 0.4418395891122093 and parameters: {'n_neighbors': 3, 'weights': 'distance', 'algorithm': 'auto', 'p': 2}. Best is trial 32 with value: 0.4418395891122093.\n",
      "[I 2024-10-07 17:43:45,568] Trial 38 finished with value: 0.4341835899833573 and parameters: {'n_neighbors': 10, 'weights': 'distance', 'algorithm': 'auto', 'p': 2}. Best is trial 32 with value: 0.4418395891122093.\n",
      "[I 2024-10-07 17:43:45,749] Trial 39 finished with value: 0.4418395891122093 and parameters: {'n_neighbors': 3, 'weights': 'distance', 'algorithm': 'auto', 'p': 2}. Best is trial 32 with value: 0.4418395891122093.\n",
      "[I 2024-10-07 17:43:45,943] Trial 40 finished with value: 0.4221549769602486 and parameters: {'n_neighbors': 17, 'weights': 'distance', 'algorithm': 'auto', 'p': 2}. Best is trial 32 with value: 0.4418395891122093.\n",
      "[I 2024-10-07 17:43:46,123] Trial 41 finished with value: 0.4418395891122093 and parameters: {'n_neighbors': 3, 'weights': 'distance', 'algorithm': 'auto', 'p': 2}. Best is trial 32 with value: 0.4418395891122093.\n",
      "[I 2024-10-07 17:43:46,311] Trial 42 finished with value: 0.43636220417267096 and parameters: {'n_neighbors': 8, 'weights': 'distance', 'algorithm': 'auto', 'p': 2}. Best is trial 32 with value: 0.4418395891122093.\n",
      "[I 2024-10-07 17:43:46,495] Trial 43 finished with value: 0.4418395891122093 and parameters: {'n_neighbors': 3, 'weights': 'distance', 'algorithm': 'auto', 'p': 2}. Best is trial 32 with value: 0.4418395891122093.\n",
      "[I 2024-10-07 17:43:46,669] Trial 44 finished with value: 0.4021307129172565 and parameters: {'n_neighbors': 1, 'weights': 'distance', 'algorithm': 'auto', 'p': 2}. Best is trial 32 with value: 0.4418395891122093.\n",
      "[I 2024-10-07 17:43:46,854] Trial 45 finished with value: 0.43636220417267096 and parameters: {'n_neighbors': 8, 'weights': 'distance', 'algorithm': 'auto', 'p': 2}. Best is trial 32 with value: 0.4418395891122093.\n",
      "[I 2024-10-07 17:43:47,067] Trial 46 finished with value: 0.40256127127083796 and parameters: {'n_neighbors': 30, 'weights': 'distance', 'algorithm': 'auto', 'p': 2}. Best is trial 32 with value: 0.4418395891122093.\n",
      "[I 2024-10-07 17:43:47,250] Trial 47 finished with value: 0.4418395891122093 and parameters: {'n_neighbors': 3, 'weights': 'distance', 'algorithm': 'auto', 'p': 2}. Best is trial 32 with value: 0.4418395891122093.\n",
      "[I 2024-10-07 17:43:47,470] Trial 48 finished with value: 0.39300178039166267 and parameters: {'n_neighbors': 38, 'weights': 'distance', 'algorithm': 'brute', 'p': 2}. Best is trial 32 with value: 0.4418395891122093.\n",
      "[I 2024-10-07 17:43:47,912] Trial 49 finished with value: 0.4309700180935636 and parameters: {'n_neighbors': 12, 'weights': 'distance', 'algorithm': 'ball_tree', 'p': 2}. Best is trial 32 with value: 0.4418395891122093.\n",
      "[I 2024-10-07 17:43:48,252] Trial 50 finished with value: 0.4154345982485821 and parameters: {'n_neighbors': 1, 'weights': 'distance', 'algorithm': 'auto', 'p': 1}. Best is trial 32 with value: 0.4418395891122093.\n",
      "[I 2024-10-07 17:43:48,438] Trial 51 finished with value: 0.43896486439192084 and parameters: {'n_neighbors': 7, 'weights': 'distance', 'algorithm': 'auto', 'p': 2}. Best is trial 32 with value: 0.4418395891122093.\n",
      "[I 2024-10-07 17:43:48,619] Trial 52 finished with value: 0.4418395891122093 and parameters: {'n_neighbors': 3, 'weights': 'distance', 'algorithm': 'auto', 'p': 2}. Best is trial 32 with value: 0.4418395891122093.\n",
      "[I 2024-10-07 17:43:48,804] Trial 53 finished with value: 0.4418395891122093 and parameters: {'n_neighbors': 3, 'weights': 'distance', 'algorithm': 'auto', 'p': 2}. Best is trial 32 with value: 0.4418395891122093.\n",
      "[I 2024-10-07 17:43:48,990] Trial 54 finished with value: 0.4389389357404466 and parameters: {'n_neighbors': 6, 'weights': 'distance', 'algorithm': 'auto', 'p': 2}. Best is trial 32 with value: 0.4418395891122093.\n",
      "[I 2024-10-07 17:43:49,181] Trial 55 finished with value: 0.4323209726074909 and parameters: {'n_neighbors': 11, 'weights': 'distance', 'algorithm': 'brute', 'p': 2}. Best is trial 32 with value: 0.4418395891122093.\n",
      "[I 2024-10-07 17:43:49,364] Trial 56 finished with value: 0.44012610943844876 and parameters: {'n_neighbors': 4, 'weights': 'distance', 'algorithm': 'auto', 'p': 2}. Best is trial 32 with value: 0.4418395891122093.\n",
      "[I 2024-10-07 17:43:49,541] Trial 57 finished with value: 0.42626698409750097 and parameters: {'n_neighbors': 2, 'weights': 'distance', 'algorithm': 'auto', 'p': 2}. Best is trial 32 with value: 0.4418395891122093.\n",
      "[I 2024-10-07 17:43:49,954] Trial 58 finished with value: 0.4372798884815436 and parameters: {'n_neighbors': 7, 'weights': 'uniform', 'algorithm': 'ball_tree', 'p': 2}. Best is trial 32 with value: 0.4418395891122093.\n",
      "[I 2024-10-07 17:43:50,421] Trial 59 finished with value: 0.43462133260938074 and parameters: {'n_neighbors': 9, 'weights': 'distance', 'algorithm': 'auto', 'p': 2}. Best is trial 32 with value: 0.4418395891122093.\n",
      "[I 2024-10-07 17:43:50,625] Trial 60 finished with value: 0.4148617640679946 and parameters: {'n_neighbors': 22, 'weights': 'distance', 'algorithm': 'brute', 'p': 2}. Best is trial 32 with value: 0.4418395891122093.\n",
      "[I 2024-10-07 17:43:50,806] Trial 61 finished with value: 0.4418395891122093 and parameters: {'n_neighbors': 3, 'weights': 'distance', 'algorithm': 'auto', 'p': 2}. Best is trial 32 with value: 0.4418395891122093.\n",
      "[I 2024-10-07 17:43:50,991] Trial 62 finished with value: 0.44012610943844876 and parameters: {'n_neighbors': 4, 'weights': 'distance', 'algorithm': 'auto', 'p': 2}. Best is trial 32 with value: 0.4418395891122093.\n",
      "[I 2024-10-07 17:43:51,182] Trial 63 finished with value: 0.4389389357404466 and parameters: {'n_neighbors': 6, 'weights': 'distance', 'algorithm': 'auto', 'p': 2}. Best is trial 32 with value: 0.4418395891122093.\n",
      "[I 2024-10-07 17:43:51,362] Trial 64 finished with value: 0.42626698409750097 and parameters: {'n_neighbors': 2, 'weights': 'distance', 'algorithm': 'auto', 'p': 2}. Best is trial 32 with value: 0.4418395891122093.\n",
      "[I 2024-10-07 17:43:51,911] Trial 65 finished with value: 0.4383415183543293 and parameters: {'n_neighbors': 5, 'weights': 'distance', 'algorithm': 'kd_tree', 'p': 2}. Best is trial 32 with value: 0.4418395891122093.\n",
      "[I 2024-10-07 17:43:52,073] Trial 66 finished with value: 0.4021307129172565 and parameters: {'n_neighbors': 1, 'weights': 'uniform', 'algorithm': 'auto', 'p': 2}. Best is trial 32 with value: 0.4418395891122093.\n",
      "[I 2024-10-07 17:43:52,688] Trial 67 finished with value: 0.3785790936857294 and parameters: {'n_neighbors': 49, 'weights': 'distance', 'algorithm': 'kd_tree', 'p': 2}. Best is trial 32 with value: 0.4418395891122093.\n",
      "[I 2024-10-07 17:43:53,053] Trial 68 finished with value: 0.4297968080079084 and parameters: {'n_neighbors': 9, 'weights': 'distance', 'algorithm': 'auto', 'p': 1}. Best is trial 32 with value: 0.4418395891122093.\n",
      "[I 2024-10-07 17:43:53,488] Trial 69 finished with value: 0.4389389357404466 and parameters: {'n_neighbors': 6, 'weights': 'distance', 'algorithm': 'ball_tree', 'p': 2}. Best is trial 32 with value: 0.4418395891122093.\n",
      "[I 2024-10-07 17:43:54,049] Trial 70 finished with value: 0.42580363479457367 and parameters: {'n_neighbors': 15, 'weights': 'distance', 'algorithm': 'kd_tree', 'p': 2}. Best is trial 32 with value: 0.4418395891122093.\n",
      "[I 2024-10-07 17:43:54,232] Trial 71 finished with value: 0.4418395891122093 and parameters: {'n_neighbors': 3, 'weights': 'distance', 'algorithm': 'auto', 'p': 2}. Best is trial 32 with value: 0.4418395891122093.\n",
      "[I 2024-10-07 17:43:54,419] Trial 72 finished with value: 0.44012610943844876 and parameters: {'n_neighbors': 4, 'weights': 'distance', 'algorithm': 'auto', 'p': 2}. Best is trial 32 with value: 0.4418395891122093.\n",
      "[I 2024-10-07 17:43:54,602] Trial 73 finished with value: 0.42626698409750097 and parameters: {'n_neighbors': 2, 'weights': 'distance', 'algorithm': 'auto', 'p': 2}. Best is trial 32 with value: 0.4418395891122093.\n",
      "[I 2024-10-07 17:43:54,795] Trial 74 finished with value: 0.43636220417267096 and parameters: {'n_neighbors': 8, 'weights': 'distance', 'algorithm': 'auto', 'p': 2}. Best is trial 32 with value: 0.4418395891122093.\n",
      "[I 2024-10-07 17:43:54,978] Trial 75 finished with value: 0.4418395891122093 and parameters: {'n_neighbors': 3, 'weights': 'distance', 'algorithm': 'auto', 'p': 2}. Best is trial 32 with value: 0.4418395891122093.\n",
      "[I 2024-10-07 17:43:55,508] Trial 76 finished with value: 0.4369851729834575 and parameters: {'n_neighbors': 5, 'weights': 'uniform', 'algorithm': 'kd_tree', 'p': 2}. Best is trial 32 with value: 0.4418395891122093.\n",
      "[I 2024-10-07 17:43:55,687] Trial 77 finished with value: 0.4021307129172565 and parameters: {'n_neighbors': 1, 'weights': 'distance', 'algorithm': 'auto', 'p': 2}. Best is trial 32 with value: 0.4418395891122093.\n",
      "[I 2024-10-07 17:43:55,920] Trial 78 finished with value: 0.3825059980472182 and parameters: {'n_neighbors': 46, 'weights': 'distance', 'algorithm': 'auto', 'p': 2}. Best is trial 32 with value: 0.4418395891122093.\n",
      "[I 2024-10-07 17:43:56,476] Trial 79 finished with value: 0.4323209726074909 and parameters: {'n_neighbors': 11, 'weights': 'distance', 'algorithm': 'kd_tree', 'p': 2}. Best is trial 32 with value: 0.4418395891122093.\n",
      "[I 2024-10-07 17:43:56,664] Trial 80 finished with value: 0.43896486439192084 and parameters: {'n_neighbors': 7, 'weights': 'distance', 'algorithm': 'brute', 'p': 2}. Best is trial 32 with value: 0.4418395891122093.\n",
      "[I 2024-10-07 17:43:56,847] Trial 81 finished with value: 0.4418395891122093 and parameters: {'n_neighbors': 3, 'weights': 'distance', 'algorithm': 'auto', 'p': 2}. Best is trial 32 with value: 0.4418395891122093.\n",
      "[I 2024-10-07 17:43:57,035] Trial 82 finished with value: 0.44012610943844876 and parameters: {'n_neighbors': 4, 'weights': 'distance', 'algorithm': 'auto', 'p': 2}. Best is trial 32 with value: 0.4418395891122093.\n",
      "[I 2024-10-07 17:43:57,219] Trial 83 finished with value: 0.42626698409750097 and parameters: {'n_neighbors': 2, 'weights': 'distance', 'algorithm': 'auto', 'p': 2}. Best is trial 32 with value: 0.4418395891122093.\n",
      "[I 2024-10-07 17:43:57,408] Trial 84 finished with value: 0.4389389357404466 and parameters: {'n_neighbors': 6, 'weights': 'distance', 'algorithm': 'auto', 'p': 2}. Best is trial 32 with value: 0.4418395891122093.\n",
      "[I 2024-10-07 17:43:57,595] Trial 85 finished with value: 0.4383415183543293 and parameters: {'n_neighbors': 5, 'weights': 'distance', 'algorithm': 'auto', 'p': 2}. Best is trial 32 with value: 0.4418395891122093.\n",
      "[I 2024-10-07 17:43:57,806] Trial 86 finished with value: 0.40650036099422987 and parameters: {'n_neighbors': 27, 'weights': 'distance', 'algorithm': 'auto', 'p': 2}. Best is trial 32 with value: 0.4418395891122093.\n",
      "[I 2024-10-07 17:43:57,989] Trial 87 finished with value: 0.4418395891122093 and parameters: {'n_neighbors': 3, 'weights': 'distance', 'algorithm': 'auto', 'p': 2}. Best is trial 32 with value: 0.4418395891122093.\n",
      "[I 2024-10-07 17:43:58,418] Trial 88 finished with value: 0.42626698409750097 and parameters: {'n_neighbors': 2, 'weights': 'distance', 'algorithm': 'ball_tree', 'p': 2}. Best is trial 32 with value: 0.4418395891122093.\n",
      "[I 2024-10-07 17:43:58,584] Trial 89 finished with value: 0.43219521065687916 and parameters: {'n_neighbors': 10, 'weights': 'uniform', 'algorithm': 'auto', 'p': 2}. Best is trial 32 with value: 0.4418395891122093.\n",
      "[I 2024-10-07 17:43:59,139] Trial 90 finished with value: 0.43896486439192084 and parameters: {'n_neighbors': 7, 'weights': 'distance', 'algorithm': 'kd_tree', 'p': 2}. Best is trial 32 with value: 0.4418395891122093.\n",
      "[I 2024-10-07 17:43:59,327] Trial 91 finished with value: 0.44012610943844876 and parameters: {'n_neighbors': 4, 'weights': 'distance', 'algorithm': 'auto', 'p': 2}. Best is trial 32 with value: 0.4418395891122093.\n",
      "[I 2024-10-07 17:43:59,784] Trial 92 finished with value: 0.4021307129172565 and parameters: {'n_neighbors': 1, 'weights': 'distance', 'algorithm': 'auto', 'p': 2}. Best is trial 32 with value: 0.4418395891122093.\n",
      "[I 2024-10-07 17:43:59,969] Trial 93 finished with value: 0.4418395891122093 and parameters: {'n_neighbors': 3, 'weights': 'distance', 'algorithm': 'auto', 'p': 2}. Best is trial 32 with value: 0.4418395891122093.\n",
      "[I 2024-10-07 17:44:00,158] Trial 94 finished with value: 0.4389389357404466 and parameters: {'n_neighbors': 6, 'weights': 'distance', 'algorithm': 'auto', 'p': 2}. Best is trial 32 with value: 0.4418395891122093.\n",
      "[I 2024-10-07 17:44:00,344] Trial 95 finished with value: 0.4383415183543293 and parameters: {'n_neighbors': 5, 'weights': 'distance', 'algorithm': 'auto', 'p': 2}. Best is trial 32 with value: 0.4418395891122093.\n",
      "[I 2024-10-07 17:44:00,906] Trial 96 finished with value: 0.4363622041726712 and parameters: {'n_neighbors': 8, 'weights': 'distance', 'algorithm': 'kd_tree', 'p': 2}. Best is trial 32 with value: 0.4418395891122093.\n",
      "[I 2024-10-07 17:44:01,092] Trial 97 finished with value: 0.44012610943844876 and parameters: {'n_neighbors': 4, 'weights': 'distance', 'algorithm': 'auto', 'p': 2}. Best is trial 32 with value: 0.4418395891122093.\n",
      "[I 2024-10-07 17:44:01,482] Trial 98 finished with value: 0.39145362200003103 and parameters: {'n_neighbors': 34, 'weights': 'distance', 'algorithm': 'brute', 'p': 1}. Best is trial 32 with value: 0.4418395891122093.\n",
      "[I 2024-10-07 17:44:01,673] Trial 99 finished with value: 0.42626698409750097 and parameters: {'n_neighbors': 2, 'weights': 'distance', 'algorithm': 'auto', 'p': 2}. Best is trial 32 with value: 0.4418395891122093.\n"
     ]
    }
   ],
   "source": [
    "study = optuna.create_study(\n",
    "    storage=\"sqlite:///db.sqlite3\",\n",
    "    study_name=\"knn_hpo2\",\n",
    "    direction=\"maximize\",\n",
    ")\n",
    "study.optimize(objective, n_trials=100)"
   ]
  },
  {
   "cell_type": "code",
   "execution_count": 59,
   "id": "fc522cd0-81d2-4e04-92cd-d770a98c00f0",
   "metadata": {},
   "outputs": [
    {
     "data": {
      "text/plain": [
       "0.4418395891122093"
      ]
     },
     "execution_count": 59,
     "metadata": {},
     "output_type": "execute_result"
    }
   ],
   "source": [
    "study.best_value"
   ]
  },
  {
   "cell_type": "code",
   "execution_count": 60,
   "id": "e6a899f0-2d85-4703-9803-fecec6b65fe9",
   "metadata": {},
   "outputs": [
    {
     "data": {
      "text/plain": [
       "{'n_neighbors': 3, 'weights': 'distance', 'algorithm': 'kd_tree', 'p': 2}"
      ]
     },
     "execution_count": 60,
     "metadata": {},
     "output_type": "execute_result"
    }
   ],
   "source": [
    "study.best_params"
   ]
  },
  {
   "cell_type": "code",
   "execution_count": 61,
   "id": "08b15a1d-8563-4b2a-9b07-a25b1878a875",
   "metadata": {},
   "outputs": [],
   "source": [
    "model = KNeighborsRegressor(**study.best_params)"
   ]
  },
  {
   "cell_type": "code",
   "execution_count": 62,
   "id": "10381020-5c6a-45e9-afa7-e997340fd2ac",
   "metadata": {},
   "outputs": [],
   "source": [
    "oof_pred = cross_val_predict(model, X_train, Y_train, cv=3)"
   ]
  },
  {
   "cell_type": "code",
   "execution_count": 63,
   "id": "84d0dea9-e24d-473f-8096-308216957023",
   "metadata": {},
   "outputs": [
    {
     "data": {
      "text/plain": [
       "0.00014127883261157837"
      ]
     },
     "execution_count": 63,
     "metadata": {},
     "output_type": "execute_result"
    }
   ],
   "source": [
    "sigma_pred = mean_squared_error(Y_train, oof_pred, squared=False)\n",
    "sigma_pred"
   ]
  },
  {
   "cell_type": "code",
   "execution_count": 64,
   "id": "b47072c1-fcfa-4395-b257-8768aaa514e6",
   "metadata": {},
   "outputs": [
    {
     "data": {
      "text/plain": [
       "0.4418395891122093"
      ]
     },
     "execution_count": 64,
     "metadata": {},
     "output_type": "execute_result"
    }
   ],
   "source": [
    "get_cv_score(oof_pred, sigma_pred)"
   ]
  },
  {
   "cell_type": "markdown",
   "id": "da2104f4-6b2d-45e4-8ec5-56b1309a3566",
   "metadata": {},
   "source": [
    "### Ridge"
   ]
  },
  {
   "cell_type": "code",
   "execution_count": 66,
   "id": "c00f901e-8cd1-4192-854a-f4e1bb6272d9",
   "metadata": {},
   "outputs": [],
   "source": [
    "def objective(trial):\n",
    "    # 定义搜索空间\n",
    "    alpha = trial.suggest_float('alpha', 1e-12, 1.0, log=True)\n",
    "    \n",
    "    # 创建模型\n",
    "    model = Ridge(alpha=alpha)\n",
    "    \n",
    "    # 使用交叉验证进行评估\n",
    "    oof_pred = cross_val_predict(model, X_train, Y_train, cv=3)\n",
    "    sigma_pred = mean_squared_error(Y_train, oof_pred, squared=False)\n",
    "    score = get_cv_score(oof_pred, sigma_pred)\n",
    "\n",
    "    return score  # 越大越好"
   ]
  },
  {
   "cell_type": "code",
   "execution_count": 67,
   "id": "d68e042b-decc-46f3-b0e3-95dbf6805ee9",
   "metadata": {
    "collapsed": true,
    "jupyter": {
     "outputs_hidden": true
    },
    "scrolled": true
   },
   "outputs": [
    {
     "name": "stderr",
     "output_type": "stream",
     "text": [
      "[I 2024-10-07 18:11:30,857] A new study created in RDB with name: ridge_hpo\n",
      "[I 2024-10-07 18:11:31,173] Trial 0 finished with value: 0.5223595221846613 and parameters: {'alpha': 2.417832931906195e-10}. Best is trial 0 with value: 0.5223595221846613.\n",
      "[I 2024-10-07 18:11:31,479] Trial 1 finished with value: 0.522356197551893 and parameters: {'alpha': 1.7930761208149865e-11}. Best is trial 0 with value: 0.5223595221846613.\n",
      "[I 2024-10-07 18:11:31,770] Trial 2 finished with value: 0.5223564828978885 and parameters: {'alpha': 3.714250795606095e-11}. Best is trial 0 with value: 0.5223595221846613.\n",
      "[I 2024-10-07 18:11:32,020] Trial 3 finished with value: 0.5891972248135122 and parameters: {'alpha': 0.00021582227565879495}. Best is trial 3 with value: 0.5891972248135122.\n",
      "[I 2024-10-07 18:11:32,250] Trial 4 finished with value: 0.35257894521479355 and parameters: {'alpha': 0.08326671956323714}. Best is trial 3 with value: 0.5891972248135122.\n",
      "[I 2024-10-07 18:11:32,489] Trial 5 finished with value: 0.5223735284612818 and parameters: {'alpha': 1.1851352829602263e-09}. Best is trial 3 with value: 0.5891972248135122.\n",
      "[I 2024-10-07 18:11:32,726] Trial 6 finished with value: 0.5595971867254607 and parameters: {'alpha': 5.7933436546172145e-06}. Best is trial 3 with value: 0.5891972248135122.\n",
      "[I 2024-10-07 18:11:33,041] Trial 7 finished with value: 0.5229226192273266 and parameters: {'alpha': 3.8537807753924973e-08}. Best is trial 3 with value: 0.5891972248135122.\n",
      "[I 2024-10-07 18:11:33,290] Trial 8 finished with value: 0.5849095363280121 and parameters: {'alpha': 0.0002891857015827167}. Best is trial 3 with value: 0.5891972248135122.\n",
      "[I 2024-10-07 18:11:33,519] Trial 9 finished with value: 0.522450255362967 and parameters: {'alpha': 6.361132010856407e-09}. Best is trial 3 with value: 0.5891972248135122.\n",
      "[I 2024-10-07 18:11:33,771] Trial 10 finished with value: 0.2174534592920666 and parameters: {'alpha': 0.3106929093404211}. Best is trial 3 with value: 0.5891972248135122.\n",
      "[I 2024-10-07 18:11:34,035] Trial 11 finished with value: 0.5918989935157762 and parameters: {'alpha': 0.00016625304387299575}. Best is trial 11 with value: 0.5918989935157762.\n",
      "[I 2024-10-07 18:11:34,283] Trial 12 finished with value: 0.5839206537320004 and parameters: {'alpha': 0.0003061053529335699}. Best is trial 11 with value: 0.5918989935157762.\n",
      "[I 2024-10-07 18:11:34,546] Trial 13 finished with value: 0.5761392814695815 and parameters: {'alpha': 0.00044550117413195804}. Best is trial 11 with value: 0.5918989935157762.\n",
      "[I 2024-10-07 18:11:34,792] Trial 14 finished with value: 0.5422982465573831 and parameters: {'alpha': 1.997324097935395e-06}. Best is trial 11 with value: 0.5918989935157762.\n",
      "[I 2024-10-07 18:11:35,164] Trial 15 finished with value: 0.44888300420456734 and parameters: {'alpha': 0.01144661497049255}. Best is trial 11 with value: 0.5918989935157762.\n",
      "[I 2024-10-07 18:11:35,459] Trial 16 finished with value: 0.573612166884098 and parameters: {'alpha': 1.2651804949718615e-05}. Best is trial 11 with value: 0.5918989935157762.\n",
      "[I 2024-10-07 18:11:35,712] Trial 17 finished with value: 0.5258546983385739 and parameters: {'alpha': 2.5086798365432275e-07}. Best is trial 11 with value: 0.5918989935157762.\n",
      "[I 2024-10-07 18:11:35,964] Trial 18 finished with value: 0.47659782245084553 and parameters: {'alpha': 0.006153927220832794}. Best is trial 11 with value: 0.5918989935157762.\n",
      "[I 2024-10-07 18:11:36,304] Trial 19 finished with value: 0.5223559462179572 and parameters: {'alpha': 1.009136555460132e-12}. Best is trial 11 with value: 0.5918989935157762.\n",
      "[I 2024-10-07 18:11:36,825] Trial 20 finished with value: 0.5833329658382752 and parameters: {'alpha': 2.319131357569793e-05}. Best is trial 11 with value: 0.5918989935157762.\n",
      "[I 2024-10-07 18:11:37,121] Trial 21 finished with value: 0.5757809885966451 and parameters: {'alpha': 0.0004522881255195322}. Best is trial 11 with value: 0.5918989935157762.\n",
      "[I 2024-10-07 18:11:37,447] Trial 22 finished with value: 0.5938124841517313 and parameters: {'alpha': 7.037070216860266e-05}. Best is trial 22 with value: 0.5938124841517313.\n",
      "[I 2024-10-07 18:11:37,801] Trial 23 finished with value: 0.46093224042584324 and parameters: {'alpha': 0.008690444313443907}. Best is trial 22 with value: 0.5938124841517313.\n",
      "[I 2024-10-07 18:11:38,276] Trial 24 finished with value: 0.5284334435739219 and parameters: {'alpha': 4.572281995845613e-07}. Best is trial 22 with value: 0.5938124841517313.\n",
      "[I 2024-10-07 18:11:38,591] Trial 25 finished with value: 0.5894439508075341 and parameters: {'alpha': 3.7889993991966606e-05}. Best is trial 22 with value: 0.5938124841517313.\n",
      "[I 2024-10-07 18:11:38,834] Trial 26 finished with value: 0.5931229075705856 and parameters: {'alpha': 6.0266444673375685e-05}. Best is trial 22 with value: 0.5938124841517313.\n",
      "[I 2024-10-07 18:11:39,083] Trial 27 finished with value: 0.523763898500767 and parameters: {'alpha': 9.71967682216348e-08}. Best is trial 22 with value: 0.5938124841517313.\n",
      "[I 2024-10-07 18:11:39,382] Trial 28 finished with value: 0.5182008108342985 and parameters: {'alpha': 0.0024381454143431306}. Best is trial 22 with value: 0.5938124841517313.\n",
      "[I 2024-10-07 18:11:39,723] Trial 29 finished with value: 0.5369869172664158 and parameters: {'alpha': 1.3054787365201388e-06}. Best is trial 22 with value: 0.5938124841517313.\n",
      "[I 2024-10-07 18:11:40,011] Trial 30 finished with value: 0.593397053100562 and parameters: {'alpha': 6.36271353677721e-05}. Best is trial 22 with value: 0.5938124841517313.\n",
      "[I 2024-10-07 18:11:40,263] Trial 31 finished with value: 0.5938102730769695 and parameters: {'alpha': 7.032644004451651e-05}. Best is trial 22 with value: 0.5938124841517313.\n",
      "[I 2024-10-07 18:11:40,654] Trial 32 finished with value: 0.5912822540789665 and parameters: {'alpha': 4.612576730139709e-05}. Best is trial 22 with value: 0.5938124841517313.\n",
      "[I 2024-10-07 18:11:41,007] Trial 33 finished with value: 0.5495387988691209 and parameters: {'alpha': 3.230826517406818e-06}. Best is trial 22 with value: 0.5938124841517313.\n",
      "[I 2024-10-07 18:11:41,315] Trial 34 finished with value: 0.5233704699614034 and parameters: {'alpha': 0.002155887316576926}. Best is trial 22 with value: 0.5938124841517313.\n",
      "[I 2024-10-07 18:11:41,636] Trial 35 finished with value: 0.593530028663802 and parameters: {'alpha': 6.551143043086001e-05}. Best is trial 22 with value: 0.5938124841517313.\n",
      "[I 2024-10-07 18:11:41,954] Trial 36 finished with value: 0.3965653256529572 and parameters: {'alpha': 0.04040525443334116}. Best is trial 22 with value: 0.5938124841517313.\n",
      "[I 2024-10-07 18:11:42,291] Trial 37 finished with value: 0.5340323127841896 and parameters: {'alpha': 0.0016558924126326797}. Best is trial 22 with value: 0.5938124841517313.\n",
      "[I 2024-10-07 18:11:42,624] Trial 38 finished with value: 0.5672104684876831 and parameters: {'alpha': 8.82520472612286e-06}. Best is trial 22 with value: 0.5938124841517313.\n",
      "[I 2024-10-07 18:11:42,879] Trial 39 finished with value: 0.5225334154975677 and parameters: {'alpha': 1.1986967958884172e-08}. Best is trial 22 with value: 0.5938124841517313.\n",
      "[I 2024-10-07 18:11:43,120] Trial 40 finished with value: 0.10396790804449128 and parameters: {'alpha': 0.9928714043299107}. Best is trial 22 with value: 0.5938124841517313.\n",
      "[I 2024-10-07 18:11:43,400] Trial 41 finished with value: 0.594244073664323 and parameters: {'alpha': 8.445381405630373e-05}. Best is trial 41 with value: 0.594244073664323.\n",
      "[I 2024-10-07 18:11:43,663] Trial 42 finished with value: 0.5941700053322422 and parameters: {'alpha': 0.00010623788358716535}. Best is trial 41 with value: 0.594244073664323.\n",
      "[I 2024-10-07 18:11:44,019] Trial 43 finished with value: 0.5643550134688863 and parameters: {'alpha': 7.538092236461253e-06}. Best is trial 41 with value: 0.594244073664323.\n",
      "[I 2024-10-07 18:11:44,313] Trial 44 finished with value: 0.5557561095551535 and parameters: {'alpha': 0.0009100171702406038}. Best is trial 41 with value: 0.594244073664323.\n",
      "[I 2024-10-07 18:11:44,590] Trial 45 finished with value: 0.5932846880285798 and parameters: {'alpha': 0.00013581950664816374}. Best is trial 41 with value: 0.594244073664323.\n",
      "[I 2024-10-07 18:11:44,914] Trial 46 finished with value: 0.5331232504348611 and parameters: {'alpha': 8.875075019416815e-07}. Best is trial 41 with value: 0.594244073664323.\n",
      "[I 2024-10-07 18:11:45,258] Trial 47 finished with value: 0.38295304922225265 and parameters: {'alpha': 0.05267544019928054}. Best is trial 41 with value: 0.594244073664323.\n",
      "[I 2024-10-07 18:11:45,504] Trial 48 finished with value: 0.5223594037253354 and parameters: {'alpha': 2.33806793711439e-10}. Best is trial 41 with value: 0.594244073664323.\n",
      "[I 2024-10-07 18:11:45,914] Trial 49 finished with value: 0.5931420952612358 and parameters: {'alpha': 0.00013935413789002224}. Best is trial 41 with value: 0.594244073664323.\n",
      "[I 2024-10-07 18:11:46,272] Trial 50 finished with value: 0.5524604970570246 and parameters: {'alpha': 3.8532553197414345e-06}. Best is trial 41 with value: 0.594244073664323.\n",
      "[I 2024-10-07 18:11:46,586] Trial 51 finished with value: 0.5942412582774381 and parameters: {'alpha': 8.425841495101224e-05}. Best is trial 41 with value: 0.594244073664323.\n",
      "[I 2024-10-07 18:11:47,116] Trial 52 finished with value: 0.5726590627711042 and parameters: {'alpha': 0.0005131356749787172}. Best is trial 41 with value: 0.594244073664323.\n",
      "[I 2024-10-07 18:11:47,379] Trial 53 finished with value: 0.5783455574890529 and parameters: {'alpha': 1.6758657619718698e-05}. Best is trial 41 with value: 0.594244073664323.\n",
      "[I 2024-10-07 18:11:47,772] Trial 54 finished with value: 0.5893599668779484 and parameters: {'alpha': 0.00021297694702757645}. Best is trial 41 with value: 0.594244073664323.\n",
      "[I 2024-10-07 18:11:48,065] Trial 55 finished with value: 0.5942568969511344 and parameters: {'alpha': 8.542085784106693e-05}. Best is trial 55 with value: 0.5942568969511344.\n",
      "[I 2024-10-07 18:11:48,371] Trial 56 finished with value: 0.48602690055240594 and parameters: {'alpha': 0.005013399566469737}. Best is trial 55 with value: 0.5942568969511344.\n",
      "[I 2024-10-07 18:11:48,665] Trial 57 finished with value: 0.5807880855005179 and parameters: {'alpha': 1.955128302387474e-05}. Best is trial 55 with value: 0.5942568969511344.\n",
      "[I 2024-10-07 18:11:48,956] Trial 58 finished with value: 0.4233117277565038 and parameters: {'alpha': 0.02140244808001819}. Best is trial 55 with value: 0.5942568969511344.\n",
      "[I 2024-10-07 18:11:49,226] Trial 59 finished with value: 0.5463096449528129 and parameters: {'alpha': 0.0011955737653199623}. Best is trial 55 with value: 0.5942568969511344.\n",
      "[I 2024-10-07 18:11:49,475] Trial 60 finished with value: 0.5268935628493456 and parameters: {'alpha': 3.316604557714515e-07}. Best is trial 55 with value: 0.5942568969511344.\n",
      "[I 2024-10-07 18:11:49,706] Trial 61 finished with value: 0.5942485081696632 and parameters: {'alpha': 8.477291681217713e-05}. Best is trial 55 with value: 0.5942568969511344.\n",
      "[I 2024-10-07 18:11:49,938] Trial 62 finished with value: 0.59393695521995 and parameters: {'alpha': 0.0001165335003823036}. Best is trial 55 with value: 0.5942568969511344.\n",
      "[I 2024-10-07 18:11:50,254] Trial 63 finished with value: 0.5680643962085385 and parameters: {'alpha': 0.0006088928370204056}. Best is trial 55 with value: 0.5942568969511344.\n",
      "[I 2024-10-07 18:11:50,520] Trial 64 finished with value: 0.5850984939796291 and parameters: {'alpha': 0.00028596245007196105}. Best is trial 55 with value: 0.5942568969511344.\n",
      "[I 2024-10-07 18:11:50,849] Trial 65 finished with value: 0.5811227318766472 and parameters: {'alpha': 1.998179861238923e-05}. Best is trial 55 with value: 0.5942568969511344.\n",
      "[I 2024-10-07 18:11:51,124] Trial 66 finished with value: 0.5934441157888125 and parameters: {'alpha': 0.00013166926476500422}. Best is trial 55 with value: 0.5942568969511344.\n",
      "[I 2024-10-07 18:11:51,380] Trial 67 finished with value: 0.5003706219294707 and parameters: {'alpha': 0.003660659948192717}. Best is trial 55 with value: 0.5942568969511344.\n",
      "[I 2024-10-07 18:11:51,647] Trial 68 finished with value: 0.5560705477519109 and parameters: {'alpha': 4.750178928153037e-06}. Best is trial 55 with value: 0.5942568969511344.\n",
      "[I 2024-10-07 18:11:51,922] Trial 69 finished with value: 0.5912861955154667 and parameters: {'alpha': 4.614756934995728e-05}. Best is trial 55 with value: 0.5942568969511344.\n",
      "[I 2024-10-07 18:11:52,178] Trial 70 finished with value: 0.5707297820540627 and parameters: {'alpha': 1.0738133422652625e-05}. Best is trial 55 with value: 0.5942568969511344.\n",
      "[I 2024-10-07 18:11:52,427] Trial 71 finished with value: 0.5938343397517146 and parameters: {'alpha': 0.00012012395192033336}. Best is trial 55 with value: 0.5942568969511344.\n",
      "[I 2024-10-07 18:11:52,802] Trial 72 finished with value: 0.5932123686753215 and parameters: {'alpha': 0.0001376306702801643}. Best is trial 55 with value: 0.5942568969511344.\n",
      "[I 2024-10-07 18:11:53,141] Trial 73 finished with value: 0.5402860797722829 and parameters: {'alpha': 1.7172811390023257e-06}. Best is trial 55 with value: 0.5942568969511344.\n",
      "[I 2024-10-07 18:11:53,402] Trial 74 finished with value: 0.5872886290250705 and parameters: {'alpha': 3.125986723746632e-05}. Best is trial 55 with value: 0.5942568969511344.\n",
      "[I 2024-10-07 18:11:53,848] Trial 75 finished with value: 0.5832445272901609 and parameters: {'alpha': 0.00031773805845033157}. Best is trial 55 with value: 0.5942568969511344.\n",
      "[I 2024-10-07 18:11:54,220] Trial 76 finished with value: 0.5599547537268765 and parameters: {'alpha': 0.0007991730326759238}. Best is trial 55 with value: 0.5942568969511344.\n",
      "[I 2024-10-07 18:11:54,639] Trial 77 finished with value: 0.5942848388197048 and parameters: {'alpha': 8.833642725020985e-05}. Best is trial 77 with value: 0.5942848388197048.\n",
      "[I 2024-10-07 18:11:54,982] Trial 78 finished with value: 0.5942947435360314 and parameters: {'alpha': 9.019899253921039e-05}. Best is trial 78 with value: 0.5942947435360314.\n",
      "[I 2024-10-07 18:11:55,269] Trial 79 finished with value: 0.5864759901268338 and parameters: {'alpha': 2.9267021822275957e-05}. Best is trial 78 with value: 0.5942947435360314.\n",
      "[I 2024-10-07 18:11:55,527] Trial 80 finished with value: 0.44777743159053907 and parameters: {'alpha': 0.011746863276051582}. Best is trial 78 with value: 0.5942947435360314.\n",
      "[I 2024-10-07 18:11:55,793] Trial 81 finished with value: 0.5942963009425487 and parameters: {'alpha': 9.066417807033757e-05}. Best is trial 81 with value: 0.5942963009425487.\n",
      "[I 2024-10-07 18:11:56,051] Trial 82 finished with value: 0.5654975348778192 and parameters: {'alpha': 8.02831806267265e-06}. Best is trial 81 with value: 0.5942963009425487.\n",
      "[I 2024-10-07 18:11:56,290] Trial 83 finished with value: 0.5942985561769466 and parameters: {'alpha': 9.174761995221889e-05}. Best is trial 83 with value: 0.5942985561769466.\n",
      "[I 2024-10-07 18:11:56,537] Trial 84 finished with value: 0.581514151090592 and parameters: {'alpha': 0.00034783029889384835}. Best is trial 83 with value: 0.5942985561769466.\n",
      "[I 2024-10-07 18:11:56,798] Trial 85 finished with value: 0.5409196335915714 and parameters: {'alpha': 0.0013840462473335721}. Best is trial 83 with value: 0.5942985561769466.\n",
      "[I 2024-10-07 18:11:57,361] Trial 86 finished with value: 0.5929006014722251 and parameters: {'alpha': 5.792174617781093e-05}. Best is trial 83 with value: 0.5942985561769466.\n",
      "[I 2024-10-07 18:11:57,608] Trial 87 finished with value: 0.5723361109625642 and parameters: {'alpha': 1.176003191794257e-05}. Best is trial 83 with value: 0.5942985561769466.\n",
      "[I 2024-10-07 18:11:57,856] Trial 88 finished with value: 0.5481688988887963 and parameters: {'alpha': 2.9663367844589033e-06}. Best is trial 83 with value: 0.5942985561769466.\n",
      "[I 2024-10-07 18:11:58,129] Trial 89 finished with value: 0.5172305891939734 and parameters: {'alpha': 0.0024943349746713466}. Best is trial 83 with value: 0.5942985561769466.\n",
      "[I 2024-10-07 18:11:58,395] Trial 90 finished with value: 0.5317844157241572 and parameters: {'alpha': 7.567529321488031e-07}. Best is trial 83 with value: 0.5942985561769466.\n",
      "[I 2024-10-07 18:11:58,829] Trial 91 finished with value: 0.5942464441001141 and parameters: {'alpha': 8.462257985149662e-05}. Best is trial 83 with value: 0.5942985561769466.\n",
      "[I 2024-10-07 18:11:59,173] Trial 92 finished with value: 0.594113162960343 and parameters: {'alpha': 7.818724367414677e-05}. Best is trial 83 with value: 0.5942985561769466.\n",
      "[I 2024-10-07 18:11:59,479] Trial 93 finished with value: 0.5876513390470327 and parameters: {'alpha': 0.00024247922652881904}. Best is trial 83 with value: 0.5942985561769466.\n",
      "[I 2024-10-07 18:11:59,864] Trial 94 finished with value: 0.5866626764793508 and parameters: {'alpha': 2.9705691066683724e-05}. Best is trial 83 with value: 0.5942985561769466.\n",
      "[I 2024-10-07 18:12:00,244] Trial 95 finished with value: 0.5668025586345736 and parameters: {'alpha': 0.000636619036827841}. Best is trial 83 with value: 0.5942985561769466.\n",
      "[I 2024-10-07 18:12:00,552] Trial 96 finished with value: 0.594248555777561 and parameters: {'alpha': 8.47764231308171e-05}. Best is trial 83 with value: 0.5942985561769466.\n",
      "[I 2024-10-07 18:12:00,868] Trial 97 finished with value: 0.5907511265905392 and parameters: {'alpha': 4.338262344394544e-05}. Best is trial 83 with value: 0.5942985561769466.\n",
      "[I 2024-10-07 18:12:01,255] Trial 98 finished with value: 0.578439085450811 and parameters: {'alpha': 1.6855515390838463e-05}. Best is trial 83 with value: 0.5942985561769466.\n",
      "[I 2024-10-07 18:12:01,516] Trial 99 finished with value: 0.5897710304869271 and parameters: {'alpha': 0.00020574044829583542}. Best is trial 83 with value: 0.5942985561769466.\n"
     ]
    }
   ],
   "source": [
    "study = optuna.create_study(\n",
    "    storage=\"sqlite:///db.sqlite3\",\n",
    "    study_name=\"ridge_hpo\",\n",
    "    direction=\"maximize\",\n",
    ")\n",
    "study.optimize(objective, n_trials=100)"
   ]
  },
  {
   "cell_type": "markdown",
   "id": "6807a66f-18e3-489c-a788-9f5661de877a",
   "metadata": {},
   "source": [
    "### XGBoost"
   ]
  },
  {
   "cell_type": "code",
   "execution_count": 68,
   "id": "418025e1-28e2-453c-971e-75d5cf135e78",
   "metadata": {},
   "outputs": [],
   "source": [
    "def objective(trial):\n",
    "    learning_rate = trial.suggest_float('learning_rate', 1e-3, 1.0, log=True)\n",
    "    max_depth = trial.suggest_int('max_depth', 1, 9)\n",
    "    min_child_weight = trial.suggest_int('min_child_weight', 1, 100)\n",
    "    subsample = trial.suggest_float('subsample', 0.1, 1.0)\n",
    "    colsample_bytree = trial.suggest_float('colsample_bytree', 0.1, 1.0)\n",
    "    reg_lambda = trial.suggest_float('reg_lambda', 1e-3, 1e3, log=True)\n",
    "\n",
    "    model = XGBRegressor(\n",
    "        n_estimators=100,\n",
    "        learning_rate=learning_rate,\n",
    "        max_depth=max_depth,\n",
    "        min_child_weight=min_child_weight,\n",
    "        subsample=subsample,\n",
    "        colsample_bytree=colsample_bytree,\n",
    "        reg_lambda=reg_lambda,\n",
    "    )\n",
    "\n",
    "    # 使用交叉验证进行评估\n",
    "    oof_pred = cross_val_predict(model, X_train, Y_train, cv=3)\n",
    "    sigma_pred = mean_squared_error(Y_train, oof_pred, squared=False)\n",
    "    score = get_cv_score(oof_pred, sigma_pred)\n",
    "\n",
    "    return score  # 越大越好"
   ]
  },
  {
   "cell_type": "code",
   "execution_count": null,
   "id": "0b2ae091-4482-4967-9a79-9816be315cfa",
   "metadata": {
    "collapsed": true,
    "jupyter": {
     "outputs_hidden": true
    },
    "scrolled": true
   },
   "outputs": [
    {
     "name": "stderr",
     "output_type": "stream",
     "text": [
      "[I 2024-10-07 18:22:20,779] A new study created in RDB with name: xgb_hpo\n",
      "[I 2024-10-07 18:29:46,725] Trial 0 finished with value: 0.1775155137704812 and parameters: {'learning_rate': 0.0472231242569458, 'max_depth': 2, 'min_child_weight': 48, 'subsample': 0.2516657558079804, 'colsample_bytree': 0.11296557069651325, 'reg_lambda': 0.004738599934234508}. Best is trial 0 with value: 0.1775155137704812.\n",
      "[I 2024-10-07 18:38:24,789] Trial 1 finished with value: 0.01269991925763734 and parameters: {'learning_rate': 0.0013830318541883382, 'max_depth': 5, 'min_child_weight': 27, 'subsample': 0.159648034221176, 'colsample_bytree': 0.6240118624120023, 'reg_lambda': 7.356640223465614}. Best is trial 0 with value: 0.1775155137704812.\n",
      "[I 2024-10-07 18:42:39,473] Trial 2 finished with value: 0.0 and parameters: {'learning_rate': 0.0010825058938365793, 'max_depth': 2, 'min_child_weight': 42, 'subsample': 0.14336954993669324, 'colsample_bytree': 0.24653439503785068, 'reg_lambda': 37.02325255972212}. Best is trial 0 with value: 0.1775155137704812.\n",
      "[I 2024-10-07 18:46:55,849] Trial 3 finished with value: 0.0 and parameters: {'learning_rate': 0.049365923514147904, 'max_depth': 2, 'min_child_weight': 40, 'subsample': 0.10922888615935321, 'colsample_bytree': 0.9447128409783451, 'reg_lambda': 7.2215003183927235}. Best is trial 0 with value: 0.1775155137704812.\n",
      "[I 2024-10-07 19:01:40,721] Trial 4 finished with value: 0.026015634676173436 and parameters: {'learning_rate': 0.001624466785725362, 'max_depth': 7, 'min_child_weight': 32, 'subsample': 0.5550059758812141, 'colsample_bytree': 0.26418297142002856, 'reg_lambda': 0.014113354610398126}. Best is trial 0 with value: 0.1775155137704812.\n",
      "[I 2024-10-07 19:05:51,033] Trial 5 finished with value: 0.0 and parameters: {'learning_rate': 0.03783502888998873, 'max_depth': 7, 'min_child_weight': 56, 'subsample': 0.11610011338376694, 'colsample_bytree': 0.38793526996952044, 'reg_lambda': 0.0029470416928168526}. Best is trial 0 with value: 0.1775155137704812.\n",
      "[I 2024-10-07 19:10:46,487] Trial 6 finished with value: 0.30666803689634703 and parameters: {'learning_rate': 0.5254743645287984, 'max_depth': 5, 'min_child_weight': 27, 'subsample': 0.3973665860655896, 'colsample_bytree': 0.19223077837015673, 'reg_lambda': 49.645562695618345}. Best is trial 6 with value: 0.30666803689634703.\n",
      "[I 2024-10-07 19:15:18,037] Trial 7 finished with value: 0.013252680894576136 and parameters: {'learning_rate': 0.001052714906296055, 'max_depth': 1, 'min_child_weight': 54, 'subsample': 0.9460719881537215, 'colsample_bytree': 0.4079013741586711, 'reg_lambda': 0.0011770860694830271}. Best is trial 6 with value: 0.30666803689634703.\n",
      "[I 2024-10-07 19:22:00,578] Trial 8 finished with value: 0.236942623598863 and parameters: {'learning_rate': 0.5200543642033404, 'max_depth': 5, 'min_child_weight': 51, 'subsample': 0.46007025726956774, 'colsample_bytree': 0.8318094636452851, 'reg_lambda': 0.18977923213972037}. Best is trial 6 with value: 0.30666803689634703.\n",
      "[I 2024-10-07 19:29:21,795] Trial 9 finished with value: 0.19988819952442863 and parameters: {'learning_rate': 0.18943562754204205, 'max_depth': 7, 'min_child_weight': 37, 'subsample': 0.19560460887834327, 'colsample_bytree': 0.3985265236346025, 'reg_lambda': 0.144960897398843}. Best is trial 6 with value: 0.30666803689634703.\n",
      "[I 2024-10-07 19:38:07,786] Trial 10 finished with value: 0.012380937622023991 and parameters: {'learning_rate': 0.0066196356786717815, 'max_depth': 9, 'min_child_weight': 7, 'subsample': 0.6233753899097366, 'colsample_bytree': 0.6686016051229096, 'reg_lambda': 681.2043141132317}. Best is trial 6 with value: 0.30666803689634703.\n",
      "[I 2024-10-07 19:43:04,411] Trial 11 finished with value: 0.12961387186219336 and parameters: {'learning_rate': 0.6253736928898711, 'max_depth': 4, 'min_child_weight': 93, 'subsample': 0.38656686723806594, 'colsample_bytree': 0.9132133993032864, 'reg_lambda': 0.18116406662211504}. Best is trial 6 with value: 0.30666803689634703.\n",
      "[I 2024-10-07 19:49:54,394] Trial 12 finished with value: 0.17197139185408541 and parameters: {'learning_rate': 0.6017730263175269, 'max_depth': 4, 'min_child_weight': 74, 'subsample': 0.39399793753307555, 'colsample_bytree': 0.7742834667593383, 'reg_lambda': 992.9464294616815}. Best is trial 6 with value: 0.30666803689634703.\n",
      "[I 2024-10-07 19:56:30,864] Trial 13 finished with value: 0.43926090630704 and parameters: {'learning_rate': 0.18943083639447422, 'max_depth': 5, 'min_child_weight': 17, 'subsample': 0.7044963556113741, 'colsample_bytree': 0.7808837105345807, 'reg_lambda': 0.6077517591881737}. Best is trial 13 with value: 0.43926090630704.\n",
      "[I 2024-10-07 20:03:58,176] Trial 14 finished with value: 0.39405845621626834 and parameters: {'learning_rate': 0.16436591070029807, 'max_depth': 6, 'min_child_weight': 11, 'subsample': 0.6932805664252439, 'colsample_bytree': 0.5078689657200395, 'reg_lambda': 64.63822716308556}. Best is trial 13 with value: 0.43926090630704.\n",
      "[I 2024-10-07 20:10:54,836] Trial 15 finished with value: 0.44703564229433207 and parameters: {'learning_rate': 0.14528039536655485, 'max_depth': 9, 'min_child_weight': 9, 'subsample': 0.766830640203336, 'colsample_bytree': 0.5801282347787484, 'reg_lambda': 1.1324854915874332}. Best is trial 15 with value: 0.44703564229433207.\n",
      "[I 2024-10-07 20:18:22,996] Trial 16 finished with value: 0.44709514753234986 and parameters: {'learning_rate': 0.13247585199340553, 'max_depth': 9, 'min_child_weight': 17, 'subsample': 0.8184925128054084, 'colsample_bytree': 0.7223708435674374, 'reg_lambda': 1.3949072279401955}. Best is trial 16 with value: 0.44709514753234986.\n",
      "[I 2024-10-07 20:35:56,341] Trial 17 finished with value: 0.20745434067935334 and parameters: {'learning_rate': 0.013257129850366759, 'max_depth': 9, 'min_child_weight': 5, 'subsample': 0.8778901291054403, 'colsample_bytree': 0.5556436378357342, 'reg_lambda': 3.03722407903281}. Best is trial 16 with value: 0.44709514753234986.\n",
      "[I 2024-10-07 20:44:25,242] Trial 18 finished with value: 0.45164420370575625 and parameters: {'learning_rate': 0.09564551606958016, 'max_depth': 8, 'min_child_weight': 19, 'subsample': 0.8059297775130094, 'colsample_bytree': 0.6733684931510262, 'reg_lambda': 0.02776543583854084}. Best is trial 18 with value: 0.45164420370575625.\n",
      "[I 2024-10-07 21:03:30,088] Trial 19 finished with value: 0.2624852495853352 and parameters: {'learning_rate': 0.01570157657035219, 'max_depth': 8, 'min_child_weight': 21, 'subsample': 0.8582502734353084, 'colsample_bytree': 0.6837692641654426, 'reg_lambda': 0.027033056040499267}. Best is trial 18 with value: 0.45164420370575625.\n",
      "[I 2024-10-07 21:11:36,345] Trial 20 finished with value: 0.3239221207589331 and parameters: {'learning_rate': 0.09883758574826952, 'max_depth': 8, 'min_child_weight': 67, 'subsample': 0.8149698524078012, 'colsample_bytree': 0.9922715792523402, 'reg_lambda': 0.04531953958018979}. Best is trial 18 with value: 0.45164420370575625.\n",
      "[I 2024-10-07 21:20:45,947] Trial 21 finished with value: 0.45460503448091805 and parameters: {'learning_rate': 0.07853195140360668, 'max_depth': 9, 'min_child_weight': 3, 'subsample': 0.7666099953682267, 'colsample_bytree': 0.5246569193047262, 'reg_lambda': 0.8451353724680818}. Best is trial 21 with value: 0.45460503448091805.\n",
      "[I 2024-10-07 21:26:19,045] Trial 22 finished with value: 0.42824202343560336 and parameters: {'learning_rate': 0.31508946535526533, 'max_depth': 8, 'min_child_weight': 19, 'subsample': 0.9962754726566699, 'colsample_bytree': 0.4640424316907675, 'reg_lambda': 0.7233738905946199}. Best is trial 21 with value: 0.45460503448091805.\n",
      "[I 2024-10-07 21:36:16,803] Trial 23 finished with value: 0.45726358804162026 and parameters: {'learning_rate': 0.08137024583209762, 'max_depth': 9, 'min_child_weight': 1, 'subsample': 0.7518519460700016, 'colsample_bytree': 0.6908214692084356, 'reg_lambda': 0.06824589569948702}. Best is trial 23 with value: 0.45726358804162026.\n",
      "[I 2024-10-07 21:46:33,927] Trial 24 finished with value: 0.45663805850402023 and parameters: {'learning_rate': 0.07839234091442877, 'max_depth': 8, 'min_child_weight': 2, 'subsample': 0.7186740095720029, 'colsample_bytree': 0.6102772342264497, 'reg_lambda': 0.08539130028040175}. Best is trial 23 with value: 0.45726358804162026.\n",
      "[I 2024-10-07 22:05:35,327] Trial 25 finished with value: 0.3227023357503768 and parameters: {'learning_rate': 0.02002158727541995, 'max_depth': 9, 'min_child_weight': 1, 'subsample': 0.6929640831783066, 'colsample_bytree': 0.4934639505135322, 'reg_lambda': 0.19373012110853302}. Best is trial 23 with value: 0.45726358804162026.\n",
      "[I 2024-10-07 22:37:03,679] Trial 26 finished with value: 0.4537943416072423 and parameters: {'learning_rate': 0.08180307447806671, 'max_depth': 7, 'min_child_weight': 2, 'subsample': 0.6321967443675063, 'colsample_bytree': 0.6094123053572307, 'reg_lambda': 0.07412576823139498}. Best is trial 23 with value: 0.45726358804162026.\n",
      "[I 2024-10-08 00:23:02,423] Trial 27 finished with value: 0.45046825544350766 and parameters: {'learning_rate': 0.06544078514010084, 'max_depth': 8, 'min_child_weight': 10, 'subsample': 0.5528605605423967, 'colsample_bytree': 0.8532159973537312, 'reg_lambda': 0.009305877962295818}. Best is trial 23 with value: 0.45726358804162026.\n",
      "[I 2024-10-08 02:38:27,008] Trial 28 finished with value: 0.41481383710796477 and parameters: {'learning_rate': 0.02887830672794806, 'max_depth': 6, 'min_child_weight': 1, 'subsample': 0.9189104703365158, 'colsample_bytree': 0.3240236205771585, 'reg_lambda': 0.29156617367494336}. Best is trial 23 with value: 0.45726358804162026.\n",
      "[I 2024-10-08 05:16:49,816] Trial 29 finished with value: 0.12808448367655448 and parameters: {'learning_rate': 0.007467376807817397, 'max_depth': 9, 'min_child_weight': 13, 'subsample': 0.7413203576967075, 'colsample_bytree': 0.5369799821146205, 'reg_lambda': 0.006195369883093619}. Best is trial 23 with value: 0.45726358804162026.\n",
      "[I 2024-10-08 06:47:23,384] Trial 30 finished with value: 0.42836588278432775 and parameters: {'learning_rate': 0.051237606165130976, 'max_depth': 6, 'min_child_weight': 26, 'subsample': 0.641954257702571, 'colsample_bytree': 0.4546323882902801, 'reg_lambda': 0.062128132177230115}. Best is trial 23 with value: 0.45726358804162026.\n",
      "[I 2024-10-08 08:01:35,169] Trial 31 finished with value: 0.45341003626543025 and parameters: {'learning_rate': 0.0751236878209422, 'max_depth': 7, 'min_child_weight': 1, 'subsample': 0.6058743077285668, 'colsample_bytree': 0.6072346115618873, 'reg_lambda': 0.06820908697011942}. Best is trial 23 with value: 0.45726358804162026.\n",
      "[I 2024-10-08 09:57:20,194] Trial 32 finished with value: 0.3937780876425541 and parameters: {'learning_rate': 0.027617957872075848, 'max_depth': 8, 'min_child_weight': 5, 'subsample': 0.5055993908351315, 'colsample_bytree': 0.6155181090135604, 'reg_lambda': 0.4273112101358868}. Best is trial 23 with value: 0.45726358804162026.\n",
      "[I 2024-10-08 10:45:31,117] Trial 33 finished with value: 0.4242724621667677 and parameters: {'learning_rate': 0.30301290947280435, 'max_depth': 7, 'min_child_weight': 12, 'subsample': 0.7534047572242398, 'colsample_bytree': 0.7493510324758752, 'reg_lambda': 2.451928144517052}. Best is trial 23 with value: 0.45726358804162026.\n",
      "[I 2024-10-08 11:35:23,914] Trial 34 finished with value: 0.39764718549130923 and parameters: {'learning_rate': 0.28026840692579846, 'max_depth': 8, 'min_child_weight': 23, 'subsample': 0.6462323751144049, 'colsample_bytree': 0.649789318491651, 'reg_lambda': 10.406747107448611}. Best is trial 23 with value: 0.45726358804162026.\n",
      "[I 2024-10-08 12:45:03,801] Trial 35 finished with value: 0.203820999390229 and parameters: {'learning_rate': 0.06772341165511424, 'max_depth': 9, 'min_child_weight': 98, 'subsample': 0.5874566694406558, 'colsample_bytree': 0.5739078625262252, 'reg_lambda': 0.09297912453921778}. Best is trial 23 with value: 0.45726358804162026.\n"
     ]
    }
   ],
   "source": [
    "study = optuna.create_study(\n",
    "    storage=\"sqlite:///db.sqlite3\",\n",
    "    study_name=\"xgb_hpo\",\n",
    "    direction=\"maximize\",\n",
    ")\n",
    "study.optimize(objective, n_trials=100)"
   ]
  },
  {
   "cell_type": "code",
   "execution_count": 71,
   "id": "61c56c7a-3c7a-48b8-b7ef-02cd103c696b",
   "metadata": {},
   "outputs": [
    {
     "data": {
      "text/plain": [
       "0.45726358804162026"
      ]
     },
     "execution_count": 71,
     "metadata": {},
     "output_type": "execute_result"
    }
   ],
   "source": [
    "study.best_value"
   ]
  },
  {
   "cell_type": "code",
   "execution_count": 72,
   "id": "64ab0ab6-fa29-493a-9a9c-f26d54b610b7",
   "metadata": {},
   "outputs": [
    {
     "data": {
      "text/plain": [
       "{'learning_rate': 0.08137024583209762,\n",
       " 'max_depth': 9,\n",
       " 'min_child_weight': 1,\n",
       " 'subsample': 0.7518519460700016,\n",
       " 'colsample_bytree': 0.6908214692084356,\n",
       " 'reg_lambda': 0.06824589569948702}"
      ]
     },
     "execution_count": 72,
     "metadata": {},
     "output_type": "execute_result"
    }
   ],
   "source": [
    "study.best_params"
   ]
  },
  {
   "cell_type": "markdown",
   "id": "e40f5bf5-eaf1-4bac-b531-e14f00475e4b",
   "metadata": {},
   "source": [
    "## 特征选择"
   ]
  },
  {
   "cell_type": "code",
   "execution_count": 100,
   "id": "699fa0a7-a456-4ed5-90c0-8177264f0d01",
   "metadata": {},
   "outputs": [],
   "source": [
    "import matplotlib.gridspec as gridspec"
   ]
  },
  {
   "cell_type": "code",
   "execution_count": 88,
   "id": "df50a2bd-3cc6-4599-bf47-8513c88aa233",
   "metadata": {},
   "outputs": [],
   "source": [
    "feat_df = pd.DataFrame(X_train, columns=[f'f_{i}' for i in range(X_train.shape[1])])"
   ]
  },
  {
   "cell_type": "code",
   "execution_count": 92,
   "id": "cfe36f5e-0537-4dbf-83c5-b1b665648e0f",
   "metadata": {},
   "outputs": [],
   "source": [
    "target_df = pd.DataFrame(Y_train, columns=train_label_df.columns)"
   ]
  },
  {
   "cell_type": "code",
   "execution_count": 90,
   "id": "6fe02fa3-5b5a-4096-876a-d283c5320d95",
   "metadata": {},
   "outputs": [],
   "source": [
    "def get_feature_importances(feat_df, target_df, shuffle=False, seed=None):\n",
    "    y = target_df.copy()\n",
    "    if shuffle:\n",
    "        y = target_df.copy().sample(frac=1.0)\n",
    "\n",
    "    model = Ridge(alpha=9.17e-5)\n",
    "    model.fit(feat_df, y)\n",
    "\n",
    "    # Get feature importances\n",
    "    imp_df = pd.DataFrame()\n",
    "    imp_df[\"feature\"] = feat_df.columns\n",
    "    imp_df['weight'] = np.abs(model.coef_).mean(axis=0)\n",
    "\n",
    "    return imp_df"
   ]
  },
  {
   "cell_type": "code",
   "execution_count": 96,
   "id": "053cebb0-a91e-4640-835d-40b62534f14f",
   "metadata": {},
   "outputs": [],
   "source": [
    "actual_imp_df = get_feature_importances(feat_df, target_df, shuffle=False)"
   ]
  },
  {
   "cell_type": "code",
   "execution_count": 97,
   "id": "07d57bba-0757-45a2-83c1-d94655a97df2",
   "metadata": {},
   "outputs": [
    {
     "name": "stdout",
     "output_type": "stream",
     "text": []
    },
    {
     "name": "stdout",
     "output_type": "stream",
     "text": []
    },
    {
     "name": "stdout",
     "output_type": "stream",
     "text": []
    },
    {
     "name": "stdout",
     "output_type": "stream",
     "text": []
    },
    {
     "name": "stdout",
     "output_type": "stream",
     "text": []
    },
    {
     "name": "stdout",
     "output_type": "stream",
     "text": []
    },
    {
     "name": "stdout",
     "output_type": "stream",
     "text": []
    },
    {
     "name": "stdout",
     "output_type": "stream",
     "text": []
    },
    {
     "name": "stdout",
     "output_type": "stream",
     "text": []
    },
    {
     "name": "stdout",
     "output_type": "stream",
     "text": []
    },
    {
     "name": "stdout",
     "output_type": "stream",
     "text": []
    },
    {
     "name": "stdout",
     "output_type": "stream",
     "text": []
    },
    {
     "name": "stdout",
     "output_type": "stream",
     "text": []
    },
    {
     "name": "stdout",
     "output_type": "stream",
     "text": []
    },
    {
     "name": "stdout",
     "output_type": "stream",
     "text": []
    },
    {
     "name": "stdout",
     "output_type": "stream",
     "text": []
    },
    {
     "name": "stdout",
     "output_type": "stream",
     "text": []
    },
    {
     "name": "stdout",
     "output_type": "stream",
     "text": []
    },
    {
     "name": "stdout",
     "output_type": "stream",
     "text": []
    },
    {
     "name": "stdout",
     "output_type": "stream",
     "text": []
    },
    {
     "name": "stdout",
     "output_type": "stream",
     "text": []
    },
    {
     "name": "stdout",
     "output_type": "stream",
     "text": []
    },
    {
     "name": "stdout",
     "output_type": "stream",
     "text": []
    },
    {
     "name": "stdout",
     "output_type": "stream",
     "text": []
    },
    {
     "name": "stdout",
     "output_type": "stream",
     "text": []
    },
    {
     "name": "stdout",
     "output_type": "stream",
     "text": []
    },
    {
     "name": "stdout",
     "output_type": "stream",
     "text": []
    },
    {
     "name": "stdout",
     "output_type": "stream",
     "text": []
    },
    {
     "name": "stdout",
     "output_type": "stream",
     "text": []
    },
    {
     "name": "stdout",
     "output_type": "stream",
     "text": []
    },
    {
     "name": "stdout",
     "output_type": "stream",
     "text": []
    },
    {
     "name": "stdout",
     "output_type": "stream",
     "text": []
    },
    {
     "name": "stdout",
     "output_type": "stream",
     "text": []
    },
    {
     "name": "stdout",
     "output_type": "stream",
     "text": []
    },
    {
     "name": "stdout",
     "output_type": "stream",
     "text": []
    },
    {
     "name": "stdout",
     "output_type": "stream",
     "text": []
    },
    {
     "name": "stdout",
     "output_type": "stream",
     "text": []
    },
    {
     "name": "stdout",
     "output_type": "stream",
     "text": []
    },
    {
     "name": "stdout",
     "output_type": "stream",
     "text": []
    },
    {
     "name": "stdout",
     "output_type": "stream",
     "text": []
    },
    {
     "name": "stdout",
     "output_type": "stream",
     "text": []
    },
    {
     "name": "stdout",
     "output_type": "stream",
     "text": []
    },
    {
     "name": "stdout",
     "output_type": "stream",
     "text": []
    },
    {
     "name": "stdout",
     "output_type": "stream",
     "text": []
    },
    {
     "name": "stdout",
     "output_type": "stream",
     "text": []
    },
    {
     "name": "stdout",
     "output_type": "stream",
     "text": []
    },
    {
     "name": "stdout",
     "output_type": "stream",
     "text": []
    },
    {
     "name": "stdout",
     "output_type": "stream",
     "text": []
    },
    {
     "name": "stdout",
     "output_type": "stream",
     "text": []
    },
    {
     "name": "stdout",
     "output_type": "stream",
     "text": []
    },
    {
     "name": "stdout",
     "output_type": "stream",
     "text": []
    },
    {
     "name": "stdout",
     "output_type": "stream",
     "text": []
    },
    {
     "name": "stdout",
     "output_type": "stream",
     "text": []
    },
    {
     "name": "stdout",
     "output_type": "stream",
     "text": []
    },
    {
     "name": "stdout",
     "output_type": "stream",
     "text": []
    },
    {
     "name": "stdout",
     "output_type": "stream",
     "text": []
    },
    {
     "name": "stdout",
     "output_type": "stream",
     "text": []
    },
    {
     "name": "stdout",
     "output_type": "stream",
     "text": []
    },
    {
     "name": "stdout",
     "output_type": "stream",
     "text": []
    },
    {
     "name": "stdout",
     "output_type": "stream",
     "text": []
    },
    {
     "name": "stdout",
     "output_type": "stream",
     "text": []
    },
    {
     "name": "stdout",
     "output_type": "stream",
     "text": []
    },
    {
     "name": "stdout",
     "output_type": "stream",
     "text": []
    },
    {
     "name": "stdout",
     "output_type": "stream",
     "text": []
    },
    {
     "name": "stdout",
     "output_type": "stream",
     "text": []
    },
    {
     "name": "stdout",
     "output_type": "stream",
     "text": []
    },
    {
     "name": "stdout",
     "output_type": "stream",
     "text": []
    },
    {
     "name": "stdout",
     "output_type": "stream",
     "text": []
    },
    {
     "name": "stdout",
     "output_type": "stream",
     "text": []
    },
    {
     "name": "stdout",
     "output_type": "stream",
     "text": []
    },
    {
     "name": "stdout",
     "output_type": "stream",
     "text": []
    },
    {
     "name": "stdout",
     "output_type": "stream",
     "text": []
    },
    {
     "name": "stdout",
     "output_type": "stream",
     "text": []
    },
    {
     "name": "stdout",
     "output_type": "stream",
     "text": []
    },
    {
     "name": "stdout",
     "output_type": "stream",
     "text": []
    },
    {
     "name": "stdout",
     "output_type": "stream",
     "text": []
    },
    {
     "name": "stdout",
     "output_type": "stream",
     "text": []
    },
    {
     "name": "stdout",
     "output_type": "stream",
     "text": []
    },
    {
     "name": "stdout",
     "output_type": "stream",
     "text": []
    },
    {
     "name": "stdout",
     "output_type": "stream",
     "text": []
    },
    {
     "name": "stdout",
     "output_type": "stream",
     "text": []
    },
    {
     "name": "stdout",
     "output_type": "stream",
     "text": []
    },
    {
     "name": "stdout",
     "output_type": "stream",
     "text": []
    },
    {
     "name": "stdout",
     "output_type": "stream",
     "text": []
    },
    {
     "name": "stdout",
     "output_type": "stream",
     "text": []
    },
    {
     "name": "stdout",
     "output_type": "stream",
     "text": []
    },
    {
     "name": "stdout",
     "output_type": "stream",
     "text": []
    },
    {
     "name": "stdout",
     "output_type": "stream",
     "text": []
    },
    {
     "name": "stdout",
     "output_type": "stream",
     "text": []
    },
    {
     "name": "stdout",
     "output_type": "stream",
     "text": []
    },
    {
     "name": "stdout",
     "output_type": "stream",
     "text": []
    },
    {
     "name": "stdout",
     "output_type": "stream",
     "text": []
    },
    {
     "name": "stdout",
     "output_type": "stream",
     "text": []
    },
    {
     "name": "stdout",
     "output_type": "stream",
     "text": []
    },
    {
     "name": "stdout",
     "output_type": "stream",
     "text": []
    },
    {
     "name": "stdout",
     "output_type": "stream",
     "text": []
    },
    {
     "name": "stdout",
     "output_type": "stream",
     "text": []
    },
    {
     "name": "stdout",
     "output_type": "stream",
     "text": []
    },
    {
     "name": "stdout",
     "output_type": "stream",
     "text": []
    },
    {
     "name": "stdout",
     "output_type": "stream",
     "text": []
    },
    {
     "name": "stdout",
     "output_type": "stream",
     "text": []
    },
    {
     "name": "stdout",
     "output_type": "stream",
     "text": []
    },
    {
     "name": "stdout",
     "output_type": "stream",
     "text": []
    },
    {
     "name": "stdout",
     "output_type": "stream",
     "text": []
    },
    {
     "name": "stdout",
     "output_type": "stream",
     "text": []
    },
    {
     "name": "stdout",
     "output_type": "stream",
     "text": []
    },
    {
     "name": "stdout",
     "output_type": "stream",
     "text": []
    },
    {
     "name": "stdout",
     "output_type": "stream",
     "text": []
    },
    {
     "name": "stdout",
     "output_type": "stream",
     "text": []
    },
    {
     "name": "stdout",
     "output_type": "stream",
     "text": []
    },
    {
     "name": "stdout",
     "output_type": "stream",
     "text": []
    },
    {
     "name": "stdout",
     "output_type": "stream",
     "text": []
    },
    {
     "name": "stdout",
     "output_type": "stream",
     "text": []
    },
    {
     "name": "stdout",
     "output_type": "stream",
     "text": []
    },
    {
     "name": "stdout",
     "output_type": "stream",
     "text": []
    },
    {
     "name": "stdout",
     "output_type": "stream",
     "text": []
    },
    {
     "name": "stdout",
     "output_type": "stream",
     "text": []
    },
    {
     "name": "stdout",
     "output_type": "stream",
     "text": []
    },
    {
     "name": "stdout",
     "output_type": "stream",
     "text": []
    },
    {
     "name": "stdout",
     "output_type": "stream",
     "text": []
    },
    {
     "name": "stdout",
     "output_type": "stream",
     "text": []
    },
    {
     "name": "stdout",
     "output_type": "stream",
     "text": []
    },
    {
     "name": "stdout",
     "output_type": "stream",
     "text": []
    },
    {
     "name": "stdout",
     "output_type": "stream",
     "text": []
    },
    {
     "name": "stdout",
     "output_type": "stream",
     "text": []
    },
    {
     "name": "stdout",
     "output_type": "stream",
     "text": []
    },
    {
     "name": "stdout",
     "output_type": "stream",
     "text": []
    },
    {
     "name": "stdout",
     "output_type": "stream",
     "text": []
    },
    {
     "name": "stdout",
     "output_type": "stream",
     "text": []
    },
    {
     "name": "stdout",
     "output_type": "stream",
     "text": []
    },
    {
     "name": "stdout",
     "output_type": "stream",
     "text": []
    },
    {
     "name": "stdout",
     "output_type": "stream",
     "text": []
    },
    {
     "name": "stdout",
     "output_type": "stream",
     "text": []
    },
    {
     "name": "stdout",
     "output_type": "stream",
     "text": []
    },
    {
     "name": "stdout",
     "output_type": "stream",
     "text": []
    },
    {
     "name": "stdout",
     "output_type": "stream",
     "text": []
    },
    {
     "name": "stdout",
     "output_type": "stream",
     "text": []
    },
    {
     "name": "stdout",
     "output_type": "stream",
     "text": []
    },
    {
     "name": "stdout",
     "output_type": "stream",
     "text": []
    },
    {
     "name": "stdout",
     "output_type": "stream",
     "text": []
    },
    {
     "name": "stdout",
     "output_type": "stream",
     "text": []
    },
    {
     "name": "stdout",
     "output_type": "stream",
     "text": []
    },
    {
     "name": "stdout",
     "output_type": "stream",
     "text": []
    },
    {
     "name": "stdout",
     "output_type": "stream",
     "text": []
    },
    {
     "name": "stdout",
     "output_type": "stream",
     "text": []
    },
    {
     "name": "stdout",
     "output_type": "stream",
     "text": []
    },
    {
     "name": "stdout",
     "output_type": "stream",
     "text": []
    },
    {
     "name": "stdout",
     "output_type": "stream",
     "text": []
    },
    {
     "name": "stdout",
     "output_type": "stream",
     "text": []
    },
    {
     "name": "stdout",
     "output_type": "stream",
     "text": []
    },
    {
     "name": "stdout",
     "output_type": "stream",
     "text": []
    },
    {
     "name": "stdout",
     "output_type": "stream",
     "text": []
    },
    {
     "name": "stdout",
     "output_type": "stream",
     "text": []
    },
    {
     "name": "stdout",
     "output_type": "stream",
     "text": []
    },
    {
     "name": "stdout",
     "output_type": "stream",
     "text": []
    },
    {
     "name": "stdout",
     "output_type": "stream",
     "text": []
    },
    {
     "name": "stdout",
     "output_type": "stream",
     "text": []
    },
    {
     "name": "stdout",
     "output_type": "stream",
     "text": []
    },
    {
     "name": "stdout",
     "output_type": "stream",
     "text": []
    },
    {
     "name": "stdout",
     "output_type": "stream",
     "text": []
    },
    {
     "name": "stdout",
     "output_type": "stream",
     "text": []
    },
    {
     "name": "stdout",
     "output_type": "stream",
     "text": []
    },
    {
     "name": "stdout",
     "output_type": "stream",
     "text": []
    },
    {
     "name": "stdout",
     "output_type": "stream",
     "text": []
    },
    {
     "name": "stdout",
     "output_type": "stream",
     "text": []
    },
    {
     "name": "stdout",
     "output_type": "stream",
     "text": []
    },
    {
     "name": "stdout",
     "output_type": "stream",
     "text": []
    },
    {
     "name": "stdout",
     "output_type": "stream",
     "text": []
    },
    {
     "name": "stdout",
     "output_type": "stream",
     "text": []
    },
    {
     "name": "stdout",
     "output_type": "stream",
     "text": []
    },
    {
     "name": "stdout",
     "output_type": "stream",
     "text": []
    },
    {
     "name": "stdout",
     "output_type": "stream",
     "text": []
    },
    {
     "name": "stdout",
     "output_type": "stream",
     "text": []
    },
    {
     "name": "stdout",
     "output_type": "stream",
     "text": []
    },
    {
     "name": "stdout",
     "output_type": "stream",
     "text": []
    },
    {
     "name": "stdout",
     "output_type": "stream",
     "text": []
    },
    {
     "name": "stdout",
     "output_type": "stream",
     "text": []
    },
    {
     "name": "stdout",
     "output_type": "stream",
     "text": []
    },
    {
     "name": "stdout",
     "output_type": "stream",
     "text": []
    },
    {
     "name": "stdout",
     "output_type": "stream",
     "text": []
    },
    {
     "name": "stdout",
     "output_type": "stream",
     "text": []
    },
    {
     "name": "stdout",
     "output_type": "stream",
     "text": []
    },
    {
     "name": "stdout",
     "output_type": "stream",
     "text": []
    },
    {
     "name": "stdout",
     "output_type": "stream",
     "text": []
    },
    {
     "name": "stdout",
     "output_type": "stream",
     "text": []
    },
    {
     "name": "stdout",
     "output_type": "stream",
     "text": []
    },
    {
     "name": "stdout",
     "output_type": "stream",
     "text": []
    },
    {
     "name": "stdout",
     "output_type": "stream",
     "text": []
    },
    {
     "name": "stdout",
     "output_type": "stream",
     "text": []
    },
    {
     "name": "stdout",
     "output_type": "stream",
     "text": []
    },
    {
     "name": "stdout",
     "output_type": "stream",
     "text": []
    },
    {
     "name": "stdout",
     "output_type": "stream",
     "text": []
    },
    {
     "name": "stdout",
     "output_type": "stream",
     "text": []
    },
    {
     "name": "stdout",
     "output_type": "stream",
     "text": []
    },
    {
     "name": "stdout",
     "output_type": "stream",
     "text": []
    },
    {
     "name": "stdout",
     "output_type": "stream",
     "text": []
    },
    {
     "name": "stdout",
     "output_type": "stream",
     "text": []
    },
    {
     "name": "stdout",
     "output_type": "stream",
     "text": []
    },
    {
     "name": "stdout",
     "output_type": "stream",
     "text": []
    },
    {
     "name": "stdout",
     "output_type": "stream",
     "text": []
    },
    {
     "name": "stdout",
     "output_type": "stream",
     "text": []
    },
    {
     "name": "stdout",
     "output_type": "stream",
     "text": []
    },
    {
     "name": "stdout",
     "output_type": "stream",
     "text": []
    },
    {
     "name": "stdout",
     "output_type": "stream",
     "text": []
    },
    {
     "name": "stdout",
     "output_type": "stream",
     "text": []
    },
    {
     "name": "stdout",
     "output_type": "stream",
     "text": []
    },
    {
     "name": "stdout",
     "output_type": "stream",
     "text": []
    },
    {
     "name": "stdout",
     "output_type": "stream",
     "text": []
    },
    {
     "name": "stdout",
     "output_type": "stream",
     "text": []
    },
    {
     "name": "stdout",
     "output_type": "stream",
     "text": []
    },
    {
     "name": "stdout",
     "output_type": "stream",
     "text": []
    },
    {
     "name": "stdout",
     "output_type": "stream",
     "text": []
    },
    {
     "name": "stdout",
     "output_type": "stream",
     "text": []
    },
    {
     "name": "stdout",
     "output_type": "stream",
     "text": []
    },
    {
     "name": "stdout",
     "output_type": "stream",
     "text": []
    },
    {
     "name": "stdout",
     "output_type": "stream",
     "text": []
    },
    {
     "name": "stdout",
     "output_type": "stream",
     "text": []
    },
    {
     "name": "stdout",
     "output_type": "stream",
     "text": []
    },
    {
     "name": "stdout",
     "output_type": "stream",
     "text": []
    },
    {
     "name": "stdout",
     "output_type": "stream",
     "text": []
    },
    {
     "name": "stdout",
     "output_type": "stream",
     "text": []
    },
    {
     "name": "stdout",
     "output_type": "stream",
     "text": []
    },
    {
     "name": "stdout",
     "output_type": "stream",
     "text": []
    },
    {
     "name": "stdout",
     "output_type": "stream",
     "text": []
    },
    {
     "name": "stdout",
     "output_type": "stream",
     "text": []
    },
    {
     "name": "stdout",
     "output_type": "stream",
     "text": []
    },
    {
     "name": "stdout",
     "output_type": "stream",
     "text": []
    },
    {
     "name": "stdout",
     "output_type": "stream",
     "text": []
    },
    {
     "name": "stdout",
     "output_type": "stream",
     "text": []
    },
    {
     "name": "stdout",
     "output_type": "stream",
     "text": []
    },
    {
     "name": "stdout",
     "output_type": "stream",
     "text": []
    },
    {
     "name": "stdout",
     "output_type": "stream",
     "text": []
    },
    {
     "name": "stdout",
     "output_type": "stream",
     "text": []
    },
    {
     "name": "stdout",
     "output_type": "stream",
     "text": []
    },
    {
     "name": "stdout",
     "output_type": "stream",
     "text": []
    },
    {
     "name": "stdout",
     "output_type": "stream",
     "text": []
    },
    {
     "name": "stdout",
     "output_type": "stream",
     "text": []
    },
    {
     "name": "stdout",
     "output_type": "stream",
     "text": []
    },
    {
     "name": "stdout",
     "output_type": "stream",
     "text": []
    },
    {
     "name": "stdout",
     "output_type": "stream",
     "text": []
    },
    {
     "name": "stdout",
     "output_type": "stream",
     "text": []
    },
    {
     "name": "stdout",
     "output_type": "stream",
     "text": []
    },
    {
     "name": "stdout",
     "output_type": "stream",
     "text": []
    },
    {
     "name": "stdout",
     "output_type": "stream",
     "text": []
    },
    {
     "name": "stdout",
     "output_type": "stream",
     "text": []
    },
    {
     "name": "stdout",
     "output_type": "stream",
     "text": []
    },
    {
     "name": "stdout",
     "output_type": "stream",
     "text": []
    },
    {
     "name": "stdout",
     "output_type": "stream",
     "text": []
    },
    {
     "name": "stdout",
     "output_type": "stream",
     "text": []
    },
    {
     "name": "stdout",
     "output_type": "stream",
     "text": []
    },
    {
     "name": "stdout",
     "output_type": "stream",
     "text": []
    },
    {
     "name": "stdout",
     "output_type": "stream",
     "text": []
    },
    {
     "name": "stdout",
     "output_type": "stream",
     "text": []
    },
    {
     "name": "stdout",
     "output_type": "stream",
     "text": []
    },
    {
     "name": "stdout",
     "output_type": "stream",
     "text": []
    },
    {
     "name": "stdout",
     "output_type": "stream",
     "text": []
    },
    {
     "name": "stdout",
     "output_type": "stream",
     "text": []
    },
    {
     "name": "stdout",
     "output_type": "stream",
     "text": []
    },
    {
     "name": "stdout",
     "output_type": "stream",
     "text": []
    },
    {
     "name": "stdout",
     "output_type": "stream",
     "text": []
    },
    {
     "name": "stdout",
     "output_type": "stream",
     "text": []
    },
    {
     "name": "stdout",
     "output_type": "stream",
     "text": []
    },
    {
     "name": "stdout",
     "output_type": "stream",
     "text": []
    },
    {
     "name": "stdout",
     "output_type": "stream",
     "text": []
    },
    {
     "name": "stdout",
     "output_type": "stream",
     "text": []
    },
    {
     "name": "stdout",
     "output_type": "stream",
     "text": []
    },
    {
     "name": "stdout",
     "output_type": "stream",
     "text": []
    },
    {
     "name": "stdout",
     "output_type": "stream",
     "text": []
    },
    {
     "name": "stdout",
     "output_type": "stream",
     "text": []
    },
    {
     "name": "stdout",
     "output_type": "stream",
     "text": []
    },
    {
     "name": "stdout",
     "output_type": "stream",
     "text": []
    },
    {
     "name": "stdout",
     "output_type": "stream",
     "text": []
    },
    {
     "name": "stdout",
     "output_type": "stream",
     "text": []
    },
    {
     "name": "stdout",
     "output_type": "stream",
     "text": []
    },
    {
     "name": "stdout",
     "output_type": "stream",
     "text": []
    },
    {
     "name": "stdout",
     "output_type": "stream",
     "text": []
    },
    {
     "name": "stdout",
     "output_type": "stream",
     "text": []
    },
    {
     "name": "stdout",
     "output_type": "stream",
     "text": []
    },
    {
     "name": "stdout",
     "output_type": "stream",
     "text": []
    },
    {
     "name": "stdout",
     "output_type": "stream",
     "text": []
    },
    {
     "name": "stdout",
     "output_type": "stream",
     "text": []
    },
    {
     "name": "stdout",
     "output_type": "stream",
     "text": []
    },
    {
     "name": "stdout",
     "output_type": "stream",
     "text": []
    },
    {
     "name": "stdout",
     "output_type": "stream",
     "text": []
    },
    {
     "name": "stdout",
     "output_type": "stream",
     "text": []
    },
    {
     "name": "stdout",
     "output_type": "stream",
     "text": []
    },
    {
     "name": "stdout",
     "output_type": "stream",
     "text": []
    },
    {
     "name": "stdout",
     "output_type": "stream",
     "text": []
    },
    {
     "name": "stdout",
     "output_type": "stream",
     "text": []
    },
    {
     "name": "stdout",
     "output_type": "stream",
     "text": []
    },
    {
     "name": "stdout",
     "output_type": "stream",
     "text": []
    },
    {
     "name": "stdout",
     "output_type": "stream",
     "text": []
    },
    {
     "name": "stdout",
     "output_type": "stream",
     "text": []
    },
    {
     "name": "stdout",
     "output_type": "stream",
     "text": []
    },
    {
     "name": "stdout",
     "output_type": "stream",
     "text": []
    },
    {
     "name": "stdout",
     "output_type": "stream",
     "text": []
    },
    {
     "name": "stdout",
     "output_type": "stream",
     "text": []
    },
    {
     "name": "stdout",
     "output_type": "stream",
     "text": []
    },
    {
     "name": "stdout",
     "output_type": "stream",
     "text": []
    },
    {
     "name": "stdout",
     "output_type": "stream",
     "text": []
    },
    {
     "name": "stdout",
     "output_type": "stream",
     "text": []
    },
    {
     "name": "stdout",
     "output_type": "stream",
     "text": []
    },
    {
     "name": "stdout",
     "output_type": "stream",
     "text": []
    },
    {
     "name": "stdout",
     "output_type": "stream",
     "text": []
    },
    {
     "name": "stdout",
     "output_type": "stream",
     "text": []
    },
    {
     "name": "stdout",
     "output_type": "stream",
     "text": []
    },
    {
     "name": "stdout",
     "output_type": "stream",
     "text": []
    },
    {
     "name": "stdout",
     "output_type": "stream",
     "text": []
    },
    {
     "name": "stdout",
     "output_type": "stream",
     "text": []
    },
    {
     "name": "stdout",
     "output_type": "stream",
     "text": []
    },
    {
     "name": "stdout",
     "output_type": "stream",
     "text": []
    },
    {
     "name": "stdout",
     "output_type": "stream",
     "text": []
    },
    {
     "name": "stdout",
     "output_type": "stream",
     "text": []
    },
    {
     "name": "stdout",
     "output_type": "stream",
     "text": []
    },
    {
     "name": "stdout",
     "output_type": "stream",
     "text": []
    },
    {
     "name": "stdout",
     "output_type": "stream",
     "text": []
    },
    {
     "name": "stdout",
     "output_type": "stream",
     "text": []
    },
    {
     "name": "stdout",
     "output_type": "stream",
     "text": []
    },
    {
     "name": "stdout",
     "output_type": "stream",
     "text": []
    },
    {
     "name": "stdout",
     "output_type": "stream",
     "text": []
    },
    {
     "name": "stdout",
     "output_type": "stream",
     "text": []
    },
    {
     "name": "stdout",
     "output_type": "stream",
     "text": []
    },
    {
     "name": "stdout",
     "output_type": "stream",
     "text": []
    },
    {
     "name": "stdout",
     "output_type": "stream",
     "text": []
    },
    {
     "name": "stdout",
     "output_type": "stream",
     "text": []
    },
    {
     "name": "stdout",
     "output_type": "stream",
     "text": []
    },
    {
     "name": "stdout",
     "output_type": "stream",
     "text": []
    },
    {
     "name": "stdout",
     "output_type": "stream",
     "text": []
    },
    {
     "name": "stdout",
     "output_type": "stream",
     "text": []
    },
    {
     "name": "stdout",
     "output_type": "stream",
     "text": []
    },
    {
     "name": "stdout",
     "output_type": "stream",
     "text": []
    },
    {
     "name": "stdout",
     "output_type": "stream",
     "text": []
    },
    {
     "name": "stdout",
     "output_type": "stream",
     "text": []
    },
    {
     "name": "stdout",
     "output_type": "stream",
     "text": []
    },
    {
     "name": "stdout",
     "output_type": "stream",
     "text": []
    },
    {
     "name": "stdout",
     "output_type": "stream",
     "text": []
    },
    {
     "name": "stdout",
     "output_type": "stream",
     "text": []
    },
    {
     "name": "stdout",
     "output_type": "stream",
     "text": []
    },
    {
     "name": "stdout",
     "output_type": "stream",
     "text": []
    },
    {
     "name": "stdout",
     "output_type": "stream",
     "text": []
    },
    {
     "name": "stdout",
     "output_type": "stream",
     "text": []
    },
    {
     "name": "stdout",
     "output_type": "stream",
     "text": []
    },
    {
     "name": "stdout",
     "output_type": "stream",
     "text": []
    },
    {
     "name": "stdout",
     "output_type": "stream",
     "text": []
    },
    {
     "name": "stdout",
     "output_type": "stream",
     "text": []
    },
    {
     "name": "stdout",
     "output_type": "stream",
     "text": []
    },
    {
     "name": "stdout",
     "output_type": "stream",
     "text": []
    },
    {
     "name": "stdout",
     "output_type": "stream",
     "text": []
    },
    {
     "name": "stdout",
     "output_type": "stream",
     "text": []
    },
    {
     "name": "stdout",
     "output_type": "stream",
     "text": []
    },
    {
     "name": "stdout",
     "output_type": "stream",
     "text": []
    },
    {
     "name": "stdout",
     "output_type": "stream",
     "text": []
    },
    {
     "name": "stdout",
     "output_type": "stream",
     "text": []
    },
    {
     "name": "stdout",
     "output_type": "stream",
     "text": []
    },
    {
     "name": "stdout",
     "output_type": "stream",
     "text": []
    },
    {
     "name": "stdout",
     "output_type": "stream",
     "text": []
    },
    {
     "name": "stdout",
     "output_type": "stream",
     "text": []
    },
    {
     "name": "stdout",
     "output_type": "stream",
     "text": []
    },
    {
     "name": "stdout",
     "output_type": "stream",
     "text": []
    },
    {
     "name": "stdout",
     "output_type": "stream",
     "text": []
    },
    {
     "name": "stdout",
     "output_type": "stream",
     "text": []
    },
    {
     "name": "stdout",
     "output_type": "stream",
     "text": []
    },
    {
     "name": "stdout",
     "output_type": "stream",
     "text": []
    },
    {
     "name": "stdout",
     "output_type": "stream",
     "text": []
    },
    {
     "name": "stdout",
     "output_type": "stream",
     "text": []
    },
    {
     "name": "stdout",
     "output_type": "stream",
     "text": []
    },
    {
     "name": "stdout",
     "output_type": "stream",
     "text": []
    },
    {
     "name": "stdout",
     "output_type": "stream",
     "text": []
    },
    {
     "name": "stdout",
     "output_type": "stream",
     "text": []
    },
    {
     "name": "stdout",
     "output_type": "stream",
     "text": []
    },
    {
     "name": "stdout",
     "output_type": "stream",
     "text": []
    },
    {
     "name": "stdout",
     "output_type": "stream",
     "text": []
    },
    {
     "name": "stdout",
     "output_type": "stream",
     "text": []
    },
    {
     "name": "stdout",
     "output_type": "stream",
     "text": []
    },
    {
     "name": "stdout",
     "output_type": "stream",
     "text": []
    },
    {
     "name": "stdout",
     "output_type": "stream",
     "text": []
    },
    {
     "name": "stdout",
     "output_type": "stream",
     "text": []
    },
    {
     "name": "stdout",
     "output_type": "stream",
     "text": []
    },
    {
     "name": "stdout",
     "output_type": "stream",
     "text": []
    },
    {
     "name": "stdout",
     "output_type": "stream",
     "text": []
    },
    {
     "name": "stdout",
     "output_type": "stream",
     "text": []
    },
    {
     "name": "stdout",
     "output_type": "stream",
     "text": []
    },
    {
     "name": "stdout",
     "output_type": "stream",
     "text": []
    },
    {
     "name": "stdout",
     "output_type": "stream",
     "text": []
    },
    {
     "name": "stdout",
     "output_type": "stream",
     "text": []
    },
    {
     "name": "stdout",
     "output_type": "stream",
     "text": []
    },
    {
     "name": "stdout",
     "output_type": "stream",
     "text": []
    },
    {
     "name": "stdout",
     "output_type": "stream",
     "text": []
    },
    {
     "name": "stdout",
     "output_type": "stream",
     "text": []
    },
    {
     "name": "stdout",
     "output_type": "stream",
     "text": []
    },
    {
     "name": "stdout",
     "output_type": "stream",
     "text": []
    },
    {
     "name": "stdout",
     "output_type": "stream",
     "text": []
    },
    {
     "name": "stdout",
     "output_type": "stream",
     "text": []
    },
    {
     "name": "stdout",
     "output_type": "stream",
     "text": []
    },
    {
     "name": "stdout",
     "output_type": "stream",
     "text": []
    },
    {
     "name": "stdout",
     "output_type": "stream",
     "text": []
    },
    {
     "name": "stdout",
     "output_type": "stream",
     "text": []
    },
    {
     "name": "stdout",
     "output_type": "stream",
     "text": []
    },
    {
     "name": "stdout",
     "output_type": "stream",
     "text": []
    },
    {
     "name": "stdout",
     "output_type": "stream",
     "text": []
    },
    {
     "name": "stdout",
     "output_type": "stream",
     "text": []
    },
    {
     "name": "stdout",
     "output_type": "stream",
     "text": []
    },
    {
     "name": "stdout",
     "output_type": "stream",
     "text": []
    },
    {
     "name": "stdout",
     "output_type": "stream",
     "text": []
    },
    {
     "name": "stdout",
     "output_type": "stream",
     "text": []
    },
    {
     "name": "stdout",
     "output_type": "stream",
     "text": []
    },
    {
     "name": "stdout",
     "output_type": "stream",
     "text": []
    },
    {
     "name": "stdout",
     "output_type": "stream",
     "text": []
    },
    {
     "name": "stdout",
     "output_type": "stream",
     "text": []
    },
    {
     "name": "stdout",
     "output_type": "stream",
     "text": []
    },
    {
     "name": "stdout",
     "output_type": "stream",
     "text": []
    },
    {
     "name": "stdout",
     "output_type": "stream",
     "text": []
    },
    {
     "name": "stdout",
     "output_type": "stream",
     "text": []
    },
    {
     "name": "stdout",
     "output_type": "stream",
     "text": []
    },
    {
     "name": "stdout",
     "output_type": "stream",
     "text": []
    },
    {
     "name": "stdout",
     "output_type": "stream",
     "text": []
    },
    {
     "name": "stdout",
     "output_type": "stream",
     "text": []
    },
    {
     "name": "stdout",
     "output_type": "stream",
     "text": []
    },
    {
     "name": "stdout",
     "output_type": "stream",
     "text": []
    },
    {
     "name": "stdout",
     "output_type": "stream",
     "text": []
    },
    {
     "name": "stdout",
     "output_type": "stream",
     "text": []
    },
    {
     "name": "stdout",
     "output_type": "stream",
     "text": []
    },
    {
     "name": "stdout",
     "output_type": "stream",
     "text": []
    },
    {
     "name": "stdout",
     "output_type": "stream",
     "text": []
    },
    {
     "name": "stdout",
     "output_type": "stream",
     "text": []
    },
    {
     "name": "stdout",
     "output_type": "stream",
     "text": []
    },
    {
     "name": "stdout",
     "output_type": "stream",
     "text": []
    },
    {
     "name": "stdout",
     "output_type": "stream",
     "text": []
    },
    {
     "name": "stdout",
     "output_type": "stream",
     "text": []
    },
    {
     "name": "stdout",
     "output_type": "stream",
     "text": []
    },
    {
     "name": "stdout",
     "output_type": "stream",
     "text": []
    },
    {
     "name": "stdout",
     "output_type": "stream",
     "text": []
    },
    {
     "name": "stdout",
     "output_type": "stream",
     "text": []
    },
    {
     "name": "stdout",
     "output_type": "stream",
     "text": []
    },
    {
     "name": "stdout",
     "output_type": "stream",
     "text": []
    },
    {
     "name": "stdout",
     "output_type": "stream",
     "text": []
    },
    {
     "name": "stdout",
     "output_type": "stream",
     "text": []
    },
    {
     "name": "stdout",
     "output_type": "stream",
     "text": []
    },
    {
     "name": "stdout",
     "output_type": "stream",
     "text": []
    },
    {
     "name": "stdout",
     "output_type": "stream",
     "text": []
    },
    {
     "name": "stdout",
     "output_type": "stream",
     "text": []
    },
    {
     "name": "stdout",
     "output_type": "stream",
     "text": []
    },
    {
     "name": "stdout",
     "output_type": "stream",
     "text": []
    },
    {
     "name": "stdout",
     "output_type": "stream",
     "text": []
    },
    {
     "name": "stdout",
     "output_type": "stream",
     "text": []
    },
    {
     "name": "stdout",
     "output_type": "stream",
     "text": []
    },
    {
     "name": "stdout",
     "output_type": "stream",
     "text": []
    },
    {
     "name": "stdout",
     "output_type": "stream",
     "text": []
    },
    {
     "name": "stdout",
     "output_type": "stream",
     "text": []
    },
    {
     "name": "stdout",
     "output_type": "stream",
     "text": []
    },
    {
     "name": "stdout",
     "output_type": "stream",
     "text": []
    },
    {
     "name": "stdout",
     "output_type": "stream",
     "text": []
    },
    {
     "name": "stdout",
     "output_type": "stream",
     "text": []
    },
    {
     "name": "stdout",
     "output_type": "stream",
     "text": []
    },
    {
     "name": "stdout",
     "output_type": "stream",
     "text": []
    },
    {
     "name": "stdout",
     "output_type": "stream",
     "text": []
    },
    {
     "name": "stdout",
     "output_type": "stream",
     "text": []
    },
    {
     "name": "stdout",
     "output_type": "stream",
     "text": []
    },
    {
     "name": "stdout",
     "output_type": "stream",
     "text": []
    },
    {
     "name": "stdout",
     "output_type": "stream",
     "text": []
    },
    {
     "name": "stdout",
     "output_type": "stream",
     "text": []
    },
    {
     "name": "stdout",
     "output_type": "stream",
     "text": []
    },
    {
     "name": "stdout",
     "output_type": "stream",
     "text": []
    },
    {
     "name": "stdout",
     "output_type": "stream",
     "text": []
    },
    {
     "name": "stdout",
     "output_type": "stream",
     "text": []
    },
    {
     "name": "stdout",
     "output_type": "stream",
     "text": []
    },
    {
     "name": "stdout",
     "output_type": "stream",
     "text": []
    },
    {
     "name": "stdout",
     "output_type": "stream",
     "text": []
    },
    {
     "name": "stdout",
     "output_type": "stream",
     "text": []
    },
    {
     "name": "stdout",
     "output_type": "stream",
     "text": []
    },
    {
     "name": "stdout",
     "output_type": "stream",
     "text": []
    },
    {
     "name": "stdout",
     "output_type": "stream",
     "text": []
    },
    {
     "name": "stdout",
     "output_type": "stream",
     "text": []
    },
    {
     "name": "stdout",
     "output_type": "stream",
     "text": []
    },
    {
     "name": "stdout",
     "output_type": "stream",
     "text": []
    },
    {
     "name": "stdout",
     "output_type": "stream",
     "text": []
    },
    {
     "name": "stdout",
     "output_type": "stream",
     "text": []
    },
    {
     "name": "stdout",
     "output_type": "stream",
     "text": []
    },
    {
     "name": "stdout",
     "output_type": "stream",
     "text": []
    },
    {
     "name": "stdout",
     "output_type": "stream",
     "text": []
    },
    {
     "name": "stdout",
     "output_type": "stream",
     "text": []
    },
    {
     "name": "stdout",
     "output_type": "stream",
     "text": []
    },
    {
     "name": "stdout",
     "output_type": "stream",
     "text": []
    },
    {
     "name": "stdout",
     "output_type": "stream",
     "text": []
    },
    {
     "name": "stdout",
     "output_type": "stream",
     "text": []
    },
    {
     "name": "stdout",
     "output_type": "stream",
     "text": []
    },
    {
     "name": "stdout",
     "output_type": "stream",
     "text": []
    },
    {
     "name": "stdout",
     "output_type": "stream",
     "text": []
    },
    {
     "name": "stdout",
     "output_type": "stream",
     "text": []
    },
    {
     "name": "stdout",
     "output_type": "stream",
     "text": []
    },
    {
     "name": "stdout",
     "output_type": "stream",
     "text": []
    },
    {
     "name": "stdout",
     "output_type": "stream",
     "text": []
    },
    {
     "name": "stdout",
     "output_type": "stream",
     "text": []
    },
    {
     "name": "stdout",
     "output_type": "stream",
     "text": []
    },
    {
     "name": "stdout",
     "output_type": "stream",
     "text": []
    },
    {
     "name": "stdout",
     "output_type": "stream",
     "text": []
    },
    {
     "name": "stdout",
     "output_type": "stream",
     "text": []
    },
    {
     "name": "stdout",
     "output_type": "stream",
     "text": []
    },
    {
     "name": "stdout",
     "output_type": "stream",
     "text": []
    },
    {
     "name": "stdout",
     "output_type": "stream",
     "text": []
    },
    {
     "name": "stdout",
     "output_type": "stream",
     "text": []
    },
    {
     "name": "stdout",
     "output_type": "stream",
     "text": []
    },
    {
     "name": "stdout",
     "output_type": "stream",
     "text": []
    },
    {
     "name": "stdout",
     "output_type": "stream",
     "text": []
    },
    {
     "name": "stdout",
     "output_type": "stream",
     "text": []
    },
    {
     "name": "stdout",
     "output_type": "stream",
     "text": []
    },
    {
     "name": "stdout",
     "output_type": "stream",
     "text": []
    },
    {
     "name": "stdout",
     "output_type": "stream",
     "text": []
    },
    {
     "name": "stdout",
     "output_type": "stream",
     "text": []
    },
    {
     "name": "stdout",
     "output_type": "stream",
     "text": []
    },
    {
     "name": "stdout",
     "output_type": "stream",
     "text": []
    },
    {
     "name": "stdout",
     "output_type": "stream",
     "text": []
    },
    {
     "name": "stdout",
     "output_type": "stream",
     "text": []
    },
    {
     "name": "stdout",
     "output_type": "stream",
     "text": []
    },
    {
     "name": "stdout",
     "output_type": "stream",
     "text": []
    },
    {
     "name": "stdout",
     "output_type": "stream",
     "text": []
    },
    {
     "name": "stdout",
     "output_type": "stream",
     "text": []
    },
    {
     "name": "stdout",
     "output_type": "stream",
     "text": []
    },
    {
     "name": "stdout",
     "output_type": "stream",
     "text": []
    },
    {
     "name": "stdout",
     "output_type": "stream",
     "text": []
    },
    {
     "name": "stdout",
     "output_type": "stream",
     "text": []
    },
    {
     "name": "stdout",
     "output_type": "stream",
     "text": []
    },
    {
     "name": "stdout",
     "output_type": "stream",
     "text": []
    },
    {
     "name": "stdout",
     "output_type": "stream",
     "text": []
    },
    {
     "name": "stdout",
     "output_type": "stream",
     "text": []
    },
    {
     "name": "stdout",
     "output_type": "stream",
     "text": []
    },
    {
     "name": "stdout",
     "output_type": "stream",
     "text": []
    },
    {
     "name": "stdout",
     "output_type": "stream",
     "text": []
    },
    {
     "name": "stdout",
     "output_type": "stream",
     "text": []
    },
    {
     "name": "stdout",
     "output_type": "stream",
     "text": []
    },
    {
     "name": "stdout",
     "output_type": "stream",
     "text": []
    },
    {
     "name": "stdout",
     "output_type": "stream",
     "text": []
    },
    {
     "name": "stdout",
     "output_type": "stream",
     "text": []
    },
    {
     "name": "stdout",
     "output_type": "stream",
     "text": []
    },
    {
     "name": "stdout",
     "output_type": "stream",
     "text": []
    },
    {
     "name": "stdout",
     "output_type": "stream",
     "text": []
    },
    {
     "name": "stdout",
     "output_type": "stream",
     "text": []
    },
    {
     "name": "stdout",
     "output_type": "stream",
     "text": []
    },
    {
     "name": "stdout",
     "output_type": "stream",
     "text": []
    },
    {
     "name": "stdout",
     "output_type": "stream",
     "text": []
    },
    {
     "name": "stdout",
     "output_type": "stream",
     "text": []
    },
    {
     "name": "stdout",
     "output_type": "stream",
     "text": []
    },
    {
     "name": "stdout",
     "output_type": "stream",
     "text": []
    },
    {
     "name": "stdout",
     "output_type": "stream",
     "text": []
    },
    {
     "name": "stdout",
     "output_type": "stream",
     "text": []
    },
    {
     "name": "stdout",
     "output_type": "stream",
     "text": []
    },
    {
     "name": "stdout",
     "output_type": "stream",
     "text": []
    },
    {
     "name": "stdout",
     "output_type": "stream",
     "text": []
    },
    {
     "name": "stdout",
     "output_type": "stream",
     "text": []
    },
    {
     "name": "stdout",
     "output_type": "stream",
     "text": []
    },
    {
     "name": "stdout",
     "output_type": "stream",
     "text": []
    },
    {
     "name": "stdout",
     "output_type": "stream",
     "text": []
    },
    {
     "name": "stdout",
     "output_type": "stream",
     "text": []
    },
    {
     "name": "stdout",
     "output_type": "stream",
     "text": []
    },
    {
     "name": "stdout",
     "output_type": "stream",
     "text": []
    },
    {
     "name": "stdout",
     "output_type": "stream",
     "text": []
    },
    {
     "name": "stdout",
     "output_type": "stream",
     "text": []
    },
    {
     "name": "stdout",
     "output_type": "stream",
     "text": []
    },
    {
     "name": "stdout",
     "output_type": "stream",
     "text": []
    },
    {
     "name": "stdout",
     "output_type": "stream",
     "text": []
    },
    {
     "name": "stdout",
     "output_type": "stream",
     "text": []
    },
    {
     "name": "stdout",
     "output_type": "stream",
     "text": []
    },
    {
     "name": "stdout",
     "output_type": "stream",
     "text": []
    },
    {
     "name": "stdout",
     "output_type": "stream",
     "text": []
    },
    {
     "name": "stdout",
     "output_type": "stream",
     "text": []
    },
    {
     "name": "stdout",
     "output_type": "stream",
     "text": []
    },
    {
     "name": "stdout",
     "output_type": "stream",
     "text": []
    },
    {
     "name": "stdout",
     "output_type": "stream",
     "text": []
    },
    {
     "name": "stdout",
     "output_type": "stream",
     "text": []
    },
    {
     "name": "stdout",
     "output_type": "stream",
     "text": []
    },
    {
     "name": "stdout",
     "output_type": "stream",
     "text": []
    },
    {
     "name": "stdout",
     "output_type": "stream",
     "text": []
    },
    {
     "name": "stdout",
     "output_type": "stream",
     "text": []
    },
    {
     "name": "stdout",
     "output_type": "stream",
     "text": []
    },
    {
     "name": "stdout",
     "output_type": "stream",
     "text": []
    },
    {
     "name": "stdout",
     "output_type": "stream",
     "text": []
    },
    {
     "name": "stdout",
     "output_type": "stream",
     "text": []
    },
    {
     "name": "stdout",
     "output_type": "stream",
     "text": []
    },
    {
     "name": "stdout",
     "output_type": "stream",
     "text": []
    },
    {
     "name": "stdout",
     "output_type": "stream",
     "text": []
    },
    {
     "name": "stdout",
     "output_type": "stream",
     "text": []
    },
    {
     "name": "stdout",
     "output_type": "stream",
     "text": []
    },
    {
     "name": "stdout",
     "output_type": "stream",
     "text": []
    },
    {
     "name": "stdout",
     "output_type": "stream",
     "text": []
    },
    {
     "name": "stdout",
     "output_type": "stream",
     "text": []
    },
    {
     "name": "stdout",
     "output_type": "stream",
     "text": []
    },
    {
     "name": "stdout",
     "output_type": "stream",
     "text": []
    },
    {
     "name": "stdout",
     "output_type": "stream",
     "text": []
    },
    {
     "name": "stdout",
     "output_type": "stream",
     "text": []
    },
    {
     "name": "stdout",
     "output_type": "stream",
     "text": []
    },
    {
     "name": "stdout",
     "output_type": "stream",
     "text": []
    },
    {
     "name": "stdout",
     "output_type": "stream",
     "text": []
    },
    {
     "name": "stdout",
     "output_type": "stream",
     "text": []
    },
    {
     "name": "stdout",
     "output_type": "stream",
     "text": []
    },
    {
     "name": "stdout",
     "output_type": "stream",
     "text": []
    },
    {
     "name": "stdout",
     "output_type": "stream",
     "text": []
    },
    {
     "name": "stdout",
     "output_type": "stream",
     "text": []
    },
    {
     "name": "stdout",
     "output_type": "stream",
     "text": []
    },
    {
     "name": "stdout",
     "output_type": "stream",
     "text": []
    },
    {
     "name": "stdout",
     "output_type": "stream",
     "text": []
    },
    {
     "name": "stdout",
     "output_type": "stream",
     "text": []
    },
    {
     "name": "stdout",
     "output_type": "stream",
     "text": []
    },
    {
     "name": "stdout",
     "output_type": "stream",
     "text": []
    },
    {
     "name": "stdout",
     "output_type": "stream",
     "text": []
    },
    {
     "name": "stdout",
     "output_type": "stream",
     "text": []
    },
    {
     "name": "stdout",
     "output_type": "stream",
     "text": []
    },
    {
     "name": "stdout",
     "output_type": "stream",
     "text": []
    },
    {
     "name": "stdout",
     "output_type": "stream",
     "text": []
    },
    {
     "name": "stdout",
     "output_type": "stream",
     "text": []
    },
    {
     "name": "stdout",
     "output_type": "stream",
     "text": []
    },
    {
     "name": "stdout",
     "output_type": "stream",
     "text": []
    },
    {
     "name": "stdout",
     "output_type": "stream",
     "text": []
    },
    {
     "name": "stdout",
     "output_type": "stream",
     "text": []
    },
    {
     "name": "stdout",
     "output_type": "stream",
     "text": []
    },
    {
     "name": "stdout",
     "output_type": "stream",
     "text": []
    },
    {
     "name": "stdout",
     "output_type": "stream",
     "text": []
    },
    {
     "name": "stdout",
     "output_type": "stream",
     "text": []
    },
    {
     "name": "stdout",
     "output_type": "stream",
     "text": []
    },
    {
     "name": "stdout",
     "output_type": "stream",
     "text": []
    },
    {
     "name": "stdout",
     "output_type": "stream",
     "text": []
    },
    {
     "name": "stdout",
     "output_type": "stream",
     "text": []
    },
    {
     "name": "stdout",
     "output_type": "stream",
     "text": []
    },
    {
     "name": "stdout",
     "output_type": "stream",
     "text": []
    },
    {
     "name": "stdout",
     "output_type": "stream",
     "text": []
    },
    {
     "name": "stdout",
     "output_type": "stream",
     "text": []
    },
    {
     "name": "stdout",
     "output_type": "stream",
     "text": []
    },
    {
     "name": "stdout",
     "output_type": "stream",
     "text": []
    },
    {
     "name": "stdout",
     "output_type": "stream",
     "text": []
    },
    {
     "name": "stdout",
     "output_type": "stream",
     "text": []
    },
    {
     "name": "stdout",
     "output_type": "stream",
     "text": []
    },
    {
     "name": "stdout",
     "output_type": "stream",
     "text": []
    },
    {
     "name": "stdout",
     "output_type": "stream",
     "text": []
    },
    {
     "name": "stdout",
     "output_type": "stream",
     "text": []
    },
    {
     "name": "stdout",
     "output_type": "stream",
     "text": []
    },
    {
     "name": "stdout",
     "output_type": "stream",
     "text": []
    },
    {
     "name": "stdout",
     "output_type": "stream",
     "text": []
    },
    {
     "name": "stdout",
     "output_type": "stream",
     "text": []
    },
    {
     "name": "stdout",
     "output_type": "stream",
     "text": []
    },
    {
     "name": "stdout",
     "output_type": "stream",
     "text": []
    },
    {
     "name": "stdout",
     "output_type": "stream",
     "text": [
      "Done with  640 of  640 (Spent   2.0 min)"
     ]
    }
   ],
   "source": [
    "null_imp_df = pd.DataFrame()\n",
    "nb_runs = 640\n",
    "import time\n",
    "start = time.time()\n",
    "dsp = ''\n",
    "for i in range(nb_runs):\n",
    "    # Get current run importances\n",
    "    imp_df = get_feature_importances(feat_df, target_df, shuffle=True)\n",
    "    imp_df['run'] = i + 1 \n",
    "    # Concat the latest importances with the old ones\n",
    "    null_imp_df = pd.concat([null_imp_df, imp_df], axis=0)\n",
    "    # Erase previous message\n",
    "    for l in range(len(dsp)):\n",
    "        print('\\b', end='', flush=True)\n",
    "    # Display current run and time used\n",
    "    spent = (time.time() - start) / 60\n",
    "    dsp = 'Done with %4d of %4d (Spent %5.1f min)' % (i + 1, nb_runs, spent)\n",
    "    print(dsp, end='', flush=True)"
   ]
  },
  {
   "cell_type": "code",
   "execution_count": 164,
   "id": "0e8bfd72-59f3-4f66-b460-c3f77f746f57",
   "metadata": {},
   "outputs": [],
   "source": [
    "def display_distributions(actual_imp_df_, null_imp_df_, feature_):\n",
    "    plt.figure(figsize=(12, 6))\n",
    "    null_weights = null_imp_df_.loc[null_imp_df_['feature'] == feature_, 'weight'].values\n",
    "    null_weights_mean = null_weights.mean()\n",
    "    plt.hist(null_weights, label='Null importances')\n",
    "    plt.axvline(null_weights_mean, label='mean', color='black')\n",
    "    plt.axvline(actual_imp_df_.loc[actual_imp_df_['feature'] == feature_, 'weight'].mean(), label='Real Target', color='red')\n",
    "    plt.legend()"
   ]
  },
  {
   "cell_type": "code",
   "execution_count": 165,
   "id": "f7592dc9-b2ba-4b20-8659-55d1592926e6",
   "metadata": {},
   "outputs": [
    {
     "data": {
      "image/png": "[encoded data removed]",
      "text/plain": [
       "<Figure size 1200x600 with 1 Axes>"
      ]
     },
     "metadata": {},
     "output_type": "display_data"
    }
   ],
   "source": [
    "display_distributions(actual_imp_df, null_imp_df, 'f_0')"
   ]
  },
  {
   "cell_type": "code",
   "execution_count": 166,
   "id": "e1d13b54-4908-4687-a5c6-080aef3e2d03",
   "metadata": {},
   "outputs": [
    {
     "data": {
      "image/png": "[encoded data removed]",
      "text/plain": [
       "<Figure size 1200x600 with 1 Axes>"
      ]
     },
     "metadata": {},
     "output_type": "display_data"
    }
   ],
   "source": [
    "display_distributions(actual_imp_df, null_imp_df, 'f_575')"
   ]
  },
  {
   "cell_type": "code",
   "execution_count": 155,
   "id": "0e9cb2a9-c4a8-4470-9d59-c6406fc5c0dd",
   "metadata": {},
   "outputs": [],
   "source": [
    "feature_scores = []\n",
    "for _f in actual_imp_df['feature'].unique():\n",
    "    f_null_imps_gain = null_imp_df.loc[null_imp_df['feature'] == _f, 'weight'].values\n",
    "    f_act_imps_gain = actual_imp_df.loc[actual_imp_df['feature'] == _f, 'weight'].mean()\n",
    "\n",
    "    score = ( f_act_imps_gain - np.mean(f_null_imps_gain) ) / np.std(f_null_imps_gain)\n",
    "    feature_scores.append( (_f, score) )\n",
    "\n",
    "scores_df = pd.DataFrame(feature_scores, columns=['feature', 'score'])"
   ]
  },
  {
   "cell_type": "code",
   "execution_count": 188,
   "id": "47ff55ff-dc14-44d3-882c-cb38526eda8e",
   "metadata": {},
   "outputs": [
    {
     "data": {
      "text/html": [
       "<div>\n",
       "<style scoped>\n",
       "    .dataframe tbody tr th:only-of-type {\n",
       "        vertical-align: middle;\n",
       "    }\n",
       "\n",
       "    .dataframe tbody tr th {\n",
       "        vertical-align: top;\n",
       "    }\n",
       "\n",
       "    .dataframe thead th {\n",
       "        text-align: right;\n",
       "    }\n",
       "</style>\n",
       "<table border=\"1\" class=\"dataframe\">\n",
       "  <thead>\n",
       "    <tr style=\"text-align: right;\">\n",
       "      <th></th>\n",
       "      <th>feature</th>\n",
       "      <th>score</th>\n",
       "    </tr>\n",
       "  </thead>\n",
       "  <tbody>\n",
       "    <tr>\n",
       "      <th>575</th>\n",
       "      <td>f_575</td>\n",
       "      <td>-0.149047</td>\n",
       "    </tr>\n",
       "    <tr>\n",
       "      <th>577</th>\n",
       "      <td>f_577</td>\n",
       "      <td>-0.149047</td>\n",
       "    </tr>\n",
       "    <tr>\n",
       "      <th>574</th>\n",
       "      <td>f_574</td>\n",
       "      <td>-0.763827</td>\n",
       "    </tr>\n",
       "    <tr>\n",
       "      <th>576</th>\n",
       "      <td>f_576</td>\n",
       "      <td>-0.763827</td>\n",
       "    </tr>\n",
       "    <tr>\n",
       "      <th>0</th>\n",
       "      <td>f_0</td>\n",
       "      <td>-1.013371</td>\n",
       "    </tr>\n",
       "    <tr>\n",
       "      <th>...</th>\n",
       "      <td>...</td>\n",
       "      <td>...</td>\n",
       "    </tr>\n",
       "    <tr>\n",
       "      <th>374</th>\n",
       "      <td>f_374</td>\n",
       "      <td>-1.388434</td>\n",
       "    </tr>\n",
       "    <tr>\n",
       "      <th>452</th>\n",
       "      <td>f_452</td>\n",
       "      <td>-1.392297</td>\n",
       "    </tr>\n",
       "    <tr>\n",
       "      <th>647</th>\n",
       "      <td>f_647</td>\n",
       "      <td>-1.400030</td>\n",
       "    </tr>\n",
       "    <tr>\n",
       "      <th>385</th>\n",
       "      <td>f_385</td>\n",
       "      <td>-1.404465</td>\n",
       "    </tr>\n",
       "    <tr>\n",
       "      <th>53</th>\n",
       "      <td>f_53</td>\n",
       "      <td>-1.415291</td>\n",
       "    </tr>\n",
       "  </tbody>\n",
       "</table>\n",
       "<p>860 rows × 2 columns</p>\n",
       "</div>"
      ],
      "text/plain": [
       "    feature     score\n",
       "575   f_575 -0.149047\n",
       "577   f_577 -0.149047\n",
       "574   f_574 -0.763827\n",
       "576   f_576 -0.763827\n",
       "0       f_0 -1.013371\n",
       "..      ...       ...\n",
       "374   f_374 -1.388434\n",
       "452   f_452 -1.392297\n",
       "647   f_647 -1.400030\n",
       "385   f_385 -1.404465\n",
       "53     f_53 -1.415291\n",
       "\n",
       "[860 rows x 2 columns]"
      ]
     },
     "execution_count": 188,
     "metadata": {},
     "output_type": "execute_result"
    }
   ],
   "source": [
    "scores_df = scores_df.sort_values('score', ascending=False)\n",
    "scores_df"
   ]
  },
  {
   "cell_type": "code",
   "execution_count": 190,
   "id": "6b9dc5ea-3ccf-4b06-a9c6-2bcf0807a655",
   "metadata": {},
   "outputs": [
    {
     "data": {
      "application/vnd.jupyter.widget-view+json": {
       "model_id": "472f7eeb9aed471981e7d2f01f7733dc",
       "version_major": 2,
       "version_minor": 0
      },
      "text/plain": [
       "  0%|          | 0/859 [00:00<?, ?it/s]"
      ]
     },
     "metadata": {},
     "output_type": "display_data"
    }
   ],
   "source": [
    "metric_df = []\n",
    "for i in tqdm(range(1, feat_df.shape[1])):\n",
    "    imp_feats = scores_df.head(i).feature.tolist()\n",
    "\n",
    "    model = Ridge(9.17e-5)\n",
    "    oof_pred = cross_val_predict(model, feat_df[imp_feats], Y_train, cv=3)\n",
    "    sigma_pred = mean_squared_error(Y_train, oof_pred, squared=False)\n",
    "    \n",
    "    score = get_cv_score(oof_pred, sigma_pred)\n",
    "    metric_df.append( (i, score) )"
   ]
  },
  {
   "cell_type": "code",
   "execution_count": 191,
   "id": "a8b7785d-5769-462a-b189-6cee5800ab21",
   "metadata": {},
   "outputs": [],
   "source": [
    "metric_df = pd.DataFrame(metric_df)"
   ]
  },
  {
   "cell_type": "code",
   "execution_count": 193,
   "id": "3c25e60a-fbcc-40eb-8263-af807c470cbb",
   "metadata": {},
   "outputs": [],
   "source": [
    "metric_df.columns = ['num_feats', 'score']"
   ]
  },
  {
   "cell_type": "code",
   "execution_count": 195,
   "id": "d318fa4e-e5d7-4915-90e6-76f6d6a492b2",
   "metadata": {},
   "outputs": [
    {
     "data": {
      "image/png": "[encoded data removed]",
      "text/plain": [
       "<Figure size 640x480 with 1 Axes>"
      ]
     },
     "metadata": {},
     "output_type": "display_data"
    }
   ],
   "source": [
    "plt.plot(metric_df.num_feats, metric_df.score)\n",
    "plt.grid()"
   ]
  },
  {
   "cell_type": "code",
   "execution_count": 199,
   "id": "fe0595e3-9dc9-46e5-9ba0-106d4236dd1e",
   "metadata": {},
   "outputs": [
    {
     "data": {
      "text/html": [
       "<div>\n",
       "<style scoped>\n",
       "    .dataframe tbody tr th:only-of-type {\n",
       "        vertical-align: middle;\n",
       "    }\n",
       "\n",
       "    .dataframe tbody tr th {\n",
       "        vertical-align: top;\n",
       "    }\n",
       "\n",
       "    .dataframe thead th {\n",
       "        text-align: right;\n",
       "    }\n",
       "</style>\n",
       "<table border=\"1\" class=\"dataframe\">\n",
       "  <thead>\n",
       "    <tr style=\"text-align: right;\">\n",
       "      <th></th>\n",
       "      <th>num_feats</th>\n",
       "      <th>score</th>\n",
       "    </tr>\n",
       "  </thead>\n",
       "  <tbody>\n",
       "    <tr>\n",
       "      <th>399</th>\n",
       "      <td>400</td>\n",
       "      <td>0.609751</td>\n",
       "    </tr>\n",
       "    <tr>\n",
       "      <th>858</th>\n",
       "      <td>859</td>\n",
       "      <td>0.594329</td>\n",
       "    </tr>\n",
       "  </tbody>\n",
       "</table>\n",
       "</div>"
      ],
      "text/plain": [
       "     num_feats     score\n",
       "399        400  0.609751\n",
       "858        859  0.594329"
      ]
     },
     "execution_count": 199,
     "metadata": {},
     "output_type": "execute_result"
    }
   ],
   "source": [
    "metric_df[metric_df.num_feats.isin([400, 859])]  # "
   ]
  },
  {
   "cell_type": "markdown",
   "id": "ed35c7ec-d4bc-4dc9-96e1-e9fa90a61c35",
   "metadata": {},
   "source": [
    "## CV"
   ]
  },
  {
   "cell_type": "code",
   "execution_count": 201,
   "id": "680324e9-f6e4-4b76-a467-33c410b7f3f1",
   "metadata": {},
   "outputs": [
    {
     "data": {
      "text/plain": [
       "star\n",
       "0    346\n",
       "1    327\n",
       "Name: count, dtype: int64"
      ]
     },
     "execution_count": 201,
     "metadata": {},
     "output_type": "execute_result"
    }
   ],
   "source": [
    "train_adc_df.star.value_counts()"
   ]
  },
  {
   "cell_type": "code",
   "execution_count": 204,
   "id": "a400b11c-6a1c-4648-b1b5-b7a35e63978a",
   "metadata": {},
   "outputs": [],
   "source": [
    "class StarSplitter:\n",
    "    def __init__(self, split_indices):\n",
    "        self.split_indices = split_indices\n",
    "\n",
    "    def split(self, X, y=None, groups=None):\n",
    "        for train_index, test_index in self.split_indices:\n",
    "            yield train_index, test_index\n",
    "\n",
    "    def get_n_splits(self, X=None, y=None, groups=None):\n",
    "        return len(self.split_indices)"
   ]
  },
  {
   "cell_type": "code",
   "execution_count": 208,
   "id": "7ca2fc74-863d-4aad-b050-87c571c246b9",
   "metadata": {},
   "outputs": [],
   "source": [
    "star0_indices = np.where(train_adc_df.star.values == 0)[0]\n",
    "star1_indices = np.where(train_adc_df.star.values == 1)[0]"
   ]
  },
  {
   "cell_type": "code",
   "execution_count": 209,
   "id": "3141b01a-1a6b-4e04-ae8c-bc88c61dfd9d",
   "metadata": {},
   "outputs": [],
   "source": [
    "split_indices = [\n",
    "    (star0_indices, star1_indices),\n",
    "    (star1_indices, star0_indices),\n",
    "]"
   ]
  },
  {
   "cell_type": "code",
   "execution_count": 210,
   "id": "ddd76df5-6122-44fb-9762-a67dcf9e997e",
   "metadata": {},
   "outputs": [],
   "source": [
    "star_cv = StarSplitter(split_indices)"
   ]
  },
  {
   "cell_type": "markdown",
   "id": "2a9e1020-d51b-4d89-8515-c301c477b201",
   "metadata": {},
   "source": [
    "### Ridge feat400"
   ]
  },
  {
   "cell_type": "code",
   "execution_count": 211,
   "id": "aedee272-59ad-44e9-b834-8700600fe0a6",
   "metadata": {},
   "outputs": [
    {
     "data": {
      "text/plain": [
       "0.6018269147223929"
      ]
     },
     "execution_count": 211,
     "metadata": {},
     "output_type": "execute_result"
    }
   ],
   "source": [
    "imp_feats = scores_df.head(400).feature.tolist()\n",
    "\n",
    "model = Ridge(9.17e-5)\n",
    "oof_pred = cross_val_predict(model, feat_df[imp_feats], Y_train, cv=2)\n",
    "sigma_pred = mean_squared_error(Y_train, oof_pred, squared=False)\n",
    "\n",
    "score = get_cv_score(oof_pred, sigma_pred)\n",
    "score"
   ]
  },
  {
   "cell_type": "code",
   "execution_count": 213,
   "id": "ebf39011-2d6c-48fb-b554-8bbd4c824859",
   "metadata": {},
   "outputs": [
    {
     "data": {
      "text/plain": [
       "0.500409428469406"
      ]
     },
     "execution_count": 213,
     "metadata": {},
     "output_type": "execute_result"
    }
   ],
   "source": [
    "imp_feats = scores_df.head(400).feature.tolist()\n",
    "\n",
    "model = Ridge(9.17e-5)\n",
    "oof_pred = cross_val_predict(model, feat_df[imp_feats], Y_train, cv=star_cv)\n",
    "sigma_pred = mean_squared_error(Y_train, oof_pred, squared=False)\n",
    "\n",
    "score = get_cv_score(oof_pred, sigma_pred)\n",
    "score"
   ]
  },
  {
   "cell_type": "markdown",
   "id": "a555bf96-14ee-4c81-a719-046281dc0cb5",
   "metadata": {},
   "source": [
    "### Ridge feat860"
   ]
  },
  {
   "cell_type": "code",
   "execution_count": 212,
   "id": "fc997401-8b8e-421a-b7ed-ccbf6e3a098a",
   "metadata": {},
   "outputs": [
    {
     "data": {
      "text/plain": [
       "0.5865322258104716"
      ]
     },
     "execution_count": 212,
     "metadata": {},
     "output_type": "execute_result"
    }
   ],
   "source": [
    "imp_feats = scores_df.head(860).feature.tolist()\n",
    "\n",
    "model = Ridge(9.17e-5)\n",
    "oof_pred = cross_val_predict(model, feat_df[imp_feats], Y_train, cv=2)\n",
    "sigma_pred = mean_squared_error(Y_train, oof_pred, squared=False)\n",
    "\n",
    "score = get_cv_score(oof_pred, sigma_pred)\n",
    "score"
   ]
  },
  {
   "cell_type": "code",
   "execution_count": 214,
   "id": "197f213f-05a6-4af4-bad0-26a2deaff36b",
   "metadata": {},
   "outputs": [
    {
     "data": {
      "text/plain": [
       "0.4719441882568932"
      ]
     },
     "execution_count": 214,
     "metadata": {},
     "output_type": "execute_result"
    }
   ],
   "source": [
    "imp_feats = scores_df.head(860).feature.tolist()\n",
    "\n",
    "model = Ridge(9.17e-5)\n",
    "oof_pred = cross_val_predict(model, feat_df[imp_feats], Y_train, cv=star_cv)\n",
    "sigma_pred = mean_squared_error(Y_train, oof_pred, squared=False)\n",
    "\n",
    "score = get_cv_score(oof_pred, sigma_pred)\n",
    "score"
   ]
  },
  {
   "cell_type": "markdown",
   "id": "bdf8e19a-e030-4b90-be73-d4e288bd3bb4",
   "metadata": {},
   "source": [
    "### No model"
   ]
  },
  {
   "cell_type": "code",
   "execution_count": 228,
   "id": "7c1d6add-f283-4508-bd6a-161d28fd5968",
   "metadata": {},
   "outputs": [
    {
     "data": {
      "text/plain": [
       "(673, 283)"
      ]
     },
     "execution_count": 228,
     "metadata": {},
     "output_type": "execute_result"
    }
   ],
   "source": [
    "pred = train_adc_df.trim_a_depth.values\n",
    "pred = np.tile(pred.reshape(-1, 1), (1, 283))\n",
    "pred.shape"
   ]
  },
  {
   "cell_type": "code",
   "execution_count": 229,
   "id": "b5391a23-3628-4ac1-9a3e-1c2de0c77f75",
   "metadata": {},
   "outputs": [
    {
     "data": {
      "text/plain": [
       "9.820398262059147e-05"
      ]
     },
     "execution_count": 229,
     "metadata": {},
     "output_type": "execute_result"
    }
   ],
   "source": [
    "sigma_pred = mean_squared_error(Y_train, pred, squared=False)\n",
    "sigma_pred"
   ]
  },
  {
   "cell_type": "code",
   "execution_count": 230,
   "id": "b9f68db3-8ebb-4da7-9d45-2ad6d7a1dfe3",
   "metadata": {},
   "outputs": [
    {
     "data": {
      "text/plain": [
       "0.4946636702957416"
      ]
     },
     "execution_count": 230,
     "metadata": {},
     "output_type": "execute_result"
    }
   ],
   "source": [
    "score = get_cv_score(pred, sigma_pred)\n",
    "score"
   ]
  },
  {
   "cell_type": "markdown",
   "id": "062e75c6-5a79-43b5-98ad-5b34a88abcac",
   "metadata": {},
   "source": [
    "## Ensemble"
   ]
  },
  {
   "cell_type": "markdown",
   "id": "7dad38f7-8bfb-4993-a2fb-4c1d7284c0f9",
   "metadata": {},
   "source": [
    "- Spend most of time on feature engineering and get a few good and diverse models\n",
    "- For stacking, it's really only important to have one or two models that score well individually. After that, it's all about diversity, and even very weak models can help."
   ]
  },
  {
   "cell_type": "markdown",
   "id": "70eba136-29bd-4723-93da-6f64b8e70fa7",
   "metadata": {},
   "source": [
    "### Voting (加权平均)"
   ]
  },
  {
   "cell_type": "code",
   "execution_count": 232,
   "id": "741ab8a7-67a4-4f34-b2b1-e33cd1107756",
   "metadata": {},
   "outputs": [
    {
     "data": {
      "text/html": [
       "<style>#sk-container-id-2 {color: black;}#sk-container-id-2 pre{padding: 0;}#sk-container-id-2 div.sk-toggleable {background-color: white;}#sk-container-id-2 label.sk-toggleable__label {cursor: pointer;display: block;width: 100%;margin-bottom: 0;padding: 0.3em;box-sizing: border-box;text-align: center;}#sk-container-id-2 label.sk-toggleable__label-arrow:before {content: \"▸\";float: left;margin-right: 0.25em;color: #696969;}#sk-container-id-2 label.sk-toggleable__label-arrow:hover:before {color: black;}#sk-container-id-2 div.sk-estimator:hover label.sk-toggleable__label-arrow:before {color: black;}#sk-container-id-2 div.sk-toggleable__content {max-height: 0;max-width: 0;overflow: hidden;text-align: left;background-color: #f0f8ff;}#sk-container-id-2 div.sk-toggleable__content pre {margin: 0.2em;color: black;border-radius: 0.25em;background-color: #f0f8ff;}#sk-container-id-2 input.sk-toggleable__control:checked~div.sk-toggleable__content {max-height: 200px;max-width: 100%;overflow: auto;}#sk-container-id-2 input.sk-toggleable__control:checked~label.sk-toggleable__label-arrow:before {content: \"▾\";}#sk-container-id-2 div.sk-estimator input.sk-toggleable__control:checked~label.sk-toggleable__label {background-color: #d4ebff;}#sk-container-id-2 div.sk-label input.sk-toggleable__control:checked~label.sk-toggleable__label {background-color: #d4ebff;}#sk-container-id-2 input.sk-hidden--visually {border: 0;clip: rect(1px 1px 1px 1px);clip: rect(1px, 1px, 1px, 1px);height: 1px;margin: -1px;overflow: hidden;padding: 0;position: absolute;width: 1px;}#sk-container-id-2 div.sk-estimator {font-family: monospace;background-color: #f0f8ff;border: 1px dotted black;border-radius: 0.25em;box-sizing: border-box;margin-bottom: 0.5em;}#sk-container-id-2 div.sk-estimator:hover {background-color: #d4ebff;}#sk-container-id-2 div.sk-parallel-item::after {content: \"\";width: 100%;border-bottom: 1px solid gray;flex-grow: 1;}#sk-container-id-2 div.sk-label:hover label.sk-toggleable__label {background-color: #d4ebff;}#sk-container-id-2 div.sk-serial::before {content: \"\";position: absolute;border-left: 1px solid gray;box-sizing: border-box;top: 0;bottom: 0;left: 50%;z-index: 0;}#sk-container-id-2 div.sk-serial {display: flex;flex-direction: column;align-items: center;background-color: white;padding-right: 0.2em;padding-left: 0.2em;position: relative;}#sk-container-id-2 div.sk-item {position: relative;z-index: 1;}#sk-container-id-2 div.sk-parallel {display: flex;align-items: stretch;justify-content: center;background-color: white;position: relative;}#sk-container-id-2 div.sk-item::before, #sk-container-id-2 div.sk-parallel-item::before {content: \"\";position: absolute;border-left: 1px solid gray;box-sizing: border-box;top: 0;bottom: 0;left: 50%;z-index: -1;}#sk-container-id-2 div.sk-parallel-item {display: flex;flex-direction: column;z-index: 1;position: relative;background-color: white;}#sk-container-id-2 div.sk-parallel-item:first-child::after {align-self: flex-end;width: 50%;}#sk-container-id-2 div.sk-parallel-item:last-child::after {align-self: flex-start;width: 50%;}#sk-container-id-2 div.sk-parallel-item:only-child::after {width: 0;}#sk-container-id-2 div.sk-dashed-wrapped {border: 1px dashed gray;margin: 0 0.4em 0.5em 0.4em;box-sizing: border-box;padding-bottom: 0.4em;background-color: white;}#sk-container-id-2 div.sk-label label {font-family: monospace;font-weight: bold;display: inline-block;line-height: 1.2em;}#sk-container-id-2 div.sk-label-container {text-align: center;}#sk-container-id-2 div.sk-container {/* jupyter's `normalize.less` sets `[hidden] { display: none; }` but bootstrap.min.css set `[hidden] { display: none !important; }` so we also need the `!important` here to be able to override the default hidden behavior on the sphinx rendered scikit-learn.org. See: https://github.com/scikit-learn/scikit-learn/issues/21755 */display: inline-block !important;position: relative;}#sk-container-id-2 div.sk-text-repr-fallback {display: none;}</style><div id=\"sk-container-id-2\" class=\"sk-top-container\"><div class=\"sk-text-repr-fallback\"><pre>Ridge(alpha=9.17e-05)</pre><b>In a Jupyter environment, please rerun this cell to show the HTML representation or trust the notebook. <br />On GitHub, the HTML representation is unable to render, please try loading this page with nbviewer.org.</b></div><div class=\"sk-container\" hidden><div class=\"sk-item\"><div class=\"sk-estimator sk-toggleable\"><input class=\"sk-toggleable__control sk-hidden--visually\" id=\"sk-estimator-id-2\" type=\"checkbox\" checked><label for=\"sk-estimator-id-2\" class=\"sk-toggleable__label sk-toggleable__label-arrow\">Ridge</label><div class=\"sk-toggleable__content\"><pre>Ridge(alpha=9.17e-05)</pre></div></div></div></div></div>"
      ],
      "text/plain": [
       "Ridge(alpha=9.17e-05)"
      ]
     },
     "execution_count": 232,
     "metadata": {},
     "output_type": "execute_result"
    }
   ],
   "source": [
    "model = Ridge(9.17e-5)\n",
    "model.fit(X_train, Y_train)"
   ]
  },
  {
   "cell_type": "code",
   "execution_count": 233,
   "id": "3adb5e9e-4885-45e9-903e-1333a72b548b",
   "metadata": {},
   "outputs": [],
   "source": [
    "# fake\n",
    "X_test = X_train"
   ]
  },
  {
   "cell_type": "code",
   "execution_count": 235,
   "id": "b51ab587-335e-4647-a05a-9f6b41512ee7",
   "metadata": {},
   "outputs": [
    {
     "data": {
      "text/plain": [
       "(673, 283)"
      ]
     },
     "execution_count": 235,
     "metadata": {},
     "output_type": "execute_result"
    }
   ],
   "source": [
    "ridge_pred = model.predict(X_test)\n",
    "ridge_pred.shape"
   ]
  },
  {
   "cell_type": "code",
   "execution_count": 238,
   "id": "9c98d47a-5cff-4fe3-9e8a-8164282521df",
   "metadata": {},
   "outputs": [
    {
     "data": {
      "text/plain": [
       "(673, 283)"
      ]
     },
     "execution_count": 238,
     "metadata": {},
     "output_type": "execute_result"
    }
   ],
   "source": [
    "pred = train_adc_df.trim_a_depth.values\n",
    "pred = np.tile(pred.reshape(-1, 1), (1, 283))\n",
    "pred.shape"
   ]
  },
  {
   "cell_type": "code",
   "execution_count": 239,
   "id": "f070753f-f468-4c27-a072-8a24bf659b38",
   "metadata": {},
   "outputs": [
    {
     "data": {
      "text/plain": [
       "(673, 283)"
      ]
     },
     "execution_count": 239,
     "metadata": {},
     "output_type": "execute_result"
    }
   ],
   "source": [
    "# fake\n",
    "rule_pred = pred\n",
    "rule_pred.shape"
   ]
  },
  {
   "cell_type": "code",
   "execution_count": 240,
   "id": "56d066b7-11cd-4b3c-b9c5-a0e2894f954a",
   "metadata": {},
   "outputs": [
    {
     "data": {
      "text/plain": [
       "(673, 283)"
      ]
     },
     "execution_count": 240,
     "metadata": {},
     "output_type": "execute_result"
    }
   ],
   "source": [
    "avg_pred = 0.2 * ridge_pred + 0.8 * rule_pred\n",
    "avg_pred.shape"
   ]
  },
  {
   "cell_type": "markdown",
   "id": "82901e3d-a2bd-40c0-a5ee-678fe296018e",
   "metadata": {},
   "source": [
    "### Stacking"
   ]
  },
  {
   "attachments": {
    "da3d6475-0db6-4311-909f-e89359a9de53.png": {
     "image/png": "[encoded data removed]"
    }
   },
   "cell_type": "markdown",
   "id": "c8498a04-c840-4845-87b2-4760a7c63068",
   "metadata": {},
   "source": [
    "![截屏2024-10-09 10.20.23.png](attachment:da3d6475-0db6-4311-909f-e89359a9de53.png)"
   ]
  },
  {
   "cell_type": "code",
   "execution_count": 265,
   "id": "cbfa1588-bcfc-4bf6-80f4-35e74d371abb",
   "metadata": {},
   "outputs": [],
   "source": [
    "from sklearn.model_selection import KFold\n",
    "from sklearn.linear_model import LinearRegression"
   ]
  },
  {
   "cell_type": "code",
   "execution_count": 250,
   "id": "b70972a2-0468-422e-a80a-bb4d0b52db54",
   "metadata": {},
   "outputs": [],
   "source": [
    "def do_cv(model, X_train, Y_train, X_test, nfold=5):\n",
    "    kfold = KFold(n_splits=nfold)\n",
    "    indices = np.arange(X_train.shape[0])\n",
    "    oof = np.empty_like(Y_train, dtype=np.float32)\n",
    "    pred = np.zeros((X_test.shape[0], Y_train.shape[1]), dtype=np.float32)\n",
    "    for trn_idx, val_idx in kfold.split(indices):\n",
    "        model.fit(X_train[trn_idx], Y_train[trn_idx])\n",
    "        oof[val_idx] = model.predict(X_train[val_idx])\n",
    "        pred += model.predict(X_test) / nfold\n",
    "    \n",
    "    sigma_pred = mean_squared_error(Y_train, oof, squared=False)\n",
    "    score = get_cv_score(oof, sigma_pred)\n",
    "    return score, oof, pred"
   ]
  },
  {
   "cell_type": "code",
   "execution_count": 251,
   "id": "9983748c-6e54-42b0-892b-e5af62b38b34",
   "metadata": {},
   "outputs": [],
   "source": [
    "model = Ridge(9.17e-5)\n",
    "X_test = X_train  # fake"
   ]
  },
  {
   "cell_type": "code",
   "execution_count": 255,
   "id": "4d87cfdc-2c98-4b49-806a-13fbe021462f",
   "metadata": {},
   "outputs": [],
   "source": [
    "ridge_score, ridge_oof, ridge_pred = do_cv(model, X_train, Y_train, X_test)"
   ]
  },
  {
   "cell_type": "code",
   "execution_count": 256,
   "id": "93c59e99-8b35-4329-ab50-33212edfd1f1",
   "metadata": {},
   "outputs": [
    {
     "data": {
      "text/plain": [
       "0.5934660853335351"
      ]
     },
     "execution_count": 256,
     "metadata": {},
     "output_type": "execute_result"
    }
   ],
   "source": [
    "ridge_score"
   ]
  },
  {
   "cell_type": "code",
   "execution_count": 257,
   "id": "9e8a587f-572b-4742-af62-d3d605e688ff",
   "metadata": {},
   "outputs": [
    {
     "data": {
      "text/plain": [
       "((673, 283), (673, 283))"
      ]
     },
     "execution_count": 257,
     "metadata": {},
     "output_type": "execute_result"
    }
   ],
   "source": [
    "ridge_oof.shape, ridge_pred.shape"
   ]
  },
  {
   "cell_type": "code",
   "execution_count": null,
   "id": "63572ea2-130e-4594-a81b-ec951601295a",
   "metadata": {},
   "outputs": [],
   "source": []
  },
  {
   "cell_type": "code",
   "execution_count": 259,
   "id": "13be28e3-1832-4a48-ae7b-520c15140882",
   "metadata": {},
   "outputs": [],
   "source": [
    "model = KNeighborsRegressor()\n",
    "X_test = X_train  # fake"
   ]
  },
  {
   "cell_type": "code",
   "execution_count": 260,
   "id": "873ac664-504e-4971-af87-4d0f90df3499",
   "metadata": {},
   "outputs": [],
   "source": [
    "knn_score, knn_oof, knn_pred = do_cv(model, X_train, Y_train, X_test)"
   ]
  },
  {
   "cell_type": "code",
   "execution_count": 261,
   "id": "e2974a82-2493-414f-a76f-0db9e1c34bc7",
   "metadata": {},
   "outputs": [
    {
     "data": {
      "text/plain": [
       "0.447246575245459"
      ]
     },
     "execution_count": 261,
     "metadata": {},
     "output_type": "execute_result"
    }
   ],
   "source": [
    "knn_score"
   ]
  },
  {
   "cell_type": "code",
   "execution_count": 262,
   "id": "9b629f00-4e13-41ab-b744-2aa21d36b5e8",
   "metadata": {},
   "outputs": [
    {
     "data": {
      "text/plain": [
       "((673, 283), (673, 283))"
      ]
     },
     "execution_count": 262,
     "metadata": {},
     "output_type": "execute_result"
    }
   ],
   "source": [
    "knn_oof.shape, knn_pred.shape"
   ]
  },
  {
   "cell_type": "code",
   "execution_count": null,
   "id": "dc3dcb8a-992a-4109-96ce-3fb8f2df2bfa",
   "metadata": {},
   "outputs": [],
   "source": []
  },
  {
   "cell_type": "code",
   "execution_count": 264,
   "id": "e48ebad3-ee84-4a54-bb96-12faf0c2eb7d",
   "metadata": {},
   "outputs": [],
   "source": [
    "stack_model = LinearRegression()"
   ]
  },
  {
   "cell_type": "code",
   "execution_count": 266,
   "id": "b5515f49-8d64-4e25-94f4-14af285b5949",
   "metadata": {},
   "outputs": [
    {
     "data": {
      "text/plain": [
       "(673, 566)"
      ]
     },
     "execution_count": 266,
     "metadata": {},
     "output_type": "execute_result"
    }
   ],
   "source": [
    "oof_feat = np.column_stack([ridge_oof, knn_oof])\n",
    "oof_feat.shape"
   ]
  },
  {
   "cell_type": "code",
   "execution_count": 267,
   "id": "02f7f2ed-d839-4b93-a159-5cf805e36e73",
   "metadata": {},
   "outputs": [
    {
     "data": {
      "text/html": [
       "<style>#sk-container-id-3 {color: black;}#sk-container-id-3 pre{padding: 0;}#sk-container-id-3 div.sk-toggleable {background-color: white;}#sk-container-id-3 label.sk-toggleable__label {cursor: pointer;display: block;width: 100%;margin-bottom: 0;padding: 0.3em;box-sizing: border-box;text-align: center;}#sk-container-id-3 label.sk-toggleable__label-arrow:before {content: \"▸\";float: left;margin-right: 0.25em;color: #696969;}#sk-container-id-3 label.sk-toggleable__label-arrow:hover:before {color: black;}#sk-container-id-3 div.sk-estimator:hover label.sk-toggleable__label-arrow:before {color: black;}#sk-container-id-3 div.sk-toggleable__content {max-height: 0;max-width: 0;overflow: hidden;text-align: left;background-color: #f0f8ff;}#sk-container-id-3 div.sk-toggleable__content pre {margin: 0.2em;color: black;border-radius: 0.25em;background-color: #f0f8ff;}#sk-container-id-3 input.sk-toggleable__control:checked~div.sk-toggleable__content {max-height: 200px;max-width: 100%;overflow: auto;}#sk-container-id-3 input.sk-toggleable__control:checked~label.sk-toggleable__label-arrow:before {content: \"▾\";}#sk-container-id-3 div.sk-estimator input.sk-toggleable__control:checked~label.sk-toggleable__label {background-color: #d4ebff;}#sk-container-id-3 div.sk-label input.sk-toggleable__control:checked~label.sk-toggleable__label {background-color: #d4ebff;}#sk-container-id-3 input.sk-hidden--visually {border: 0;clip: rect(1px 1px 1px 1px);clip: rect(1px, 1px, 1px, 1px);height: 1px;margin: -1px;overflow: hidden;padding: 0;position: absolute;width: 1px;}#sk-container-id-3 div.sk-estimator {font-family: monospace;background-color: #f0f8ff;border: 1px dotted black;border-radius: 0.25em;box-sizing: border-box;margin-bottom: 0.5em;}#sk-container-id-3 div.sk-estimator:hover {background-color: #d4ebff;}#sk-container-id-3 div.sk-parallel-item::after {content: \"\";width: 100%;border-bottom: 1px solid gray;flex-grow: 1;}#sk-container-id-3 div.sk-label:hover label.sk-toggleable__label {background-color: #d4ebff;}#sk-container-id-3 div.sk-serial::before {content: \"\";position: absolute;border-left: 1px solid gray;box-sizing: border-box;top: 0;bottom: 0;left: 50%;z-index: 0;}#sk-container-id-3 div.sk-serial {display: flex;flex-direction: column;align-items: center;background-color: white;padding-right: 0.2em;padding-left: 0.2em;position: relative;}#sk-container-id-3 div.sk-item {position: relative;z-index: 1;}#sk-container-id-3 div.sk-parallel {display: flex;align-items: stretch;justify-content: center;background-color: white;position: relative;}#sk-container-id-3 div.sk-item::before, #sk-container-id-3 div.sk-parallel-item::before {content: \"\";position: absolute;border-left: 1px solid gray;box-sizing: border-box;top: 0;bottom: 0;left: 50%;z-index: -1;}#sk-container-id-3 div.sk-parallel-item {display: flex;flex-direction: column;z-index: 1;position: relative;background-color: white;}#sk-container-id-3 div.sk-parallel-item:first-child::after {align-self: flex-end;width: 50%;}#sk-container-id-3 div.sk-parallel-item:last-child::after {align-self: flex-start;width: 50%;}#sk-container-id-3 div.sk-parallel-item:only-child::after {width: 0;}#sk-container-id-3 div.sk-dashed-wrapped {border: 1px dashed gray;margin: 0 0.4em 0.5em 0.4em;box-sizing: border-box;padding-bottom: 0.4em;background-color: white;}#sk-container-id-3 div.sk-label label {font-family: monospace;font-weight: bold;display: inline-block;line-height: 1.2em;}#sk-container-id-3 div.sk-label-container {text-align: center;}#sk-container-id-3 div.sk-container {/* jupyter's `normalize.less` sets `[hidden] { display: none; }` but bootstrap.min.css set `[hidden] { display: none !important; }` so we also need the `!important` here to be able to override the default hidden behavior on the sphinx rendered scikit-learn.org. See: https://github.com/scikit-learn/scikit-learn/issues/21755 */display: inline-block !important;position: relative;}#sk-container-id-3 div.sk-text-repr-fallback {display: none;}</style><div id=\"sk-container-id-3\" class=\"sk-top-container\"><div class=\"sk-text-repr-fallback\"><pre>LinearRegression()</pre><b>In a Jupyter environment, please rerun this cell to show the HTML representation or trust the notebook. <br />On GitHub, the HTML representation is unable to render, please try loading this page with nbviewer.org.</b></div><div class=\"sk-container\" hidden><div class=\"sk-item\"><div class=\"sk-estimator sk-toggleable\"><input class=\"sk-toggleable__control sk-hidden--visually\" id=\"sk-estimator-id-3\" type=\"checkbox\" checked><label for=\"sk-estimator-id-3\" class=\"sk-toggleable__label sk-toggleable__label-arrow\">LinearRegression</label><div class=\"sk-toggleable__content\"><pre>LinearRegression()</pre></div></div></div></div></div>"
      ],
      "text/plain": [
       "LinearRegression()"
      ]
     },
     "execution_count": 267,
     "metadata": {},
     "output_type": "execute_result"
    }
   ],
   "source": [
    "stack_model.fit(oof_feat, Y_train)"
   ]
  },
  {
   "cell_type": "code",
   "execution_count": 268,
   "id": "4c9f567b-961c-442d-9779-1206ce8b3bed",
   "metadata": {},
   "outputs": [
    {
     "data": {
      "text/plain": [
       "(673, 566)"
      ]
     },
     "execution_count": 268,
     "metadata": {},
     "output_type": "execute_result"
    }
   ],
   "source": [
    "test_feat = np.column_stack([ridge_pred, knn_pred])\n",
    "test_feat.shape"
   ]
  },
  {
   "cell_type": "code",
   "execution_count": 269,
   "id": "0e269bcd-5443-449d-882b-54a1ed009a21",
   "metadata": {},
   "outputs": [],
   "source": [
    "stack_pred = stack_model.predict(test_feat)"
   ]
  },
  {
   "cell_type": "code",
   "execution_count": 270,
   "id": "18609610-81f3-47d1-a4bf-04b460e011f1",
   "metadata": {},
   "outputs": [
    {
     "data": {
      "text/plain": [
       "(673, 283)"
      ]
     },
     "execution_count": 270,
     "metadata": {},
     "output_type": "execute_result"
    }
   ],
   "source": [
    "stack_pred.shape"
   ]
  },
  {
   "cell_type": "code",
   "execution_count": null,
   "id": "5a3c2c9c-3de4-4a28-9393-8de2dcb02137",
   "metadata": {},
   "outputs": [],
   "source": []
  }
 ],
 "metadata": {
  "kernelspec": {
   "display_name": "Python 3 (ipykernel)",
   "language": "python",
   "name": "python3"
  },
  "language_info": {
   "codemirror_mode": {
    "name": "ipython",
    "version": 3
   },
   "file_extension": ".py",
   "mimetype": "text/x-python",
   "name": "python",
   "nbconvert_exporter": "python",
   "pygments_lexer": "ipython3",
   "version": "3.8.0"
  }
 },
 "nbformat": 4,
 "nbformat_minor": 5
}
