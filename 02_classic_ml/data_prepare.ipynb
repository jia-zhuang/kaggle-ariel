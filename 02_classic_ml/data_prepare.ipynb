{
 "cells": [
  {
   "cell_type": "code",
   "execution_count": 1,
   "id": "d5008498-720b-45e3-82eb-d3d761388b80",
   "metadata": {},
   "outputs": [],
   "source": [
    "from pathlib import Path\n",
    "import pandas as pd\n",
    "import numpy as np\n",
    "import polars as pl\n",
    "import matplotlib.pyplot as plt\n",
    "%matplotlib inline\n",
    "import seaborn as sns\n",
    "\n",
    "from astropy.stats import sigma_clip"
   ]
  },
  {
   "cell_type": "code",
   "execution_count": 2,
   "id": "c4848a67-a02f-4e3f-b304-db12091571d9",
   "metadata": {},
   "outputs": [],
   "source": [
    "DEBUG = False\n",
    "\n",
    "DATA_ROOT = '../input/'\n",
    "SPLIT = 'train'"
   ]
  },
  {
   "cell_type": "code",
   "execution_count": 3,
   "id": "8ebd604d-ec7a-4e97-af9b-68852a96b71c",
   "metadata": {},
   "outputs": [],
   "source": [
    "sensor_sizes_dict = {\n",
    "    \"AIRS-CH0\": [[11250, 32, 356], [32, 356]],\n",
    "    \"FGS1\": [[135000, 32, 32], [32, 32]],\n",
    "}  # input, mask"
   ]
  },
  {
   "cell_type": "code",
   "execution_count": 4,
   "id": "24149674-64d2-4df3-844d-d4ff79313ed0",
   "metadata": {},
   "outputs": [
    {
     "name": "stdout",
     "output_type": "stream",
     "text": [
      "Total num of examples: 673\n"
     ]
    }
   ],
   "source": [
    "adc_info = pd.read_csv(f'{DATA_ROOT}/{SPLIT}_adc_info.csv', index_col='planet_id')\n",
    "print('Total num of examples:', adc_info.shape[0])\n",
    "\n",
    "if DEBUG:\n",
    "    adc_info = adc_info.head(32)\n",
    "    print('DEBUG, only use 32 examples!')"
   ]
  },
  {
   "cell_type": "code",
   "execution_count": 5,
   "id": "7d697327-5a72-4201-b4d1-9cdc52f58788",
   "metadata": {},
   "outputs": [],
   "source": [
    "axis_info = pd.read_parquet(f'{DATA_ROOT}/axis_info.parquet')"
   ]
  },
  {
   "cell_type": "code",
   "execution_count": 6,
   "id": "efaaeb66-2d7f-4a63-82e9-68f40186c0a8",
   "metadata": {},
   "outputs": [],
   "source": [
    "def read_signal_data(planet_id, sensor):\n",
    "    ''' sensor: AIRS-CH0 or FGS1\n",
    "    '''\n",
    "    signal = pd.read_parquet(f'{DATA_ROOT}/{SPLIT}/{planet_id}/{sensor}_signal.parquet', engine='pyarrow')\n",
    "    dark = pd.read_parquet(f'{DATA_ROOT}/{SPLIT}/{planet_id}/{sensor}_calibration/dark.parquet', engine='pyarrow')\n",
    "    dead = pd.read_parquet(f'{DATA_ROOT}/{SPLIT}/{planet_id}/{sensor}_calibration/dead.parquet', engine='pyarrow')\n",
    "    flat = pd.read_parquet(f'{DATA_ROOT}/{SPLIT}/{planet_id}/{sensor}_calibration/flat.parquet', engine='pyarrow')\n",
    "    linear_corr = pd.read_parquet(f'{DATA_ROOT}/{SPLIT}/{planet_id}/{sensor}_calibration/linear_corr.parquet', engine='pyarrow')\n",
    "    read = pd.read_parquet(f'{DATA_ROOT}/{SPLIT}/{planet_id}/{sensor}_calibration/read.parquet', engine='pyarrow')\n",
    "\n",
    "    # reshape\n",
    "    signal = signal.values.reshape(sensor_sizes_dict[sensor][0]).astype(np.float64)\n",
    "    dark = dark.values.reshape(sensor_sizes_dict[sensor][1]).astype(np.float64)\n",
    "    dead = dead.values.reshape(sensor_sizes_dict[sensor][1])  # bool\n",
    "    flat = flat.values.reshape(sensor_sizes_dict[sensor][1]).astype(np.float64)\n",
    "    linear_corr = linear_corr.values.reshape([6] + sensor_sizes_dict[sensor][1]).astype(np.float64)\n",
    "    read = read.values.reshape(sensor_sizes_dict[sensor][1]).astype(np.float64)\n",
    "    \n",
    "    return signal, dark, dead, flat, linear_corr, read"
   ]
  },
  {
   "cell_type": "code",
   "execution_count": 7,
   "id": "05ab6111-f16f-4214-b16e-49df1ecea4be",
   "metadata": {},
   "outputs": [],
   "source": [
    "planet_id = 785834\n",
    "sensor = 'AIRS-CH0'\n",
    "# sensor = 'FGS1'"
   ]
  },
  {
   "cell_type": "code",
   "execution_count": 8,
   "id": "43548d7a-c693-413c-ad38-34402de2f992",
   "metadata": {},
   "outputs": [],
   "source": [
    "signal, dark, dead, flat, linear_corr, read = read_signal_data(planet_id, sensor)"
   ]
  },
  {
   "cell_type": "code",
   "execution_count": 9,
   "id": "abc08e31-0cbf-437f-a96b-e802f65859ab",
   "metadata": {},
   "outputs": [
    {
     "data": {
      "text/plain": [
       "((11250, 32, 356), dtype('float64'))"
      ]
     },
     "execution_count": 9,
     "metadata": {},
     "output_type": "execute_result"
    }
   ],
   "source": [
    "signal.shape, signal.dtype"
   ]
  },
  {
   "cell_type": "code",
   "execution_count": 10,
   "id": "efdb64e1-bdd0-421d-bb56-44704defbed1",
   "metadata": {},
   "outputs": [
    {
     "data": {
      "text/plain": [
       "((32, 356), dtype('float64'))"
      ]
     },
     "execution_count": 10,
     "metadata": {},
     "output_type": "execute_result"
    }
   ],
   "source": [
    "dark.shape, dark.dtype"
   ]
  },
  {
   "cell_type": "code",
   "execution_count": 11,
   "id": "fc4fcbdf-ea02-4d43-8ec9-cf0ab74b5f51",
   "metadata": {},
   "outputs": [
    {
     "data": {
      "text/plain": [
       "((32, 356), dtype('bool'))"
      ]
     },
     "execution_count": 11,
     "metadata": {},
     "output_type": "execute_result"
    }
   ],
   "source": [
    "dead.shape, dead.dtype"
   ]
  },
  {
   "cell_type": "code",
   "execution_count": 12,
   "id": "34a26d1a-936d-4854-82ea-85fcd2bfdb8d",
   "metadata": {},
   "outputs": [
    {
     "data": {
      "text/plain": [
       "((32, 356), dtype('float64'))"
      ]
     },
     "execution_count": 12,
     "metadata": {},
     "output_type": "execute_result"
    }
   ],
   "source": [
    "flat.shape, flat.dtype"
   ]
  },
  {
   "cell_type": "code",
   "execution_count": 13,
   "id": "c439d02b-73d2-4fe2-bdb2-012bc6c60579",
   "metadata": {},
   "outputs": [
    {
     "data": {
      "text/plain": [
       "((6, 32, 356), dtype('float64'))"
      ]
     },
     "execution_count": 13,
     "metadata": {},
     "output_type": "execute_result"
    }
   ],
   "source": [
    "linear_corr.shape, linear_corr.dtype"
   ]
  },
  {
   "cell_type": "code",
   "execution_count": 14,
   "id": "c5a58f24-0883-4340-9346-80aaa216d43c",
   "metadata": {},
   "outputs": [
    {
     "data": {
      "text/plain": [
       "((32, 356), dtype('float64'))"
      ]
     },
     "execution_count": 14,
     "metadata": {},
     "output_type": "execute_result"
    }
   ],
   "source": [
    "read.shape, read.dtype"
   ]
  },
  {
   "cell_type": "markdown",
   "id": "33608c53-85ec-4aab-8e0c-2a38f6226b73",
   "metadata": {},
   "source": [
    "## Calibration"
   ]
  },
  {
   "cell_type": "markdown",
   "id": "53dd7464-d7dd-4ec0-b208-84d9d43c1b8f",
   "metadata": {},
   "source": [
    "### Step 1: Analog-to-Digital Conversion"
   ]
  },
  {
   "cell_type": "markdown",
   "id": "609cad3a-43b5-4c34-ad1d-ae7672e422ef",
   "metadata": {},
   "source": [
    "The Analog-to-Digital Conversion (adc) is performed by the detector to convert the pixel voltage into an integer number. We revert this operation by using the gain and offset for the calibration files 'train_adc_info.csv'.\n",
    "\n",
    "> 模拟到数字转换（adc）由检测器执行，用于将像素电压转换为整数。我们使用增益和偏移量来还原该操作"
   ]
  },
  {
   "cell_type": "code",
   "execution_count": 15,
   "id": "40e23143-b010-451b-ac57-63ca066dd459",
   "metadata": {},
   "outputs": [],
   "source": [
    "def ADC_convert(signal, gain, offset):\n",
    "    signal /= gain\n",
    "    signal += offset\n",
    "    return signal"
   ]
  },
  {
   "cell_type": "code",
   "execution_count": 16,
   "id": "aabc373d-d457-40d8-a530-c348f7d70eb8",
   "metadata": {},
   "outputs": [],
   "source": [
    "def get_gain_offset(planet_id, sensor):\n",
    "    gain = adc_info.loc[planet_id][f'{sensor}_adc_gain']\n",
    "    offset = adc_info.loc[planet_id][f'{sensor}_adc_offset']\n",
    "    return gain, offset"
   ]
  },
  {
   "cell_type": "code",
   "execution_count": 17,
   "id": "6a7669fd-01e1-46be-9330-981d21df9fda",
   "metadata": {},
   "outputs": [],
   "source": [
    "gain, offset = get_gain_offset(planet_id, sensor)"
   ]
  },
  {
   "cell_type": "code",
   "execution_count": 18,
   "id": "38fca1a5-ad2b-4a03-80b2-4b2d7f0c1d7d",
   "metadata": {},
   "outputs": [],
   "source": [
    "signal = ADC_convert(signal, gain, offset)"
   ]
  },
  {
   "cell_type": "code",
   "execution_count": 19,
   "id": "6a1d3183-9928-48b4-92e6-1283cce7ab6c",
   "metadata": {},
   "outputs": [
    {
     "data": {
      "text/plain": [
       "(11250, 32, 356)"
      ]
     },
     "execution_count": 19,
     "metadata": {},
     "output_type": "execute_result"
    }
   ],
   "source": [
    "signal.shape"
   ]
  },
  {
   "cell_type": "markdown",
   "id": "12252e34-6c5a-4e32-84b3-06a94d2ecf80",
   "metadata": {},
   "source": [
    "### Step 2: Mask hot/dead pixel"
   ]
  },
  {
   "cell_type": "markdown",
   "id": "ad5e91a0-1be7-449f-a395-00215dca7cde",
   "metadata": {},
   "source": [
    "The dead pixels map is a map of the pixels that do not respond to light and, thus, can’t be accounted for any calculation. In all these frames the dead pixels are masked using python masked arrays. The bad pixels are thus masked but left uncorrected. Some methods can be used to correct bad-pixels but this task, if needed, is left to the participants.\n",
    "\n",
    "> 坏像素图是那些对光没有反应的像素的分布图，因此在任何计算中不能考虑这些像素。在所有这些帧中，坏像素都使用Python掩码数组进行了掩盖。这些坏像素因此被掩盖但未被修正。有一些方法可以用来修正坏像素，但这项任务（如果需要）将留给参与者处理。"
   ]
  },
  {
   "cell_type": "code",
   "execution_count": 20,
   "id": "80422d9f-af68-41c8-95ef-bfb9cc3f9c9b",
   "metadata": {},
   "outputs": [],
   "source": [
    "def mask_hot_dead(signal, dead, dark):\n",
    "    hot = sigma_clip(dark, sigma=5, maxiters=5).mask\n",
    "    hot = np.tile(hot, (signal.shape[0], 1, 1))\n",
    "    dead = np.tile(dead, (signal.shape[0], 1, 1))\n",
    "\n",
    "    # Set values to np.nan where dead or hot pixels are found\n",
    "    signal[dead] = np.nan\n",
    "    signal[hot] = np.nan\n",
    "    return signal"
   ]
  },
  {
   "cell_type": "code",
   "execution_count": 21,
   "id": "7823e283-4aec-4a39-9994-d9af0f976728",
   "metadata": {},
   "outputs": [
    {
     "data": {
      "text/plain": [
       "0"
      ]
     },
     "execution_count": 21,
     "metadata": {},
     "output_type": "execute_result"
    }
   ],
   "source": [
    "np.isnan(signal).sum()"
   ]
  },
  {
   "cell_type": "code",
   "execution_count": 22,
   "id": "cade0b93-80f1-41e6-b35b-2b9aea8384cf",
   "metadata": {},
   "outputs": [],
   "source": [
    "signal = mask_hot_dead(signal, dead, dark)"
   ]
  },
  {
   "cell_type": "code",
   "execution_count": 23,
   "id": "f20972ce-381b-4375-b3b8-663bc8c9d3a9",
   "metadata": {},
   "outputs": [
    {
     "data": {
      "text/plain": [
       "708750"
      ]
     },
     "execution_count": 23,
     "metadata": {},
     "output_type": "execute_result"
    }
   ],
   "source": [
    "np.isnan(signal).sum()"
   ]
  },
  {
   "cell_type": "markdown",
   "id": "d973defd-3b19-4e04-9f3d-f7b8b8a9b49a",
   "metadata": {},
   "source": [
    "### Step 3: linearity Correction"
   ]
  },
  {
   "cell_type": "markdown",
   "id": "4b9bbc81-d9ea-4007-9658-2401827d6317",
   "metadata": {},
   "source": [
    "The non-linearity of the pixels’ response can be explained as capacitive leakage on the readout electronics of each pixel during the integration time. The number of electrons in the well is proportional to the number of photons that hit the pixel, with a quantum efficiency coefficient. However, the response of the pixel is not linear with the number of electrons in the well. This effect can be described by a polynomial function of the number of electrons actually in the well. The data is provided with calibration files linear_corr.parquet that are the coefficients of the inverse polynomial function and can be used to correct this non-linearity effect.\n",
    "\n",
    "> 像素响应的非线性可以解释为在积分时间内，每个像素的读出电子设备发生的电容泄漏。井中的电子数量与击中像素的光子数量成正比，其中包含一个量子效率系数。然而，像素的响应与井中的电子数量并不是线性关系。这个效应可以用井中实际电子数量的多项式函数来描述。数据提供了校准文件 linear_corr.parquet，这些文件包含了逆多项式函数的系数，可以用于校正这种非线性效应。"
   ]
  },
  {
   "cell_type": "code",
   "execution_count": 24,
   "id": "2ed387fd-a1c4-4162-8ecf-88447f364b42",
   "metadata": {},
   "outputs": [],
   "source": [
    "def apply_linear_corr(c, signal):\n",
    "    assert c.shape[0] == 6  # Ensure the polynomial is of degree 5\n",
    "    return (\n",
    "        (((c[5] * signal + c[4]) * signal + c[3]) * signal + c[2]) * signal + c[1]\n",
    "    ) * signal + c[0]"
   ]
  },
  {
   "cell_type": "code",
   "execution_count": 25,
   "id": "f4c53a56-93d0-4bfb-8cd9-69228b70253b",
   "metadata": {},
   "outputs": [
    {
     "data": {
      "text/plain": [
       "(70089.18442311407, -778.9165332747325, 786.2558964499108)"
      ]
     },
     "execution_count": 25,
     "metadata": {},
     "output_type": "execute_result"
    }
   ],
   "source": [
    "np.nanmax(signal), np.nanmin(signal), np.nanmean(signal)"
   ]
  },
  {
   "cell_type": "code",
   "execution_count": 26,
   "id": "36c8cc3f-8027-442a-9b8c-0f7aa8560abc",
   "metadata": {},
   "outputs": [],
   "source": [
    "signal = apply_linear_corr(linear_corr, signal)"
   ]
  },
  {
   "cell_type": "code",
   "execution_count": 27,
   "id": "ef8bb27e-483f-4a54-a1ee-d3af18eda3cd",
   "metadata": {},
   "outputs": [
    {
     "data": {
      "text/plain": [
       "(73434.73312296864, -1256.0400117285885, 793.5201280040981)"
      ]
     },
     "execution_count": 27,
     "metadata": {},
     "output_type": "execute_result"
    }
   ],
   "source": [
    "np.nanmax(signal), np.nanmin(signal), np.nanmean(signal)"
   ]
  },
  {
   "cell_type": "markdown",
   "id": "1df7ce5d-af0c-4545-9ace-169d374d1631",
   "metadata": {},
   "source": [
    "### Step 4: dark current subtraction"
   ]
  },
  {
   "cell_type": "markdown",
   "id": "783dd832-8dcd-4b68-a1ce-e44bef96d0df",
   "metadata": {},
   "source": [
    "The data provided include calibration for dark current estimation, which can be used to pre-process the observations. Dark current represents a constant signal that accumulates in each pixel during the integration time, independent of the incoming light. To obtain the corrected image, the following conventional approach is applied: The data provided include calibration files such as dark frames or dead pixels' maps. They can be used to pre-process the observations. The dark frame is a map of the detector response to a very short exposure time, to correct for the dark current of the detector.\n",
    "$$\\text{image - dark} \\times \\Delta t $$ \n",
    "The corrected image is conventionally obtained via the following: where the dark current map is first corrected for the dead pixel.\n",
    "\n",
    "> 提供的数据包括用于暗电流估计的校准，这些校准可以用于预处理观测结果。暗电流表示在积分时间内每个像素中积累的恒定信号，与进入的光无关。为了获得校正后的图像，通常采用以下方法：提供的数据包括校准文件，如暗场帧或坏点图。这些文件可以用于预处理观测结果。暗场帧是一张非常短曝光时间的探测器响应图，用于校正探测器的暗电流。校正后的图像通常通过以下方式获得：首先对坏点修正暗电流图，然后通过公式$$\\text{image - dark} \\times \\Delta t $$ 获得校正后的图像。"
   ]
  },
  {
   "cell_type": "code",
   "execution_count": 28,
   "id": "b5916b9a-09ed-4d02-ab7e-9c026e87daee",
   "metadata": {},
   "outputs": [],
   "source": [
    "def clean_dark(signal, dark, dt):\n",
    "    dark = np.tile(dark, (signal.shape[0], 1, 1))\n",
    "    signal -= dark * dt[:, np.newaxis, np.newaxis]\n",
    "    return signal"
   ]
  },
  {
   "cell_type": "code",
   "execution_count": 29,
   "id": "696b8c2e-5cce-4a74-9246-ae259bb9e502",
   "metadata": {},
   "outputs": [],
   "source": [
    "dt_airs = axis_info[\"AIRS-CH0-integration_time\"].dropna().values\n",
    "dt_fgs1 = np.ones(sensor_sizes_dict['FGS1'][0][0]) * 0.1"
   ]
  },
  {
   "cell_type": "code",
   "execution_count": 30,
   "id": "fcb942bd-bed6-4111-9d19-163a2ca70e4f",
   "metadata": {},
   "outputs": [],
   "source": [
    "dt = dt_airs if sensor == 'AIRS-CH0' else dt_fgs1\n",
    "dt[1::2] += 0.1"
   ]
  },
  {
   "cell_type": "code",
   "execution_count": 31,
   "id": "f6d73675-5a4d-4890-9240-8a29cb5dcfc1",
   "metadata": {},
   "outputs": [],
   "source": [
    "signal = clean_dark(signal, dark, dt)"
   ]
  },
  {
   "cell_type": "markdown",
   "id": "c8ef0505-846e-4220-a88b-896bf853ba04",
   "metadata": {},
   "source": [
    "### Step 5: Get Correlated Double Sampling (CDS)"
   ]
  },
  {
   "cell_type": "markdown",
   "id": "d2028fa2-0bcc-432f-ae29-5db218e6b528",
   "metadata": {},
   "source": [
    "The science frames are alternating between the start of the exposure and the end of the exposure. The lecture scheme is a ramp with a double sampling, called Correlated Double Sampling (CDS), the detector is read twice, once at the start of the exposure and once at the end of the exposure. The final CDS is the difference (End of exposure) - (Start of exposure).\n",
    "\n",
    "> 科学帧在曝光的开始和结束时交替进行。读取方案是带有双重采样的斜坡，这被称为相关双重采样（Correlated Double Sampling, CDS）。探测器在曝光开始和结束时各读取一次。最终的CDS值是曝光结束时的读取值减去曝光开始时的读取值。"
   ]
  },
  {
   "cell_type": "code",
   "execution_count": 32,
   "id": "2077f34b-f3ca-4c45-ad1f-fce41901b9f7",
   "metadata": {},
   "outputs": [],
   "source": [
    "def get_cds(signal):\n",
    "    cds = signal[1::2, :, :] - signal[::2, :, :]\n",
    "    return cds"
   ]
  },
  {
   "cell_type": "code",
   "execution_count": 33,
   "id": "39bd2e27-b1e9-43e2-a5cc-15f34828132b",
   "metadata": {},
   "outputs": [
    {
     "data": {
      "text/plain": [
       "(11250, 32, 356)"
      ]
     },
     "execution_count": 33,
     "metadata": {},
     "output_type": "execute_result"
    }
   ],
   "source": [
    "signal.shape"
   ]
  },
  {
   "cell_type": "code",
   "execution_count": 34,
   "id": "5a59c00c-55d1-4626-8adb-c0e5cbf9e2c8",
   "metadata": {},
   "outputs": [],
   "source": [
    "signal = get_cds(signal)"
   ]
  },
  {
   "cell_type": "code",
   "execution_count": 35,
   "id": "8e2428c8-5d12-4b3d-b53a-7db1b9900b2f",
   "metadata": {},
   "outputs": [
    {
     "data": {
      "text/plain": [
       "(5625, 32, 356)"
      ]
     },
     "execution_count": 35,
     "metadata": {},
     "output_type": "execute_result"
    }
   ],
   "source": [
    "signal.shape"
   ]
  },
  {
   "cell_type": "markdown",
   "id": "f473885f-2810-4b34-8394-f666c1654f26",
   "metadata": {},
   "source": [
    "### Step 6: Flat Field Correction"
   ]
  },
  {
   "cell_type": "markdown",
   "id": "55945223-d5cc-48fa-ae77-7ad4ff4b6c1f",
   "metadata": {},
   "source": [
    "The flat field is a map of the detector response to uniform illumination, to correct for the pixel-to-pixel variations of the detector, for example the different quantum efficiencies of each pixel.\n",
    "\n",
    "> 平场图是探测器对均匀照明响应的映射，用于校正探测器中像素与像素之间的变异，例如每个像素的不同量子效率。"
   ]
  },
  {
   "cell_type": "code",
   "execution_count": 36,
   "id": "15419678-cfd5-4440-a1b6-daf36c0f4877",
   "metadata": {},
   "outputs": [],
   "source": [
    "def correct_flat_field(flat, signal):\n",
    "    return signal / flat"
   ]
  },
  {
   "cell_type": "code",
   "execution_count": 37,
   "id": "a38f001b-b80c-4577-b81c-3588c21bb2dd",
   "metadata": {},
   "outputs": [],
   "source": [
    "signal = correct_flat_field(flat, signal)"
   ]
  },
  {
   "cell_type": "code",
   "execution_count": 38,
   "id": "4fbd1d1c-078f-4948-a045-7c0fc4969cea",
   "metadata": {},
   "outputs": [
    {
     "data": {
      "text/plain": [
       "(5625, 32, 356)"
      ]
     },
     "execution_count": 38,
     "metadata": {},
     "output_type": "execute_result"
    }
   ],
   "source": [
    "signal.shape"
   ]
  },
  {
   "cell_type": "markdown",
   "id": "4a6f3831-c56f-45d8-b805-776eedd085a3",
   "metadata": {},
   "source": [
    "### 组合起来"
   ]
  },
  {
   "cell_type": "code",
   "execution_count": 39,
   "id": "9127fd27-c04b-4cd4-9ca4-8ac172f6f0b1",
   "metadata": {},
   "outputs": [],
   "source": [
    "def preprocess_signal_data(planet_id, reduction=True):\n",
    "    \n",
    "    dt_airs = axis_info[\"AIRS-CH0-integration_time\"].dropna().values\n",
    "    dt_fgs1 = np.ones(sensor_sizes_dict['FGS1'][0][0]) * 0.1\n",
    "    \n",
    "    res = []\n",
    "    for sensor in [\"FGS1\", \"AIRS-CH0\"]:\n",
    "        signal, dark, dead, flat, linear_corr, read = read_signal_data(planet_id, sensor)\n",
    "        \n",
    "        # step1: ADC\n",
    "        gain, offset = get_gain_offset(planet_id, sensor)\n",
    "        signal = ADC_convert(signal, gain, offset)\n",
    "        \n",
    "        # step2: Mask hot/dead pixel\n",
    "        signal = mask_hot_dead(signal, dead, dark)\n",
    "        \n",
    "        # step3: linearity Correction\n",
    "        signal = apply_linear_corr(linear_corr, signal)\n",
    "        \n",
    "        # step4: dark current subtraction\n",
    "        dt = dt_airs if sensor == 'AIRS-CH0' else dt_fgs1\n",
    "        dt[1::2] += 0.1\n",
    "        signal = clean_dark(signal, dark, dt)\n",
    "        \n",
    "        # step5: CDS\n",
    "        signal = get_cds(signal)\n",
    "        \n",
    "        # step6: Flat Field Correction\n",
    "        signal = correct_flat_field(flat, signal)\n",
    "\n",
    "        # step7: Mean reduction\n",
    "        if reduction:\n",
    "            if sensor == 'AIRS-CH0':\n",
    "                signal = np.nanmean(signal, axis=1).astype(np.float32)\n",
    "            else:\n",
    "                signal = np.nanmean(signal, axis=(1, 2)).astype(np.float32)\n",
    "        \n",
    "        res.append(signal)\n",
    "    \n",
    "    return res  # FGS1, AIRS-CH0"
   ]
  },
  {
   "cell_type": "markdown",
   "id": "32166602-367e-45a1-8de8-b18c2e8842ae",
   "metadata": {},
   "source": [
    "## Process"
   ]
  },
  {
   "cell_type": "code",
   "execution_count": 40,
   "id": "99383191-3af7-496e-b80e-5a4f109ea13a",
   "metadata": {},
   "outputs": [],
   "source": [
    "import os\n",
    "from tqdm.auto import tqdm\n",
    "from concurrent.futures import ProcessPoolExecutor"
   ]
  },
  {
   "cell_type": "code",
   "execution_count": 41,
   "id": "97d65403-7b07-4d95-bd22-d9a9000b3e29",
   "metadata": {},
   "outputs": [],
   "source": [
    "os.mkdir('train_processed')"
   ]
  },
  {
   "cell_type": "code",
   "execution_count": 42,
   "id": "048210a0-6535-4901-b356-abcab1caad4e",
   "metadata": {},
   "outputs": [],
   "source": [
    "def task(planet_id):\n",
    "    fgs1_signal, airs_signal = preprocess_signal_data(planet_id)\n",
    "    np.savez(f'train_processed/{planet_id}.npz', fgs1_signal=fgs1_signal, airs_signal=airs_signal)"
   ]
  },
  {
   "cell_type": "code",
   "execution_count": 43,
   "id": "4e7be329-e608-42eb-9ed4-7ef6bceeba6b",
   "metadata": {},
   "outputs": [
    {
     "data": {
      "application/vnd.jupyter.widget-view+json": {
       "model_id": "41dfea4bacb74e38a1e633902ff7c119",
       "version_major": 2,
       "version_minor": 0
      },
      "text/plain": [
       "  0%|          | 0/673 [00:00<?, ?it/s]"
      ]
     },
     "metadata": {},
     "output_type": "display_data"
    }
   ],
   "source": [
    "with ProcessPoolExecutor(32) as exe:\n",
    "    list( tqdm(exe.map(task, adc_info.index.tolist()), total=adc_info.shape[0]) )"
   ]
  },
  {
   "cell_type": "code",
   "execution_count": 46,
   "id": "8d752627-27a8-43cc-9665-49e3d278e027",
   "metadata": {},
   "outputs": [
    {
     "data": {
      "text/plain": [
       "{'AIRS-CH0': [[11250, 32, 356], [32, 356]],\n",
       " 'FGS1': [[135000, 32, 32], [32, 32]]}"
      ]
     },
     "execution_count": 46,
     "metadata": {},
     "output_type": "execute_result"
    }
   ],
   "source": [
    "sensor_sizes_dict"
   ]
  },
  {
   "cell_type": "code",
   "execution_count": 47,
   "id": "f31b194b-e2ef-42f1-9da1-4a8aab0687d8",
   "metadata": {},
   "outputs": [
    {
     "data": {
      "text/plain": [
       "(673, 67500, 32, 32)"
      ]
     },
     "execution_count": 47,
     "metadata": {},
     "output_type": "execute_result"
    }
   ],
   "source": [
    "(adc_info.shape[0], sensor_sizes_dict['FGS1'][0][0] // 2, *sensor_sizes_dict['FGS1'][0][1:])"
   ]
  },
  {
   "cell_type": "code",
   "execution_count": 49,
   "id": "065a74e3-b696-4a6b-ae95-791e7e57d74d",
   "metadata": {},
   "outputs": [
    {
     "data": {
      "text/plain": [
       "(67500,)"
      ]
     },
     "execution_count": 49,
     "metadata": {},
     "output_type": "execute_result"
    }
   ],
   "source": [
    "fgs1_signal.shape"
   ]
  },
  {
   "cell_type": "code",
   "execution_count": 50,
   "id": "708dabdd-d0ef-4425-b987-622f041c5ea1",
   "metadata": {},
   "outputs": [
    {
     "data": {
      "text/plain": [
       "(5625, 356)"
      ]
     },
     "execution_count": 50,
     "metadata": {},
     "output_type": "execute_result"
    }
   ],
   "source": [
    "airs_signal.shape"
   ]
  },
  {
   "cell_type": "code",
   "execution_count": 51,
   "id": "8541aaad-80f8-41a4-afe2-b7f8a85390a7",
   "metadata": {},
   "outputs": [
    {
     "data": {
      "application/vnd.jupyter.widget-view+json": {
       "model_id": "6b1ca27f9bbe436b9bbdcb8750faa360",
       "version_major": 2,
       "version_minor": 0
      },
      "text/plain": [
       "  0%|          | 0/673 [00:00<?, ?it/s]"
      ]
     },
     "metadata": {},
     "output_type": "display_data"
    }
   ],
   "source": [
    "f_raw_train = []\n",
    "a_raw_train = []\n",
    "for planet_id in tqdm(adc_info.index):\n",
    "    signal_data = np.load(f'train_processed/{planet_id}.npz')\n",
    "    fgs1_signal = signal_data['fgs1_signal']\n",
    "    airs_signal = signal_data['airs_signal']\n",
    "    f_raw_train.append(fgs1_signal)\n",
    "    a_raw_train.append(airs_signal)"
   ]
  },
  {
   "cell_type": "code",
   "execution_count": 64,
   "id": "d0f1f34f-326e-4dd6-9665-71bcf9f25e0c",
   "metadata": {},
   "outputs": [
    {
     "data": {
      "text/plain": [
       "(673, 67500)"
      ]
     },
     "execution_count": 64,
     "metadata": {},
     "output_type": "execute_result"
    }
   ],
   "source": [
    "f_raw_train = np.stack(f_raw_train, axis=0)\n",
    "f_raw_train.shape"
   ]
  },
  {
   "cell_type": "code",
   "execution_count": 65,
   "id": "d080953b-be97-46c8-9b88-d4d3b9172d11",
   "metadata": {},
   "outputs": [
    {
     "data": {
      "text/plain": [
       "(673, 5625, 356)"
      ]
     },
     "execution_count": 65,
     "metadata": {},
     "output_type": "execute_result"
    }
   ],
   "source": [
    "a_raw_train = np.stack(a_raw_train, axis=0)\n",
    "a_raw_train.shape"
   ]
  },
  {
   "cell_type": "code",
   "execution_count": 66,
   "id": "74236b7a-6fd5-4437-b030-a49f97dd0dc9",
   "metadata": {},
   "outputs": [],
   "source": [
    "np.savez('train_processed.npz', f_raw_train=f_raw_train, a_raw_train=a_raw_train)"
   ]
  },
  {
   "cell_type": "code",
   "execution_count": null,
   "id": "b412d856-360b-4d49-a960-cb43f107ba45",
   "metadata": {},
   "outputs": [],
   "source": []
  }
 ],
 "metadata": {
  "kernelspec": {
   "display_name": "Python 3 (ipykernel)",
   "language": "python",
   "name": "python3"
  },
  "language_info": {
   "codemirror_mode": {
    "name": "ipython",
    "version": 3
   },
   "file_extension": ".py",
   "mimetype": "text/x-python",
   "name": "python",
   "nbconvert_exporter": "python",
   "pygments_lexer": "ipython3",
   "version": "3.8.0"
  }
 },
 "nbformat": 4,
 "nbformat_minor": 5
}
